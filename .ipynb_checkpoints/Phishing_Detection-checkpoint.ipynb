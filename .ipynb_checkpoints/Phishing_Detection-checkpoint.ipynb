{
 "cells": [
  {
   "cell_type": "markdown",
   "id": "9815e588",
   "metadata": {},
   "source": [
    "# Logistic Regression for Fun: Phishing Detection"
   ]
  },
  {
   "cell_type": "code",
   "execution_count": 63,
   "id": "659449eb",
   "metadata": {},
   "outputs": [],
   "source": [
    "import zipfile\n",
    "import pandas as pd\n",
    "import numpy as np\n",
    "import seaborn as sns\n",
    "import matplotlib.pyplot as plt\n",
    "\n",
    "import string\n",
    "import collections as ct\n",
    "\n",
    "import nltk\n",
    "from nltk.tokenize import RegexpTokenizer\n",
    "from nltk.corpus import words\n",
    "from nltk.corpus import wordnet"
   ]
  },
  {
   "cell_type": "code",
   "execution_count": 64,
   "id": "1701d260",
   "metadata": {},
   "outputs": [
    {
     "data": {
      "text/html": [
       "<div>\n",
       "<style scoped>\n",
       "    .dataframe tbody tr th:only-of-type {\n",
       "        vertical-align: middle;\n",
       "    }\n",
       "\n",
       "    .dataframe tbody tr th {\n",
       "        vertical-align: top;\n",
       "    }\n",
       "\n",
       "    .dataframe thead th {\n",
       "        text-align: right;\n",
       "    }\n",
       "</style>\n",
       "<table border=\"1\" class=\"dataframe\">\n",
       "  <thead>\n",
       "    <tr style=\"text-align: right;\">\n",
       "      <th></th>\n",
       "      <th>URL</th>\n",
       "      <th>Label</th>\n",
       "    </tr>\n",
       "  </thead>\n",
       "  <tbody>\n",
       "    <tr>\n",
       "      <th>0</th>\n",
       "      <td>nobell.it/70ffb52d079109dca5664cce6f317373782/...</td>\n",
       "      <td>bad</td>\n",
       "    </tr>\n",
       "    <tr>\n",
       "      <th>1</th>\n",
       "      <td>www.dghjdgf.com/paypal.co.uk/cycgi-bin/webscrc...</td>\n",
       "      <td>bad</td>\n",
       "    </tr>\n",
       "    <tr>\n",
       "      <th>2</th>\n",
       "      <td>serviciosbys.com/paypal.cgi.bin.get-into.herf....</td>\n",
       "      <td>bad</td>\n",
       "    </tr>\n",
       "    <tr>\n",
       "      <th>3</th>\n",
       "      <td>mail.printakid.com/www.online.americanexpress....</td>\n",
       "      <td>bad</td>\n",
       "    </tr>\n",
       "    <tr>\n",
       "      <th>4</th>\n",
       "      <td>thewhiskeydregs.com/wp-content/themes/widescre...</td>\n",
       "      <td>bad</td>\n",
       "    </tr>\n",
       "  </tbody>\n",
       "</table>\n",
       "</div>"
      ],
      "text/plain": [
       "                                                 URL Label\n",
       "0  nobell.it/70ffb52d079109dca5664cce6f317373782/...   bad\n",
       "1  www.dghjdgf.com/paypal.co.uk/cycgi-bin/webscrc...   bad\n",
       "2  serviciosbys.com/paypal.cgi.bin.get-into.herf....   bad\n",
       "3  mail.printakid.com/www.online.americanexpress....   bad\n",
       "4  thewhiskeydregs.com/wp-content/themes/widescre...   bad"
      ]
     },
     "execution_count": 64,
     "metadata": {},
     "output_type": "execute_result"
    }
   ],
   "source": [
    "df = pd.read_csv('phishing_site_urls.csv')\n",
    "\n",
    "df.head()"
   ]
  },
  {
   "cell_type": "code",
   "execution_count": 65,
   "id": "a8207e65",
   "metadata": {},
   "outputs": [
    {
     "data": {
      "text/plain": [
       "549346"
      ]
     },
     "execution_count": 65,
     "metadata": {},
     "output_type": "execute_result"
    }
   ],
   "source": [
    "len(df)"
   ]
  },
  {
   "cell_type": "markdown",
   "id": "6cd0d378",
   "metadata": {},
   "source": [
    "## High Level Exploration and Cleaning of the Data Frame"
   ]
  },
  {
   "cell_type": "markdown",
   "id": "5c43efaf",
   "metadata": {},
   "source": [
    "- here's a url that has some data cleaning code\n",
    "    - https://www.kaggle.com/code/ashishkumarbehera/phishing-site-prediction"
   ]
  },
  {
   "cell_type": "code",
   "execution_count": 66,
   "id": "85ffc491",
   "metadata": {},
   "outputs": [
    {
     "data": {
      "text/plain": [
       "549346"
      ]
     },
     "execution_count": 66,
     "metadata": {},
     "output_type": "execute_result"
    }
   ],
   "source": [
    "len(df)"
   ]
  },
  {
   "cell_type": "markdown",
   "id": "1dc99fd2",
   "metadata": {},
   "source": [
    "- (below) let's create a column where `1` is a URL identified as phishing, and `0` is a \"good\" url."
   ]
  },
  {
   "cell_type": "code",
   "execution_count": 67,
   "id": "6517bc74",
   "metadata": {},
   "outputs": [],
   "source": [
    "df['phishing'] = (df.Label == 'bad').astype(int)"
   ]
  },
  {
   "cell_type": "code",
   "execution_count": 68,
   "id": "f28e5948",
   "metadata": {},
   "outputs": [
    {
     "data": {
      "text/html": [
       "<div>\n",
       "<style scoped>\n",
       "    .dataframe tbody tr th:only-of-type {\n",
       "        vertical-align: middle;\n",
       "    }\n",
       "\n",
       "    .dataframe tbody tr th {\n",
       "        vertical-align: top;\n",
       "    }\n",
       "\n",
       "    .dataframe thead th {\n",
       "        text-align: right;\n",
       "    }\n",
       "</style>\n",
       "<table border=\"1\" class=\"dataframe\">\n",
       "  <thead>\n",
       "    <tr style=\"text-align: right;\">\n",
       "      <th></th>\n",
       "      <th>URL</th>\n",
       "      <th>Label</th>\n",
       "      <th>phishing</th>\n",
       "    </tr>\n",
       "  </thead>\n",
       "  <tbody>\n",
       "    <tr>\n",
       "      <th>0</th>\n",
       "      <td>nobell.it/70ffb52d079109dca5664cce6f317373782/...</td>\n",
       "      <td>bad</td>\n",
       "      <td>1</td>\n",
       "    </tr>\n",
       "    <tr>\n",
       "      <th>10000</th>\n",
       "      <td>paypal.com.us-cgi-bin-webscr-cmd.login.5885d80...</td>\n",
       "      <td>bad</td>\n",
       "      <td>1</td>\n",
       "    </tr>\n",
       "    <tr>\n",
       "      <th>20000</th>\n",
       "      <td>www.cpiano.com/css/login.htm?us.battle.net/log...</td>\n",
       "      <td>bad</td>\n",
       "      <td>1</td>\n",
       "    </tr>\n",
       "    <tr>\n",
       "      <th>30000</th>\n",
       "      <td>buykey.byethost13.com/</td>\n",
       "      <td>bad</td>\n",
       "      <td>1</td>\n",
       "    </tr>\n",
       "    <tr>\n",
       "      <th>40000</th>\n",
       "      <td>www.bjcurio.com/js/index.htm?ref=jgmmabgus.bat...</td>\n",
       "      <td>bad</td>\n",
       "      <td>1</td>\n",
       "    </tr>\n",
       "    <tr>\n",
       "      <th>50000</th>\n",
       "      <td>www.cyberhorse.net.au/csl/</td>\n",
       "      <td>good</td>\n",
       "      <td>0</td>\n",
       "    </tr>\n",
       "    <tr>\n",
       "      <th>60000</th>\n",
       "      <td>www.cse.iitk.ac.in/users/amit/index.html</td>\n",
       "      <td>good</td>\n",
       "      <td>0</td>\n",
       "    </tr>\n",
       "    <tr>\n",
       "      <th>70000</th>\n",
       "      <td>ecnow.com/Internet_Marketing.htm</td>\n",
       "      <td>good</td>\n",
       "      <td>0</td>\n",
       "    </tr>\n",
       "    <tr>\n",
       "      <th>80000</th>\n",
       "      <td>www.fgroupsoft.com/Traysafe/</td>\n",
       "      <td>good</td>\n",
       "      <td>0</td>\n",
       "    </tr>\n",
       "    <tr>\n",
       "      <th>90000</th>\n",
       "      <td>www.xlcus.co.uk/software/acorn/index.shtml#pac...</td>\n",
       "      <td>good</td>\n",
       "      <td>0</td>\n",
       "    </tr>\n",
       "    <tr>\n",
       "      <th>100000</th>\n",
       "      <td>speakproacademy.com/ssh/validate/revalidate.ht...</td>\n",
       "      <td>bad</td>\n",
       "      <td>1</td>\n",
       "    </tr>\n",
       "    <tr>\n",
       "      <th>110000</th>\n",
       "      <td>teksuninsaat.com/wp-includes/ok/ok/</td>\n",
       "      <td>bad</td>\n",
       "      <td>1</td>\n",
       "    </tr>\n",
       "    <tr>\n",
       "      <th>120000</th>\n",
       "      <td>kronpaks.by/misc/bookmark/bookmark</td>\n",
       "      <td>bad</td>\n",
       "      <td>1</td>\n",
       "    </tr>\n",
       "    <tr>\n",
       "      <th>130000</th>\n",
       "      <td>valuecheminc.com/images/banners/portal_bb_br/?...</td>\n",
       "      <td>bad</td>\n",
       "      <td>1</td>\n",
       "    </tr>\n",
       "    <tr>\n",
       "      <th>140000</th>\n",
       "      <td>acanadianfamily.com/2009/11/21/francois-xavier...</td>\n",
       "      <td>good</td>\n",
       "      <td>0</td>\n",
       "    </tr>\n",
       "    <tr>\n",
       "      <th>150000</th>\n",
       "      <td>bleacherreport.com/articles/824088-kansas-city...</td>\n",
       "      <td>good</td>\n",
       "      <td>0</td>\n",
       "    </tr>\n",
       "    <tr>\n",
       "      <th>160000</th>\n",
       "      <td>comedians.jokes.com/ed-byrne/</td>\n",
       "      <td>good</td>\n",
       "      <td>0</td>\n",
       "    </tr>\n",
       "    <tr>\n",
       "      <th>170000</th>\n",
       "      <td>en.wikipedia.org/wiki/1951_NAIA_Men%27s_Divisi...</td>\n",
       "      <td>good</td>\n",
       "      <td>0</td>\n",
       "    </tr>\n",
       "    <tr>\n",
       "      <th>180000</th>\n",
       "      <td>en.wikipedia.org/wiki/Robert_Libman</td>\n",
       "      <td>good</td>\n",
       "      <td>0</td>\n",
       "    </tr>\n",
       "    <tr>\n",
       "      <th>190000</th>\n",
       "      <td>foundation.unh.edu/honor-roll-donors</td>\n",
       "      <td>good</td>\n",
       "      <td>0</td>\n",
       "    </tr>\n",
       "    <tr>\n",
       "      <th>200000</th>\n",
       "      <td>impact.com/</td>\n",
       "      <td>good</td>\n",
       "      <td>0</td>\n",
       "    </tr>\n",
       "    <tr>\n",
       "      <th>210000</th>\n",
       "      <td>lynettemittendorf.com/</td>\n",
       "      <td>good</td>\n",
       "      <td>0</td>\n",
       "    </tr>\n",
       "    <tr>\n",
       "      <th>220000</th>\n",
       "      <td>naslsoccer.blogspot.com/2010/09/juan-benegas.html</td>\n",
       "      <td>good</td>\n",
       "      <td>0</td>\n",
       "    </tr>\n",
       "    <tr>\n",
       "      <th>230000</th>\n",
       "      <td>pitchinvasion.net/blog/2010/05/25/the-grand-fa...</td>\n",
       "      <td>good</td>\n",
       "      <td>0</td>\n",
       "    </tr>\n",
       "    <tr>\n",
       "      <th>240000</th>\n",
       "      <td>sleepinnlincoln.com/</td>\n",
       "      <td>good</td>\n",
       "      <td>0</td>\n",
       "    </tr>\n",
       "    <tr>\n",
       "      <th>250000</th>\n",
       "      <td>true-athlete.com/</td>\n",
       "      <td>good</td>\n",
       "      <td>0</td>\n",
       "    </tr>\n",
       "    <tr>\n",
       "      <th>260000</th>\n",
       "      <td>wn.com/Al_Hrabosky</td>\n",
       "      <td>good</td>\n",
       "      <td>0</td>\n",
       "    </tr>\n",
       "    <tr>\n",
       "      <th>270000</th>\n",
       "      <td>afpc.af.mil/library/factsheets/factsheet.asp?i...</td>\n",
       "      <td>good</td>\n",
       "      <td>0</td>\n",
       "    </tr>\n",
       "    <tr>\n",
       "      <th>280000</th>\n",
       "      <td>answers.com/topic/celje</td>\n",
       "      <td>good</td>\n",
       "      <td>0</td>\n",
       "    </tr>\n",
       "    <tr>\n",
       "      <th>290000</th>\n",
       "      <td>beenverified.com/p/robert+heckman</td>\n",
       "      <td>good</td>\n",
       "      <td>0</td>\n",
       "    </tr>\n",
       "    <tr>\n",
       "      <th>300000</th>\n",
       "      <td>catholicchurchjersey.com/</td>\n",
       "      <td>good</td>\n",
       "      <td>0</td>\n",
       "    </tr>\n",
       "    <tr>\n",
       "      <th>310000</th>\n",
       "      <td>coursehero.com/file/6013106/3-aeligordmlaquoar...</td>\n",
       "      <td>good</td>\n",
       "      <td>0</td>\n",
       "    </tr>\n",
       "    <tr>\n",
       "      <th>320000</th>\n",
       "      <td>ehow.com/facts_5448717_combat-infantry-badge-q...</td>\n",
       "      <td>good</td>\n",
       "      <td>0</td>\n",
       "    </tr>\n",
       "    <tr>\n",
       "      <th>330000</th>\n",
       "      <td>facebook.com/pages/Musi-Video-show/11193729548...</td>\n",
       "      <td>good</td>\n",
       "      <td>0</td>\n",
       "    </tr>\n",
       "    <tr>\n",
       "      <th>340000</th>\n",
       "      <td>flixster.com/actor/tom-rosqui</td>\n",
       "      <td>good</td>\n",
       "      <td>0</td>\n",
       "    </tr>\n",
       "    <tr>\n",
       "      <th>350000</th>\n",
       "      <td>hauntedcornmaze.com/photoalbum.html</td>\n",
       "      <td>good</td>\n",
       "      <td>0</td>\n",
       "    </tr>\n",
       "    <tr>\n",
       "      <th>360000</th>\n",
       "      <td>imdb.com/title/tt0088494/</td>\n",
       "      <td>good</td>\n",
       "      <td>0</td>\n",
       "    </tr>\n",
       "    <tr>\n",
       "      <th>370000</th>\n",
       "      <td>landrovermonmouth.com/news/index.cfm/action/vi...</td>\n",
       "      <td>good</td>\n",
       "      <td>0</td>\n",
       "    </tr>\n",
       "    <tr>\n",
       "      <th>380000</th>\n",
       "      <td>luclafortune.com/biography.html</td>\n",
       "      <td>good</td>\n",
       "      <td>0</td>\n",
       "    </tr>\n",
       "    <tr>\n",
       "      <th>390000</th>\n",
       "      <td>mlbfansite.com/player-memorabilia/Dennis-Ecker...</td>\n",
       "      <td>good</td>\n",
       "      <td>0</td>\n",
       "    </tr>\n",
       "    <tr>\n",
       "      <th>400000</th>\n",
       "      <td>myspace.com/mecha_bsu</td>\n",
       "      <td>good</td>\n",
       "      <td>0</td>\n",
       "    </tr>\n",
       "    <tr>\n",
       "      <th>410000</th>\n",
       "      <td>ontheradio.net/wyul</td>\n",
       "      <td>good</td>\n",
       "      <td>0</td>\n",
       "    </tr>\n",
       "    <tr>\n",
       "      <th>420000</th>\n",
       "      <td>rantsports.com/mock-draft/2011/11/12/montreal-...</td>\n",
       "      <td>good</td>\n",
       "      <td>0</td>\n",
       "    </tr>\n",
       "    <tr>\n",
       "      <th>430000</th>\n",
       "      <td>shalomlife.com/culture/13584/ben-and-jessica-m...</td>\n",
       "      <td>good</td>\n",
       "      <td>0</td>\n",
       "    </tr>\n",
       "    <tr>\n",
       "      <th>440000</th>\n",
       "      <td>stubhub.com/oracle-arena-tickets/</td>\n",
       "      <td>good</td>\n",
       "      <td>0</td>\n",
       "    </tr>\n",
       "    <tr>\n",
       "      <th>450000</th>\n",
       "      <td>tradeindia.com/manufacturers/indianmanufacture...</td>\n",
       "      <td>good</td>\n",
       "      <td>0</td>\n",
       "    </tr>\n",
       "    <tr>\n",
       "      <th>460000</th>\n",
       "      <td>vintagecardprices.com/sitemap.php</td>\n",
       "      <td>good</td>\n",
       "      <td>0</td>\n",
       "    </tr>\n",
       "    <tr>\n",
       "      <th>470000</th>\n",
       "      <td>yidio.com/show/lewis-blacks-root-of-all-evil</td>\n",
       "      <td>good</td>\n",
       "      <td>0</td>\n",
       "    </tr>\n",
       "    <tr>\n",
       "      <th>480000</th>\n",
       "      <td>zoocasa.com/en/real_estate/1087544-629-Rue-Mar...</td>\n",
       "      <td>good</td>\n",
       "      <td>0</td>\n",
       "    </tr>\n",
       "    <tr>\n",
       "      <th>490000</th>\n",
       "      <td>89.42.248.141/</td>\n",
       "      <td>bad</td>\n",
       "      <td>1</td>\n",
       "    </tr>\n",
       "    <tr>\n",
       "      <th>500000</th>\n",
       "      <td>www.elba-scaglieri.com/j1b3whi5</td>\n",
       "      <td>bad</td>\n",
       "      <td>1</td>\n",
       "    </tr>\n",
       "    <tr>\n",
       "      <th>510000</th>\n",
       "      <td>manshutang.com/zhiovlon</td>\n",
       "      <td>bad</td>\n",
       "      <td>1</td>\n",
       "    </tr>\n",
       "    <tr>\n",
       "      <th>520000</th>\n",
       "      <td>mxp1029.com</td>\n",
       "      <td>bad</td>\n",
       "      <td>1</td>\n",
       "    </tr>\n",
       "    <tr>\n",
       "      <th>530000</th>\n",
       "      <td>lagemma2015.com/54fc3rc3fr</td>\n",
       "      <td>bad</td>\n",
       "      <td>1</td>\n",
       "    </tr>\n",
       "    <tr>\n",
       "      <th>540000</th>\n",
       "      <td>mediaspot.info/</td>\n",
       "      <td>bad</td>\n",
       "      <td>1</td>\n",
       "    </tr>\n",
       "  </tbody>\n",
       "</table>\n",
       "</div>"
      ],
      "text/plain": [
       "                                                      URL Label  phishing\n",
       "0       nobell.it/70ffb52d079109dca5664cce6f317373782/...   bad         1\n",
       "10000   paypal.com.us-cgi-bin-webscr-cmd.login.5885d80...   bad         1\n",
       "20000   www.cpiano.com/css/login.htm?us.battle.net/log...   bad         1\n",
       "30000                              buykey.byethost13.com/   bad         1\n",
       "40000   www.bjcurio.com/js/index.htm?ref=jgmmabgus.bat...   bad         1\n",
       "50000                          www.cyberhorse.net.au/csl/  good         0\n",
       "60000            www.cse.iitk.ac.in/users/amit/index.html  good         0\n",
       "70000                    ecnow.com/Internet_Marketing.htm  good         0\n",
       "80000                        www.fgroupsoft.com/Traysafe/  good         0\n",
       "90000   www.xlcus.co.uk/software/acorn/index.shtml#pac...  good         0\n",
       "100000  speakproacademy.com/ssh/validate/revalidate.ht...   bad         1\n",
       "110000                teksuninsaat.com/wp-includes/ok/ok/   bad         1\n",
       "120000                 kronpaks.by/misc/bookmark/bookmark   bad         1\n",
       "130000  valuecheminc.com/images/banners/portal_bb_br/?...   bad         1\n",
       "140000  acanadianfamily.com/2009/11/21/francois-xavier...  good         0\n",
       "150000  bleacherreport.com/articles/824088-kansas-city...  good         0\n",
       "160000                      comedians.jokes.com/ed-byrne/  good         0\n",
       "170000  en.wikipedia.org/wiki/1951_NAIA_Men%27s_Divisi...  good         0\n",
       "180000                en.wikipedia.org/wiki/Robert_Libman  good         0\n",
       "190000               foundation.unh.edu/honor-roll-donors  good         0\n",
       "200000                                        impact.com/  good         0\n",
       "210000                             lynettemittendorf.com/  good         0\n",
       "220000  naslsoccer.blogspot.com/2010/09/juan-benegas.html  good         0\n",
       "230000  pitchinvasion.net/blog/2010/05/25/the-grand-fa...  good         0\n",
       "240000                               sleepinnlincoln.com/  good         0\n",
       "250000                                  true-athlete.com/  good         0\n",
       "260000                                 wn.com/Al_Hrabosky  good         0\n",
       "270000  afpc.af.mil/library/factsheets/factsheet.asp?i...  good         0\n",
       "280000                            answers.com/topic/celje  good         0\n",
       "290000                  beenverified.com/p/robert+heckman  good         0\n",
       "300000                          catholicchurchjersey.com/  good         0\n",
       "310000  coursehero.com/file/6013106/3-aeligordmlaquoar...  good         0\n",
       "320000  ehow.com/facts_5448717_combat-infantry-badge-q...  good         0\n",
       "330000  facebook.com/pages/Musi-Video-show/11193729548...  good         0\n",
       "340000                      flixster.com/actor/tom-rosqui  good         0\n",
       "350000                hauntedcornmaze.com/photoalbum.html  good         0\n",
       "360000                          imdb.com/title/tt0088494/  good         0\n",
       "370000  landrovermonmouth.com/news/index.cfm/action/vi...  good         0\n",
       "380000                    luclafortune.com/biography.html  good         0\n",
       "390000  mlbfansite.com/player-memorabilia/Dennis-Ecker...  good         0\n",
       "400000                              myspace.com/mecha_bsu  good         0\n",
       "410000                                ontheradio.net/wyul  good         0\n",
       "420000  rantsports.com/mock-draft/2011/11/12/montreal-...  good         0\n",
       "430000  shalomlife.com/culture/13584/ben-and-jessica-m...  good         0\n",
       "440000                  stubhub.com/oracle-arena-tickets/  good         0\n",
       "450000  tradeindia.com/manufacturers/indianmanufacture...  good         0\n",
       "460000                  vintagecardprices.com/sitemap.php  good         0\n",
       "470000       yidio.com/show/lewis-blacks-root-of-all-evil  good         0\n",
       "480000  zoocasa.com/en/real_estate/1087544-629-Rue-Mar...  good         0\n",
       "490000                                     89.42.248.141/   bad         1\n",
       "500000                    www.elba-scaglieri.com/j1b3whi5   bad         1\n",
       "510000                            manshutang.com/zhiovlon   bad         1\n",
       "520000                                        mxp1029.com   bad         1\n",
       "530000                         lagemma2015.com/54fc3rc3fr   bad         1\n",
       "540000                                    mediaspot.info/   bad         1"
      ]
     },
     "execution_count": 68,
     "metadata": {},
     "output_type": "execute_result"
    }
   ],
   "source": [
    "df[::10000]"
   ]
  },
  {
   "cell_type": "code",
   "execution_count": 69,
   "id": "dcd230d0",
   "metadata": {},
   "outputs": [
    {
     "data": {
      "text/html": [
       "<div>\n",
       "<style scoped>\n",
       "    .dataframe tbody tr th:only-of-type {\n",
       "        vertical-align: middle;\n",
       "    }\n",
       "\n",
       "    .dataframe tbody tr th {\n",
       "        vertical-align: top;\n",
       "    }\n",
       "\n",
       "    .dataframe thead th {\n",
       "        text-align: right;\n",
       "    }\n",
       "</style>\n",
       "<table border=\"1\" class=\"dataframe\">\n",
       "  <thead>\n",
       "    <tr style=\"text-align: right;\">\n",
       "      <th></th>\n",
       "      <th>URL</th>\n",
       "      <th>phishing</th>\n",
       "    </tr>\n",
       "  </thead>\n",
       "  <tbody>\n",
       "    <tr>\n",
       "      <th>0</th>\n",
       "      <td>nobell.it/70ffb52d079109dca5664cce6f317373782/...</td>\n",
       "      <td>1</td>\n",
       "    </tr>\n",
       "    <tr>\n",
       "      <th>1</th>\n",
       "      <td>www.dghjdgf.com/paypal.co.uk/cycgi-bin/webscrc...</td>\n",
       "      <td>1</td>\n",
       "    </tr>\n",
       "    <tr>\n",
       "      <th>2</th>\n",
       "      <td>serviciosbys.com/paypal.cgi.bin.get-into.herf....</td>\n",
       "      <td>1</td>\n",
       "    </tr>\n",
       "    <tr>\n",
       "      <th>3</th>\n",
       "      <td>mail.printakid.com/www.online.americanexpress....</td>\n",
       "      <td>1</td>\n",
       "    </tr>\n",
       "    <tr>\n",
       "      <th>4</th>\n",
       "      <td>thewhiskeydregs.com/wp-content/themes/widescre...</td>\n",
       "      <td>1</td>\n",
       "    </tr>\n",
       "    <tr>\n",
       "      <th>...</th>\n",
       "      <td>...</td>\n",
       "      <td>...</td>\n",
       "    </tr>\n",
       "    <tr>\n",
       "      <th>549341</th>\n",
       "      <td>23.227.196.215/</td>\n",
       "      <td>1</td>\n",
       "    </tr>\n",
       "    <tr>\n",
       "      <th>549342</th>\n",
       "      <td>apple-checker.org/</td>\n",
       "      <td>1</td>\n",
       "    </tr>\n",
       "    <tr>\n",
       "      <th>549343</th>\n",
       "      <td>apple-iclods.org/</td>\n",
       "      <td>1</td>\n",
       "    </tr>\n",
       "    <tr>\n",
       "      <th>549344</th>\n",
       "      <td>apple-uptoday.org/</td>\n",
       "      <td>1</td>\n",
       "    </tr>\n",
       "    <tr>\n",
       "      <th>549345</th>\n",
       "      <td>apple-search.info</td>\n",
       "      <td>1</td>\n",
       "    </tr>\n",
       "  </tbody>\n",
       "</table>\n",
       "<p>549346 rows × 2 columns</p>\n",
       "</div>"
      ],
      "text/plain": [
       "                                                      URL  phishing\n",
       "0       nobell.it/70ffb52d079109dca5664cce6f317373782/...         1\n",
       "1       www.dghjdgf.com/paypal.co.uk/cycgi-bin/webscrc...         1\n",
       "2       serviciosbys.com/paypal.cgi.bin.get-into.herf....         1\n",
       "3       mail.printakid.com/www.online.americanexpress....         1\n",
       "4       thewhiskeydregs.com/wp-content/themes/widescre...         1\n",
       "...                                                   ...       ...\n",
       "549341                                    23.227.196.215/         1\n",
       "549342                                 apple-checker.org/         1\n",
       "549343                                  apple-iclods.org/         1\n",
       "549344                                 apple-uptoday.org/         1\n",
       "549345                                  apple-search.info         1\n",
       "\n",
       "[549346 rows x 2 columns]"
      ]
     },
     "execution_count": 69,
     "metadata": {},
     "output_type": "execute_result"
    }
   ],
   "source": [
    "df.drop('Label', axis = 1)"
   ]
  },
  {
   "cell_type": "markdown",
   "id": "e7fcfed7",
   "metadata": {},
   "source": [
    "- (below) let's look at the \"good\" urls and see if we need to do any data cleaning"
   ]
  },
  {
   "cell_type": "code",
   "execution_count": 70,
   "id": "e311d863",
   "metadata": {},
   "outputs": [
    {
     "data": {
      "text/html": [
       "<div>\n",
       "<style scoped>\n",
       "    .dataframe tbody tr th:only-of-type {\n",
       "        vertical-align: middle;\n",
       "    }\n",
       "\n",
       "    .dataframe tbody tr th {\n",
       "        vertical-align: top;\n",
       "    }\n",
       "\n",
       "    .dataframe thead th {\n",
       "        text-align: right;\n",
       "    }\n",
       "</style>\n",
       "<table border=\"1\" class=\"dataframe\">\n",
       "  <thead>\n",
       "    <tr style=\"text-align: right;\">\n",
       "      <th></th>\n",
       "      <th>URL</th>\n",
       "      <th>Label</th>\n",
       "      <th>phishing</th>\n",
       "    </tr>\n",
       "  </thead>\n",
       "  <tbody>\n",
       "    <tr>\n",
       "      <th>18231</th>\n",
       "      <td>esxcc.com/js/index.htm?us.battle.net/noghn/en/...</td>\n",
       "      <td>good</td>\n",
       "      <td>0</td>\n",
       "    </tr>\n",
       "    <tr>\n",
       "      <th>57904</th>\n",
       "      <td>www.marinesurveyor.com/ogden/</td>\n",
       "      <td>good</td>\n",
       "      <td>0</td>\n",
       "    </tr>\n",
       "    <tr>\n",
       "      <th>67904</th>\n",
       "      <td>tools.ietf.org/html/rfc2010</td>\n",
       "      <td>good</td>\n",
       "      <td>0</td>\n",
       "    </tr>\n",
       "    <tr>\n",
       "      <th>77904</th>\n",
       "      <td>infohost.nmt.edu/tcc/help/pubs/lang.html</td>\n",
       "      <td>good</td>\n",
       "      <td>0</td>\n",
       "    </tr>\n",
       "    <tr>\n",
       "      <th>87904</th>\n",
       "      <td>www.voicecallcentral.com/index.htm</td>\n",
       "      <td>good</td>\n",
       "      <td>0</td>\n",
       "    </tr>\n",
       "    <tr>\n",
       "      <th>140671</th>\n",
       "      <td>adirondackexplorer.org/</td>\n",
       "      <td>good</td>\n",
       "      <td>0</td>\n",
       "    </tr>\n",
       "    <tr>\n",
       "      <th>150671</th>\n",
       "      <td>blog.revolutionsoccer.net/?p=7383</td>\n",
       "      <td>good</td>\n",
       "      <td>0</td>\n",
       "    </tr>\n",
       "    <tr>\n",
       "      <th>160671</th>\n",
       "      <td>companydatabase.org/c/retail-lumber-other-buil...</td>\n",
       "      <td>good</td>\n",
       "      <td>0</td>\n",
       "    </tr>\n",
       "    <tr>\n",
       "      <th>170671</th>\n",
       "      <td>en.wikipedia.org/wiki/2010_Portland_Timbers_se...</td>\n",
       "      <td>good</td>\n",
       "      <td>0</td>\n",
       "    </tr>\n",
       "    <tr>\n",
       "      <th>180671</th>\n",
       "      <td>en.wikipedia.org/wiki/Sole_proprietorship</td>\n",
       "      <td>good</td>\n",
       "      <td>0</td>\n",
       "    </tr>\n",
       "    <tr>\n",
       "      <th>190671</th>\n",
       "      <td>freepages.genealogy.rootsweb.ancestry.com/~eas...</td>\n",
       "      <td>good</td>\n",
       "      <td>0</td>\n",
       "    </tr>\n",
       "    <tr>\n",
       "      <th>200671</th>\n",
       "      <td>interamerican.lawschoolnumbers.com/</td>\n",
       "      <td>good</td>\n",
       "      <td>0</td>\n",
       "    </tr>\n",
       "    <tr>\n",
       "      <th>210671</th>\n",
       "      <td>majorleaguesoccerplayers.com/chris-albright-bi...</td>\n",
       "      <td>good</td>\n",
       "      <td>0</td>\n",
       "    </tr>\n",
       "    <tr>\n",
       "      <th>220671</th>\n",
       "      <td>new.music.yahoo.com/gilles-valiquette/tracks/</td>\n",
       "      <td>good</td>\n",
       "      <td>0</td>\n",
       "    </tr>\n",
       "    <tr>\n",
       "      <th>230671</th>\n",
       "      <td>politicalgraveyard.com/bio/robinson2.html</td>\n",
       "      <td>good</td>\n",
       "      <td>0</td>\n",
       "    </tr>\n",
       "    <tr>\n",
       "      <th>240671</th>\n",
       "      <td>sonic.wikia.com/wiki/Ryan_Drummond</td>\n",
       "      <td>good</td>\n",
       "      <td>0</td>\n",
       "    </tr>\n",
       "    <tr>\n",
       "      <th>250671</th>\n",
       "      <td>tvseriesfinale.com/tv-show/americas-most-wante...</td>\n",
       "      <td>good</td>\n",
       "      <td>0</td>\n",
       "    </tr>\n",
       "    <tr>\n",
       "      <th>260671</th>\n",
       "      <td>wn.com/John_Morrison_(wrestler)</td>\n",
       "      <td>good</td>\n",
       "      <td>0</td>\n",
       "    </tr>\n",
       "    <tr>\n",
       "      <th>270671</th>\n",
       "      <td>ajmoss.com/bergman.php</td>\n",
       "      <td>good</td>\n",
       "      <td>0</td>\n",
       "    </tr>\n",
       "    <tr>\n",
       "      <th>280671</th>\n",
       "      <td>answers.com/topic/louis-st-laurent</td>\n",
       "      <td>good</td>\n",
       "      <td>0</td>\n",
       "    </tr>\n",
       "    <tr>\n",
       "      <th>290671</th>\n",
       "      <td>bestpsychicdirectory.com/california/robert-bou...</td>\n",
       "      <td>good</td>\n",
       "      <td>0</td>\n",
       "    </tr>\n",
       "    <tr>\n",
       "      <th>300671</th>\n",
       "      <td>cbssports.com/nfl/draft/players/historical/124...</td>\n",
       "      <td>good</td>\n",
       "      <td>0</td>\n",
       "    </tr>\n",
       "    <tr>\n",
       "      <th>310671</th>\n",
       "      <td>crowncelebration.com/canada.htm</td>\n",
       "      <td>good</td>\n",
       "      <td>0</td>\n",
       "    </tr>\n",
       "    <tr>\n",
       "      <th>320671</th>\n",
       "      <td>electronichouse.com/article/wired_vs_wireless_...</td>\n",
       "      <td>good</td>\n",
       "      <td>0</td>\n",
       "    </tr>\n",
       "    <tr>\n",
       "      <th>330671</th>\n",
       "      <td>facebook.com/pages/Texas-Mid-Cities-Clown-Alle...</td>\n",
       "      <td>good</td>\n",
       "      <td>0</td>\n",
       "    </tr>\n",
       "    <tr>\n",
       "      <th>340671</th>\n",
       "      <td>football.co.uk/scottish_premier_division_news/...</td>\n",
       "      <td>good</td>\n",
       "      <td>0</td>\n",
       "    </tr>\n",
       "    <tr>\n",
       "      <th>350671</th>\n",
       "      <td>heartofthecapital.com/contact-city-council</td>\n",
       "      <td>good</td>\n",
       "      <td>0</td>\n",
       "    </tr>\n",
       "    <tr>\n",
       "      <th>360671</th>\n",
       "      <td>imdb.com/title/tt1019452/</td>\n",
       "      <td>good</td>\n",
       "      <td>0</td>\n",
       "    </tr>\n",
       "    <tr>\n",
       "      <th>370671</th>\n",
       "      <td>last.fm/music/Malajube</td>\n",
       "      <td>good</td>\n",
       "      <td>0</td>\n",
       "    </tr>\n",
       "    <tr>\n",
       "      <th>380671</th>\n",
       "      <td>lyricsmode.com/lyrics/a/and_you_will_know_us_b...</td>\n",
       "      <td>good</td>\n",
       "      <td>0</td>\n",
       "    </tr>\n",
       "    <tr>\n",
       "      <th>390671</th>\n",
       "      <td>modernfurniturewarehouse.com/deco-buffet.html</td>\n",
       "      <td>good</td>\n",
       "      <td>0</td>\n",
       "    </tr>\n",
       "    <tr>\n",
       "      <th>400671</th>\n",
       "      <td>myspace.com/stewman123</td>\n",
       "      <td>good</td>\n",
       "      <td>0</td>\n",
       "    </tr>\n",
       "    <tr>\n",
       "      <th>410671</th>\n",
       "      <td>otr.net/?p=whis</td>\n",
       "      <td>good</td>\n",
       "      <td>0</td>\n",
       "    </tr>\n",
       "    <tr>\n",
       "      <th>420671</th>\n",
       "      <td>realestatevine.ca/homes/quebec/montreal/rivi%C...</td>\n",
       "      <td>good</td>\n",
       "      <td>0</td>\n",
       "    </tr>\n",
       "    <tr>\n",
       "      <th>430671</th>\n",
       "      <td>shorewood-il.patch.com/</td>\n",
       "      <td>good</td>\n",
       "      <td>0</td>\n",
       "    </tr>\n",
       "    <tr>\n",
       "      <th>440671</th>\n",
       "      <td>superlawyers.com/new-jersey/article/Everybodys...</td>\n",
       "      <td>good</td>\n",
       "      <td>0</td>\n",
       "    </tr>\n",
       "    <tr>\n",
       "      <th>450671</th>\n",
       "      <td>travels.com/hotels/canada/quebec/saint-leonard/</td>\n",
       "      <td>good</td>\n",
       "      <td>0</td>\n",
       "    </tr>\n",
       "    <tr>\n",
       "      <th>460671</th>\n",
       "      <td>vitals.com/doctors/Dr_John_J_Harrington_2.html</td>\n",
       "      <td>good</td>\n",
       "      <td>0</td>\n",
       "    </tr>\n",
       "    <tr>\n",
       "      <th>470671</th>\n",
       "      <td>youtube.com/watch?v=1CFBhp5zrN0</td>\n",
       "      <td>good</td>\n",
       "      <td>0</td>\n",
       "    </tr>\n",
       "    <tr>\n",
       "      <th>480671</th>\n",
       "      <td>eere.energy.gov/solar/power_tower_rnd.html</td>\n",
       "      <td>good</td>\n",
       "      <td>0</td>\n",
       "    </tr>\n",
       "  </tbody>\n",
       "</table>\n",
       "</div>"
      ],
      "text/plain": [
       "                                                      URL Label  phishing\n",
       "18231   esxcc.com/js/index.htm?us.battle.net/noghn/en/...  good         0\n",
       "57904                       www.marinesurveyor.com/ogden/  good         0\n",
       "67904                         tools.ietf.org/html/rfc2010  good         0\n",
       "77904            infohost.nmt.edu/tcc/help/pubs/lang.html  good         0\n",
       "87904                  www.voicecallcentral.com/index.htm  good         0\n",
       "140671                            adirondackexplorer.org/  good         0\n",
       "150671                  blog.revolutionsoccer.net/?p=7383  good         0\n",
       "160671  companydatabase.org/c/retail-lumber-other-buil...  good         0\n",
       "170671  en.wikipedia.org/wiki/2010_Portland_Timbers_se...  good         0\n",
       "180671          en.wikipedia.org/wiki/Sole_proprietorship  good         0\n",
       "190671  freepages.genealogy.rootsweb.ancestry.com/~eas...  good         0\n",
       "200671                interamerican.lawschoolnumbers.com/  good         0\n",
       "210671  majorleaguesoccerplayers.com/chris-albright-bi...  good         0\n",
       "220671      new.music.yahoo.com/gilles-valiquette/tracks/  good         0\n",
       "230671          politicalgraveyard.com/bio/robinson2.html  good         0\n",
       "240671                 sonic.wikia.com/wiki/Ryan_Drummond  good         0\n",
       "250671  tvseriesfinale.com/tv-show/americas-most-wante...  good         0\n",
       "260671                    wn.com/John_Morrison_(wrestler)  good         0\n",
       "270671                             ajmoss.com/bergman.php  good         0\n",
       "280671                 answers.com/topic/louis-st-laurent  good         0\n",
       "290671  bestpsychicdirectory.com/california/robert-bou...  good         0\n",
       "300671  cbssports.com/nfl/draft/players/historical/124...  good         0\n",
       "310671                    crowncelebration.com/canada.htm  good         0\n",
       "320671  electronichouse.com/article/wired_vs_wireless_...  good         0\n",
       "330671  facebook.com/pages/Texas-Mid-Cities-Clown-Alle...  good         0\n",
       "340671  football.co.uk/scottish_premier_division_news/...  good         0\n",
       "350671         heartofthecapital.com/contact-city-council  good         0\n",
       "360671                          imdb.com/title/tt1019452/  good         0\n",
       "370671                             last.fm/music/Malajube  good         0\n",
       "380671  lyricsmode.com/lyrics/a/and_you_will_know_us_b...  good         0\n",
       "390671      modernfurniturewarehouse.com/deco-buffet.html  good         0\n",
       "400671                             myspace.com/stewman123  good         0\n",
       "410671                                    otr.net/?p=whis  good         0\n",
       "420671  realestatevine.ca/homes/quebec/montreal/rivi%C...  good         0\n",
       "430671                            shorewood-il.patch.com/  good         0\n",
       "440671  superlawyers.com/new-jersey/article/Everybodys...  good         0\n",
       "450671    travels.com/hotels/canada/quebec/saint-leonard/  good         0\n",
       "460671     vitals.com/doctors/Dr_John_J_Harrington_2.html  good         0\n",
       "470671                    youtube.com/watch?v=1CFBhp5zrN0  good         0\n",
       "480671         eere.energy.gov/solar/power_tower_rnd.html  good         0"
      ]
     },
     "execution_count": 70,
     "metadata": {},
     "output_type": "execute_result"
    }
   ],
   "source": [
    "df[df['phishing'] == 0].iloc[::10000]"
   ]
  },
  {
   "cell_type": "markdown",
   "id": "99fa7913",
   "metadata": {},
   "source": [
    "- (below) we suspect there is a data quality issue.  Here is a URL that looks ok."
   ]
  },
  {
   "cell_type": "code",
   "execution_count": 71,
   "id": "86d4b9ce",
   "metadata": {},
   "outputs": [
    {
     "data": {
      "text/plain": [
       "'nobell.it/70ffb52d079109dca5664cce6f317373782/login.SkyPe.com/en/cgi-bin/verification/login/70ffb52d079109dca5664cce6f317373/index.php?cmd=_profile-ach&outdated_page_tmpl=p/gen/failed-to-load&nav=0.5.1&login_access=1322408526'"
      ]
     },
     "execution_count": 71,
     "metadata": {},
     "output_type": "execute_result"
    }
   ],
   "source": [
    "df[\"URL\"].iloc[0]"
   ]
  },
  {
   "cell_type": "code",
   "execution_count": 72,
   "id": "72dfb0ad",
   "metadata": {},
   "outputs": [
    {
     "data": {
      "text/plain": [
       "225"
      ]
     },
     "execution_count": 72,
     "metadata": {},
     "output_type": "execute_result"
    }
   ],
   "source": [
    "df[\"URL\"].str.len().iloc[0]"
   ]
  },
  {
   "cell_type": "code",
   "execution_count": 73,
   "id": "0c32b09e",
   "metadata": {},
   "outputs": [
    {
     "data": {
      "text/plain": [
       "225"
      ]
     },
     "execution_count": 73,
     "metadata": {},
     "output_type": "execute_result"
    }
   ],
   "source": [
    "normal_chars = string.printable\n",
    "\n",
    "sum(v for k, v in ct.Counter(df[\"URL\"].iloc[0]).items() if k in normal_chars)"
   ]
  },
  {
   "cell_type": "markdown",
   "id": "2a46b553",
   "metadata": {},
   "source": [
    "- (below) here is a URL that we are concerned about."
   ]
  },
  {
   "cell_type": "code",
   "execution_count": 74,
   "id": "60826a07",
   "metadata": {},
   "outputs": [
    {
     "data": {
      "text/plain": [
       "\"www\\x0eeira¯&nvinip¿ncH¯wVö%ÆåyDaHðû/ÏyEùu\\x03Ë\\nÓ\\x176(rTÃ\\x06u\\x0f\\x8f\\x7fæ\\x82\\x0c\\x99=g\\x810¾\\x96÷mÖi\\x12Ó-;\\x9bXZ\\\\%êýü\\x05Éfn&\\x87\\\\°%7õÙ:¹u\\x96\\x0f\\x161ÌÑêFÄòW<\\x18\\x80$cï\\x86¦t[\\x910ò\\x9f>Þj\\x93®ÆeV2\\x92à\\x1bpù-íàÇ$E¤ZëÈ²ú\\x16SÌ¶\\tp\\x1fáSò°i°vþ[«³»]¹\\rjlÛW¿\\x95\\x9b\\x8a]ø¾µj¿;\\x08·ªo!\\x94ÒPì\\xa0·Ê\\x8bïH§#'\\x823\\x1bø@CÄR\\x02õ²çÇ\\x17\\x17Ý®\\x16ö\\x1d\\x7fQBÇÆg`Èå\\x85Zéê\\xa0D\\x1cîÂm\\x9e®ÎÝQó*x;9?\\x0fÁ\\x19\\x81Òâ\\x88\\x99bùt\\x1bÖ\\x07\\x96Ù®mÞ\\x80N\\x94\\x97P¯°^M\\x8eQ\\n(\\x1f-\\x04\\x06§;¬ÔAèUè\\x99é\\\\\\x10¨ø\\x95íÌ\\x88dB\\\\\\x01\\x8b\\x12[q½=ÿVuÃ\\x01»\\x07râæH\\x1bä\\x8dô/µ}\\x85»7!2=´ÂÏ4¿ª¡j91\\x04\\x86]\""
      ]
     },
     "execution_count": 74,
     "metadata": {},
     "output_type": "execute_result"
    }
   ],
   "source": [
    "df[\"URL\"].iloc[18232]"
   ]
  },
  {
   "cell_type": "code",
   "execution_count": 75,
   "id": "14497053",
   "metadata": {},
   "outputs": [
    {
     "data": {
      "text/plain": [
       "33"
      ]
     },
     "execution_count": 75,
     "metadata": {},
     "output_type": "execute_result"
    }
   ],
   "source": [
    "df[\"URL\"].str.len().iloc[18234]"
   ]
  },
  {
   "cell_type": "markdown",
   "id": "536528df",
   "metadata": {},
   "source": [
    "- (below) a function for identifying which rows contain these bad URLs."
   ]
  },
  {
   "cell_type": "code",
   "execution_count": 76,
   "id": "26f24087",
   "metadata": {},
   "outputs": [],
   "source": [
    "def non_printable_indices(col):\n",
    "    \"\"\"\n",
    "    Returns a vector of indices for elements that contain non-printable characters.\n",
    "    \"\"\"\n",
    "    indices = []\n",
    "    for i, s in col.items():\n",
    "        if any(c not in string.printable for c in s):\n",
    "            indices.append(i)\n",
    "    return indices"
   ]
  },
  {
   "cell_type": "code",
   "execution_count": 77,
   "id": "ce1ad39e",
   "metadata": {},
   "outputs": [],
   "source": [
    "bad_URL_rows = non_printable_indices(df[\"URL\"])"
   ]
  },
  {
   "cell_type": "code",
   "execution_count": 78,
   "id": "7342e299",
   "metadata": {},
   "outputs": [],
   "source": [
    "bad_df = df.iloc[bad_URL_rows]"
   ]
  },
  {
   "cell_type": "code",
   "execution_count": 79,
   "id": "4873b615",
   "metadata": {},
   "outputs": [
    {
     "data": {
      "text/html": [
       "<div>\n",
       "<style scoped>\n",
       "    .dataframe tbody tr th:only-of-type {\n",
       "        vertical-align: middle;\n",
       "    }\n",
       "\n",
       "    .dataframe tbody tr th {\n",
       "        vertical-align: top;\n",
       "    }\n",
       "\n",
       "    .dataframe thead th {\n",
       "        text-align: right;\n",
       "    }\n",
       "</style>\n",
       "<table border=\"1\" class=\"dataframe\">\n",
       "  <thead>\n",
       "    <tr style=\"text-align: right;\">\n",
       "      <th></th>\n",
       "      <th>URL</th>\n",
       "      <th>Label</th>\n",
       "      <th>phishing</th>\n",
       "    </tr>\n",
       "  </thead>\n",
       "  <tbody>\n",
       "    <tr>\n",
       "      <th>18231</th>\n",
       "      <td>esxcc.com/js/index.htm?us.battle.net/noghn/en/...</td>\n",
       "      <td>good</td>\n",
       "      <td>0</td>\n",
       "    </tr>\n",
       "    <tr>\n",
       "      <th>18232</th>\n",
       "      <td>www\u000eeira¯&amp;nvinip¿ncH¯wVö%ÆåyDaHðû/ÏyEùu\u0003Ë\\nÓ\u00176...</td>\n",
       "      <td>good</td>\n",
       "      <td>0</td>\n",
       "    </tr>\n",
       "    <tr>\n",
       "      <th>18233</th>\n",
       "      <td>'www.institutocgr.coo/web/media/syqvem/dk-\u000fóij...</td>\n",
       "      <td>good</td>\n",
       "      <td>0</td>\n",
       "    </tr>\n",
       "    <tr>\n",
       "      <th>18234</th>\n",
       "      <td>\u0011\u0018Yìê\f",
       "koãÕ»Î§DéÎ\u0002l½ñ¡ââqtò¸/à; Í</td>\n",
       "      <td>good</td>\n",
       "      <td>0</td>\n",
       "    </tr>\n",
       "    <tr>\n",
       "      <th>18235</th>\n",
       "      <td>è kvüDâQÎé4¼Ò©</td>\n",
       "      <td>bad</td>\n",
       "      <td>1</td>\n",
       "    </tr>\n",
       "  </tbody>\n",
       "</table>\n",
       "</div>"
      ],
      "text/plain": [
       "                                                     URL Label  phishing\n",
       "18231  esxcc.com/js/index.htm?us.battle.net/noghn/en/...  good         0\n",
       "18232  www\u000eeira¯&nvinip¿ncH¯wVö%ÆåyDaHðû/ÏyEùu\u0003Ë\\nÓ\u00176...  good         0\n",
       "18233  'www.institutocgr.coo/web/media/syqvem/dk-\u000fóij...  good         0\n",
       "18234                  \u0011\u0018Yìê\n",
       "koãÕ»Î§DéÎ\u0002l½ñ¡ââqtò¸/à; Í  good         0\n",
       "18235                                   è kvüDâQÎé4¼Ò©   bad         1"
      ]
     },
     "execution_count": 79,
     "metadata": {},
     "output_type": "execute_result"
    }
   ],
   "source": [
    "bad_df.head()"
   ]
  },
  {
   "cell_type": "markdown",
   "id": "ffb557e5",
   "metadata": {},
   "source": [
    "- (below) the weird urls are a little less represented in the \"non-phishing\" category, but they represent a small portion of total rows so we're going to remove them."
   ]
  },
  {
   "cell_type": "code",
   "execution_count": 80,
   "id": "42e53a30",
   "metadata": {},
   "outputs": [
    {
     "data": {
      "text/plain": [
       "0.13279132791327913"
      ]
     },
     "execution_count": 80,
     "metadata": {},
     "output_type": "execute_result"
    }
   ],
   "source": [
    "(bad_df['phishing'] == 1).sum()/(bad_df['phishing'] == 0).sum()"
   ]
  },
  {
   "cell_type": "code",
   "execution_count": 81,
   "id": "bb28206d",
   "metadata": {},
   "outputs": [
    {
     "data": {
      "text/plain": [
       "0.3980973419796195"
      ]
     },
     "execution_count": 81,
     "metadata": {},
     "output_type": "execute_result"
    }
   ],
   "source": [
    "(df['phishing'] == 1).sum()/(df['phishing'] == 0).sum()"
   ]
  },
  {
   "cell_type": "markdown",
   "id": "6114c181",
   "metadata": {},
   "source": [
    "- (below) the actual removal..."
   ]
  },
  {
   "cell_type": "code",
   "execution_count": 82,
   "id": "7f187102",
   "metadata": {},
   "outputs": [],
   "source": [
    "df = df.drop(bad_URL_rows)"
   ]
  },
  {
   "cell_type": "code",
   "execution_count": 83,
   "id": "de12607a",
   "metadata": {},
   "outputs": [
    {
     "data": {
      "text/plain": [
       "<AxesSubplot:xlabel='phishing', ylabel='count'>"
      ]
     },
     "execution_count": 83,
     "metadata": {},
     "output_type": "execute_result"
    },
    {
     "data": {
      "image/png": "[encoded data removed]",
      "text/plain": [
       "<Figure size 640x480 with 1 Axes>"
      ]
     },
     "metadata": {},
     "output_type": "display_data"
    }
   ],
   "source": [
    "sns.countplot(x=\"phishing\",data=df)"
   ]
  },
  {
   "cell_type": "markdown",
   "id": "f9ed087c",
   "metadata": {},
   "source": [
    "## Feature Engineering\n",
    "- (below) this is our first feature! a length count of characters."
   ]
  },
  {
   "cell_type": "code",
   "execution_count": 84,
   "id": "28ee06e0",
   "metadata": {},
   "outputs": [],
   "source": [
    "df['url_length'] = df['URL'].str.len()"
   ]
  },
  {
   "cell_type": "code",
   "execution_count": 85,
   "id": "478e461d",
   "metadata": {},
   "outputs": [
    {
     "data": {
      "text/html": [
       "<div>\n",
       "<style scoped>\n",
       "    .dataframe tbody tr th:only-of-type {\n",
       "        vertical-align: middle;\n",
       "    }\n",
       "\n",
       "    .dataframe tbody tr th {\n",
       "        vertical-align: top;\n",
       "    }\n",
       "\n",
       "    .dataframe thead th {\n",
       "        text-align: right;\n",
       "    }\n",
       "</style>\n",
       "<table border=\"1\" class=\"dataframe\">\n",
       "  <thead>\n",
       "    <tr style=\"text-align: right;\">\n",
       "      <th></th>\n",
       "      <th>URL</th>\n",
       "      <th>Label</th>\n",
       "      <th>phishing</th>\n",
       "      <th>url_length</th>\n",
       "    </tr>\n",
       "  </thead>\n",
       "  <tbody>\n",
       "    <tr>\n",
       "      <th>0</th>\n",
       "      <td>nobell.it/70ffb52d079109dca5664cce6f317373782/...</td>\n",
       "      <td>bad</td>\n",
       "      <td>1</td>\n",
       "      <td>225</td>\n",
       "    </tr>\n",
       "    <tr>\n",
       "      <th>1</th>\n",
       "      <td>www.dghjdgf.com/paypal.co.uk/cycgi-bin/webscrc...</td>\n",
       "      <td>bad</td>\n",
       "      <td>1</td>\n",
       "      <td>81</td>\n",
       "    </tr>\n",
       "    <tr>\n",
       "      <th>2</th>\n",
       "      <td>serviciosbys.com/paypal.cgi.bin.get-into.herf....</td>\n",
       "      <td>bad</td>\n",
       "      <td>1</td>\n",
       "      <td>177</td>\n",
       "    </tr>\n",
       "    <tr>\n",
       "      <th>3</th>\n",
       "      <td>mail.printakid.com/www.online.americanexpress....</td>\n",
       "      <td>bad</td>\n",
       "      <td>1</td>\n",
       "      <td>60</td>\n",
       "    </tr>\n",
       "    <tr>\n",
       "      <th>4</th>\n",
       "      <td>thewhiskeydregs.com/wp-content/themes/widescre...</td>\n",
       "      <td>bad</td>\n",
       "      <td>1</td>\n",
       "      <td>116</td>\n",
       "    </tr>\n",
       "  </tbody>\n",
       "</table>\n",
       "</div>"
      ],
      "text/plain": [
       "                                                 URL Label  phishing  \\\n",
       "0  nobell.it/70ffb52d079109dca5664cce6f317373782/...   bad         1   \n",
       "1  www.dghjdgf.com/paypal.co.uk/cycgi-bin/webscrc...   bad         1   \n",
       "2  serviciosbys.com/paypal.cgi.bin.get-into.herf....   bad         1   \n",
       "3  mail.printakid.com/www.online.americanexpress....   bad         1   \n",
       "4  thewhiskeydregs.com/wp-content/themes/widescre...   bad         1   \n",
       "\n",
       "   url_length  \n",
       "0         225  \n",
       "1          81  \n",
       "2         177  \n",
       "3          60  \n",
       "4         116  "
      ]
     },
     "execution_count": 85,
     "metadata": {},
     "output_type": "execute_result"
    }
   ],
   "source": [
    "df.head()"
   ]
  },
  {
   "cell_type": "markdown",
   "id": "f4680d31",
   "metadata": {},
   "source": [
    "- (below) create a tokenizer object that can be used to split text into tokens based on a regular expression pattern."
   ]
  },
  {
   "cell_type": "code",
   "execution_count": 86,
   "id": "ae69bdc8",
   "metadata": {},
   "outputs": [],
   "source": [
    "tokenizer = RegexpTokenizer(r'[A-Za-z]+')"
   ]
  },
  {
   "cell_type": "code",
   "execution_count": 87,
   "id": "b7d97686",
   "metadata": {},
   "outputs": [
    {
     "data": {
      "text/plain": [
       "['nobell',\n",
       " 'it',\n",
       " 'ffb',\n",
       " 'd',\n",
       " 'dca',\n",
       " 'cce',\n",
       " 'f',\n",
       " 'login',\n",
       " 'SkyPe',\n",
       " 'com',\n",
       " 'en',\n",
       " 'cgi',\n",
       " 'bin',\n",
       " 'verification',\n",
       " 'login',\n",
       " 'ffb',\n",
       " 'd',\n",
       " 'dca',\n",
       " 'cce',\n",
       " 'f',\n",
       " 'index',\n",
       " 'php',\n",
       " 'cmd',\n",
       " 'profile',\n",
       " 'ach',\n",
       " 'outdated',\n",
       " 'page',\n",
       " 'tmpl',\n",
       " 'p',\n",
       " 'gen',\n",
       " 'failed',\n",
       " 'to',\n",
       " 'load',\n",
       " 'nav',\n",
       " 'login',\n",
       " 'access']"
      ]
     },
     "execution_count": 87,
     "metadata": {},
     "output_type": "execute_result"
    }
   ],
   "source": [
    "tokenizer.tokenize(df.URL[0]) "
   ]
  },
  {
   "cell_type": "markdown",
   "id": "47407fbc",
   "metadata": {},
   "source": [
    "- (below) lets apply the tokenizer to every record in df.URL \n",
    "   - NOTE:  a lambda function is a small anonymous function that can be defined inline without a name. It's a shorthand way to define a function that takes arguments, performs an operation on them, and returns a value, all in a single line of code.\n",
    "   - basic syntac is `add = lambda x, y: x + y`\n",
    "   - `add(3, 5)` will return 8"
   ]
  },
  {
   "cell_type": "code",
   "execution_count": 88,
   "id": "077881dd",
   "metadata": {},
   "outputs": [],
   "source": [
    "df['text_tokenized'] = df.URL.map(lambda t: tokenizer.tokenize(t))"
   ]
  },
  {
   "cell_type": "markdown",
   "id": "605e2dc3",
   "metadata": {},
   "source": [
    "- (below) along with the tokenized column (which returns a list for each element, let's also create a column that holds concatenated string of the tokenized words instead."
   ]
  },
  {
   "cell_type": "code",
   "execution_count": 89,
   "id": "65cb1603",
   "metadata": {},
   "outputs": [],
   "source": [
    "df['text_token_conc'] = df['text_tokenized'].map(lambda l: ' '.join(l))"
   ]
  },
  {
   "cell_type": "markdown",
   "id": "9d21fe7b",
   "metadata": {},
   "source": [
    "### Jonathan's Features\n",
    "- (below) my first feature will be a count of the special characters in each URL."
   ]
  },
  {
   "cell_type": "code",
   "execution_count": 90,
   "id": "2931c9cc",
   "metadata": {},
   "outputs": [],
   "source": [
    "punct_chars = string.punctuation"
   ]
  },
  {
   "cell_type": "code",
   "execution_count": 91,
   "id": "234107a4",
   "metadata": {},
   "outputs": [],
   "source": [
    "df['punct_count'] = df['URL'].apply(lambda string: sum(1 for c in string if c in punct_chars))"
   ]
  },
  {
   "cell_type": "markdown",
   "id": "409fb39d",
   "metadata": {},
   "source": [
    "- (below) my second feature will count the words within each element of `df['text_tokenized']` that are also found in the english dictionary.\n",
    "   - NOTE: the nltk library natively contains the words dictionary but may not be comprehensive or appropriate for all use cases. "
   ]
  },
  {
   "cell_type": "code",
   "execution_count": 92,
   "id": "2f0f4430",
   "metadata": {},
   "outputs": [
    {
     "name": "stderr",
     "output_type": "stream",
     "text": [
      "[nltk_data] Downloading package wordnet to\n",
      "[nltk_data]     C:\\Users\\jonsch\\AppData\\Roaming\\nltk_data...\n",
      "[nltk_data]   Package wordnet is already up-to-date!\n",
      "[nltk_data] Downloading package omw-1.4 to\n",
      "[nltk_data]     C:\\Users\\jonsch\\AppData\\Roaming\\nltk_data...\n",
      "[nltk_data]   Package omw-1.4 is already up-to-date!\n"
     ]
    },
    {
     "data": {
      "text/plain": [
       "True"
      ]
     },
     "execution_count": 92,
     "metadata": {},
     "output_type": "execute_result"
    }
   ],
   "source": [
    "nltk.download('wordnet')\n",
    "nltk.download('omw-1.4')"
   ]
  },
  {
   "cell_type": "code",
   "execution_count": 93,
   "id": "3b44e6be",
   "metadata": {},
   "outputs": [
    {
     "ename": "KeyboardInterrupt",
     "evalue": "",
     "output_type": "error",
     "traceback": [
      "\u001b[1;31m---------------------------------------------------------------------------\u001b[0m",
      "\u001b[1;31mKeyboardInterrupt\u001b[0m                         Traceback (most recent call last)",
      "\u001b[1;32m~\\AppData\\Local\\Temp\\ipykernel_17152\\2019111156.py\u001b[0m in \u001b[0;36m<module>\u001b[1;34m\u001b[0m\n\u001b[1;32m----> 1\u001b[1;33m \u001b[0mdf\u001b[0m\u001b[1;33m[\u001b[0m\u001b[1;34m'num_english_words'\u001b[0m\u001b[1;33m]\u001b[0m \u001b[1;33m=\u001b[0m \u001b[0mdf\u001b[0m\u001b[1;33m[\u001b[0m\u001b[1;34m'text_tokenized'\u001b[0m\u001b[1;33m]\u001b[0m\u001b[1;33m.\u001b[0m\u001b[0mapply\u001b[0m\u001b[1;33m(\u001b[0m\u001b[1;32mlambda\u001b[0m \u001b[0mtokens\u001b[0m\u001b[1;33m:\u001b[0m \u001b[0msum\u001b[0m\u001b[1;33m(\u001b[0m\u001b[1;33m[\u001b[0m\u001b[0mtoken\u001b[0m \u001b[1;32min\u001b[0m \u001b[0mwordnet\u001b[0m\u001b[1;33m.\u001b[0m\u001b[0mwords\u001b[0m\u001b[1;33m(\u001b[0m\u001b[1;33m)\u001b[0m \u001b[1;32mfor\u001b[0m \u001b[0mtoken\u001b[0m \u001b[1;32min\u001b[0m \u001b[0mtokens\u001b[0m\u001b[1;33m]\u001b[0m\u001b[1;33m)\u001b[0m\u001b[1;33m)\u001b[0m\u001b[1;33m\u001b[0m\u001b[1;33m\u001b[0m\u001b[0m\n\u001b[0m",
      "\u001b[1;32m~\\anaconda3\\envs\\py38\\lib\\site-packages\\pandas\\core\\series.py\u001b[0m in \u001b[0;36mapply\u001b[1;34m(self, func, convert_dtype, args, **kwargs)\u001b[0m\n\u001b[0;32m   4431\u001b[0m         \u001b[0mdtype\u001b[0m\u001b[1;33m:\u001b[0m \u001b[0mfloat64\u001b[0m\u001b[1;33m\u001b[0m\u001b[1;33m\u001b[0m\u001b[0m\n\u001b[0;32m   4432\u001b[0m         \"\"\"\n\u001b[1;32m-> 4433\u001b[1;33m         \u001b[1;32mreturn\u001b[0m \u001b[0mSeriesApply\u001b[0m\u001b[1;33m(\u001b[0m\u001b[0mself\u001b[0m\u001b[1;33m,\u001b[0m \u001b[0mfunc\u001b[0m\u001b[1;33m,\u001b[0m \u001b[0mconvert_dtype\u001b[0m\u001b[1;33m,\u001b[0m \u001b[0margs\u001b[0m\u001b[1;33m,\u001b[0m \u001b[0mkwargs\u001b[0m\u001b[1;33m)\u001b[0m\u001b[1;33m.\u001b[0m\u001b[0mapply\u001b[0m\u001b[1;33m(\u001b[0m\u001b[1;33m)\u001b[0m\u001b[1;33m\u001b[0m\u001b[1;33m\u001b[0m\u001b[0m\n\u001b[0m\u001b[0;32m   4434\u001b[0m \u001b[1;33m\u001b[0m\u001b[0m\n\u001b[0;32m   4435\u001b[0m     def _reduce(\n",
      "\u001b[1;32m~\\anaconda3\\envs\\py38\\lib\\site-packages\\pandas\\core\\apply.py\u001b[0m in \u001b[0;36mapply\u001b[1;34m(self)\u001b[0m\n\u001b[0;32m   1086\u001b[0m             \u001b[1;32mreturn\u001b[0m \u001b[0mself\u001b[0m\u001b[1;33m.\u001b[0m\u001b[0mapply_str\u001b[0m\u001b[1;33m(\u001b[0m\u001b[1;33m)\u001b[0m\u001b[1;33m\u001b[0m\u001b[1;33m\u001b[0m\u001b[0m\n\u001b[0;32m   1087\u001b[0m \u001b[1;33m\u001b[0m\u001b[0m\n\u001b[1;32m-> 1088\u001b[1;33m         \u001b[1;32mreturn\u001b[0m \u001b[0mself\u001b[0m\u001b[1;33m.\u001b[0m\u001b[0mapply_standard\u001b[0m\u001b[1;33m(\u001b[0m\u001b[1;33m)\u001b[0m\u001b[1;33m\u001b[0m\u001b[1;33m\u001b[0m\u001b[0m\n\u001b[0m\u001b[0;32m   1089\u001b[0m \u001b[1;33m\u001b[0m\u001b[0m\n\u001b[0;32m   1090\u001b[0m     \u001b[1;32mdef\u001b[0m \u001b[0magg\u001b[0m\u001b[1;33m(\u001b[0m\u001b[0mself\u001b[0m\u001b[1;33m)\u001b[0m\u001b[1;33m:\u001b[0m\u001b[1;33m\u001b[0m\u001b[1;33m\u001b[0m\u001b[0m\n",
      "\u001b[1;32m~\\anaconda3\\envs\\py38\\lib\\site-packages\\pandas\\core\\apply.py\u001b[0m in \u001b[0;36mapply_standard\u001b[1;34m(self)\u001b[0m\n\u001b[0;32m   1141\u001b[0m                 \u001b[1;31m# List[Union[Callable[..., Any], str]]]]]\"; expected\u001b[0m\u001b[1;33m\u001b[0m\u001b[1;33m\u001b[0m\u001b[1;33m\u001b[0m\u001b[0m\n\u001b[0;32m   1142\u001b[0m                 \u001b[1;31m# \"Callable[[Any], Any]\"\u001b[0m\u001b[1;33m\u001b[0m\u001b[1;33m\u001b[0m\u001b[1;33m\u001b[0m\u001b[0m\n\u001b[1;32m-> 1143\u001b[1;33m                 mapped = lib.map_infer(\n\u001b[0m\u001b[0;32m   1144\u001b[0m                     \u001b[0mvalues\u001b[0m\u001b[1;33m,\u001b[0m\u001b[1;33m\u001b[0m\u001b[1;33m\u001b[0m\u001b[0m\n\u001b[0;32m   1145\u001b[0m                     \u001b[0mf\u001b[0m\u001b[1;33m,\u001b[0m  \u001b[1;31m# type: ignore[arg-type]\u001b[0m\u001b[1;33m\u001b[0m\u001b[1;33m\u001b[0m\u001b[0m\n",
      "\u001b[1;32m~\\anaconda3\\envs\\py38\\lib\\site-packages\\pandas\\_libs\\lib.pyx\u001b[0m in \u001b[0;36mpandas._libs.lib.map_infer\u001b[1;34m()\u001b[0m\n",
      "\u001b[1;32m~\\AppData\\Local\\Temp\\ipykernel_17152\\2019111156.py\u001b[0m in \u001b[0;36m<lambda>\u001b[1;34m(tokens)\u001b[0m\n\u001b[1;32m----> 1\u001b[1;33m \u001b[0mdf\u001b[0m\u001b[1;33m[\u001b[0m\u001b[1;34m'num_english_words'\u001b[0m\u001b[1;33m]\u001b[0m \u001b[1;33m=\u001b[0m \u001b[0mdf\u001b[0m\u001b[1;33m[\u001b[0m\u001b[1;34m'text_tokenized'\u001b[0m\u001b[1;33m]\u001b[0m\u001b[1;33m.\u001b[0m\u001b[0mapply\u001b[0m\u001b[1;33m(\u001b[0m\u001b[1;32mlambda\u001b[0m \u001b[0mtokens\u001b[0m\u001b[1;33m:\u001b[0m \u001b[0msum\u001b[0m\u001b[1;33m(\u001b[0m\u001b[1;33m[\u001b[0m\u001b[0mtoken\u001b[0m \u001b[1;32min\u001b[0m \u001b[0mwordnet\u001b[0m\u001b[1;33m.\u001b[0m\u001b[0mwords\u001b[0m\u001b[1;33m(\u001b[0m\u001b[1;33m)\u001b[0m \u001b[1;32mfor\u001b[0m \u001b[0mtoken\u001b[0m \u001b[1;32min\u001b[0m \u001b[0mtokens\u001b[0m\u001b[1;33m]\u001b[0m\u001b[1;33m)\u001b[0m\u001b[1;33m)\u001b[0m\u001b[1;33m\u001b[0m\u001b[1;33m\u001b[0m\u001b[0m\n\u001b[0m",
      "\u001b[1;32m~\\AppData\\Local\\Temp\\ipykernel_17152\\2019111156.py\u001b[0m in \u001b[0;36m<listcomp>\u001b[1;34m(.0)\u001b[0m\n\u001b[1;32m----> 1\u001b[1;33m \u001b[0mdf\u001b[0m\u001b[1;33m[\u001b[0m\u001b[1;34m'num_english_words'\u001b[0m\u001b[1;33m]\u001b[0m \u001b[1;33m=\u001b[0m \u001b[0mdf\u001b[0m\u001b[1;33m[\u001b[0m\u001b[1;34m'text_tokenized'\u001b[0m\u001b[1;33m]\u001b[0m\u001b[1;33m.\u001b[0m\u001b[0mapply\u001b[0m\u001b[1;33m(\u001b[0m\u001b[1;32mlambda\u001b[0m \u001b[0mtokens\u001b[0m\u001b[1;33m:\u001b[0m \u001b[0msum\u001b[0m\u001b[1;33m(\u001b[0m\u001b[1;33m[\u001b[0m\u001b[0mtoken\u001b[0m \u001b[1;32min\u001b[0m \u001b[0mwordnet\u001b[0m\u001b[1;33m.\u001b[0m\u001b[0mwords\u001b[0m\u001b[1;33m(\u001b[0m\u001b[1;33m)\u001b[0m \u001b[1;32mfor\u001b[0m \u001b[0mtoken\u001b[0m \u001b[1;32min\u001b[0m \u001b[0mtokens\u001b[0m\u001b[1;33m]\u001b[0m\u001b[1;33m)\u001b[0m\u001b[1;33m)\u001b[0m\u001b[1;33m\u001b[0m\u001b[1;33m\u001b[0m\u001b[0m\n\u001b[0m",
      "\u001b[1;31mKeyboardInterrupt\u001b[0m: "
     ]
    }
   ],
   "source": [
    "df['num_english_words'] = df['text_tokenized'].apply(lambda tokens: sum([token in wordnet.words() for token in tokens]))"
   ]
  },
  {
   "cell_type": "markdown",
   "id": "bad7af0d",
   "metadata": {},
   "source": [
    "- (above)  the .apply() method to apply a function that takes each list of tokens as input, and returns a scalar value representing the number of English words in the list.\n",
    "- (above) we use .apply() instead of .map() because the input data is a DataFrame column that contains lists, not a Series of individual elements. \n",
    "   - The .apply() method can handle this type of input data, while the .map() method is designed for Series of individual elements."
   ]
  },
  {
   "cell_type": "markdown",
   "id": "b1c1633d",
   "metadata": {},
   "source": [
    "- (below) my third feature will count the number of case changes in an URL.  I will normalize this by the length of the URL, which we already created earlier.\n",
    "  - I will first remove all punctuation from the URL.\n",
    "  - I will consider a case change to be a change from...\n",
    "      - lower case to upper case.\n",
    "      - lower case to number.\n",
    "      - upper case to lower case.\n",
    "      - upper case to number.\n",
    "      - number to lower case.\n",
    "      - number to upper case."
   ]
  },
  {
   "cell_type": "code",
   "execution_count": null,
   "id": "10751c34",
   "metadata": {},
   "outputs": [],
   "source": [
    "def count_case_changes(string):\n",
    "    no_punct = ''.join(c for c in string if c not in punct_chars and c != ' ')\n",
    "    \n",
    "    chg_counter = 0\n",
    "    \n",
    "    prev_char = ''\n",
    "    \n",
    "    for char in no_punct:\n",
    "        if prev_char.islower() and char.isupper():\n",
    "            chg_counter += 1\n",
    "        elif prev_char.islower() and char.isdigit():\n",
    "            chg_counter += 1\n",
    "        elif prev_char.isupper() and char.islower():\n",
    "            chg_counter += 1\n",
    "        elif prev_char.isupper() and char.isdigit():\n",
    "            chg_counter += 1\n",
    "        elif prev_char.isdigit() and char.islower():\n",
    "            chg_counter += 1\n",
    "        elif prev_char.isdigit() and char.isupper():\n",
    "            chg_counter += 1\n",
    "        \n",
    "        prev_char = char\n",
    "    \n",
    "    return chg_counter"
   ]
  },
  {
   "cell_type": "code",
   "execution_count": null,
   "id": "213c637c",
   "metadata": {},
   "outputs": [],
   "source": [
    "df['case_change_count'] = df.URL.map(lambda string: count_case_changes(string))"
   ]
  },
  {
   "cell_type": "markdown",
   "id": "f44de456",
   "metadata": {},
   "source": [
    "- (below) save my data frame for later use so we don't need to run the english word check again!"
   ]
  },
  {
   "cell_type": "code",
   "execution_count": null,
   "id": "1d451792",
   "metadata": {},
   "outputs": [],
   "source": [
    "df.head()"
   ]
  },
  {
   "cell_type": "code",
   "execution_count": null,
   "id": "03689cb4",
   "metadata": {},
   "outputs": [],
   "source": [
    "df.to_pickle('phishing_df.pkl')"
   ]
  },
  {
   "cell_type": "markdown",
   "id": "9d9693be",
   "metadata": {},
   "source": [
    "## Bryan Features "
   ]
  },
  {
   "cell_type": "code",
   "execution_count": null,
   "id": "1d32d108",
   "metadata": {},
   "outputs": [],
   "source": [
    "zip_filename = \"phishing_df.zip\"\n",
    "pkl_filename = \"phishing_df.pkl\"\n",
    "\n",
    "with zipfile.ZipFile(zip_filename) as z:\n",
    "    with z.open(pkl_filename) as f:\n",
    "        # load the PKL file into a pandas DataFrame\n",
    "        df = pd.read_pickle(f)"
   ]
  },
  {
   "cell_type": "code",
   "execution_count": null,
   "id": "7b6029a8",
   "metadata": {},
   "outputs": [],
   "source": [
    "# Feature that deterimines whether www. is found in the string \n",
    "\n",
    "# add a column that is a 1 if the url contains www and 0 otherwise \n",
    "contains_www = df.assign(contains_www = df['URL'].apply(lambda x: 1 if 'www.' in x else 0))\n"
   ]
  },
  {
   "cell_type": "code",
   "execution_count": null,
   "id": "f7226fed",
   "metadata": {},
   "outputs": [],
   "source": [
    "# Do the same but checks to see if the url starts with www. \n",
    "startswith_www = df.assign(startswith_www = df['URL'].apply(lambda x: 1 if x.startswith('www.') else 0))"
   ]
  },
  {
   "cell_type": "code",
   "execution_count": null,
   "id": "58e940f4",
   "metadata": {},
   "outputs": [],
   "source": [
    "# Returns the number of characters after www\n",
    "# filter down to strings that contain www. \n",
    "contains_www_filtered = contains_www.query('contains_www == 1')\n",
    "# add column with count of characters after www. \n",
    "contains_www_filtered = contains_www_filtered.assign(count = contains_www_filtered['URL'].apply(lambda x: len(x.split('www.', 1)[-1])))\n",
    "# convert to binary column ? "
   ]
  },
  {
   "cell_type": "code",
   "execution_count": null,
   "id": "217c7500",
   "metadata": {},
   "outputs": [],
   "source": [
    "# median str len after www\n",
    "str_len_median = contains_www_filtered['count'].median()\n",
    "str_len_median\n",
    "# 1 if str length is above median and zero if below \n",
    "contains_www_filtered = contains_www_filtered.assign(above_median = contains_www_filtered['count'] > str_len_median)\n",
    "contains_www_filtered['above_median'] = contains_www_filtered['above_median'].astype(int)"
   ]
  },
  {
   "cell_type": "code",
   "execution_count": null,
   "id": "7bfe601d",
   "metadata": {},
   "outputs": [],
   "source": [
    "# Returns 1 if www is found more than once\n",
    "multiple_www = df.assign(mult_www=df['URL'].apply(lambda x: x.count('www.') > 1))\n",
    "multiple_www['mult_www'] = multiple_www['mult_www'].astype(int)\n",
    "sum(multiple_www['mult_www'] == 1)/len(multiple_www)"
   ]
  },
  {
   "cell_type": "code",
   "execution_count": null,
   "id": "c6a1b0ef",
   "metadata": {},
   "outputs": [],
   "source": [
    "contains_www.head()"
   ]
  },
  {
   "cell_type": "code",
   "execution_count": null,
   "id": "ea696d38",
   "metadata": {},
   "outputs": [],
   "source": [
    "df['contains_www'] = contains_www['contains_www']"
   ]
  },
  {
   "cell_type": "code",
   "execution_count": null,
   "id": "1f2d560c",
   "metadata": {},
   "outputs": [],
   "source": [
    "startswith_www.head()"
   ]
  },
  {
   "cell_type": "code",
   "execution_count": null,
   "id": "1e63d0dc",
   "metadata": {},
   "outputs": [],
   "source": [
    "df['startswith_www'] = startswith_www['startswith_www']"
   ]
  },
  {
   "cell_type": "code",
   "execution_count": null,
   "id": "5d6c6262",
   "metadata": {},
   "outputs": [],
   "source": [
    "contains_www_filtered.head()"
   ]
  },
  {
   "cell_type": "code",
   "execution_count": null,
   "id": "77c98b88",
   "metadata": {},
   "outputs": [],
   "source": [
    "df['chars_past_www'] = contains_www_filtered['count']\n",
    "df['chars_past_www_above_median'] = contains_www_filtered['above_median']"
   ]
  },
  {
   "cell_type": "code",
   "execution_count": null,
   "id": "255965f4",
   "metadata": {},
   "outputs": [],
   "source": [
    "multiple_www.head()"
   ]
  },
  {
   "cell_type": "code",
   "execution_count": null,
   "id": "2a9c8643",
   "metadata": {},
   "outputs": [],
   "source": [
    "df['multi_www'] = multiple_www['mult_www']"
   ]
  },
  {
   "cell_type": "code",
   "execution_count": null,
   "id": "136aea4b",
   "metadata": {},
   "outputs": [],
   "source": [
    "df.head()"
   ]
  },
  {
   "cell_type": "code",
   "execution_count": null,
   "id": "633ade72",
   "metadata": {},
   "outputs": [],
   "source": [
    "df.fillna(0, inplace=True)\n",
    "df['chars_past_www'] = df['chars_past_www'].astype(int)\n",
    "df['chars_past_www_above_median'] = df['chars_past_www_above_median'].astype(int)"
   ]
  },
  {
   "cell_type": "code",
   "execution_count": null,
   "id": "28c77c3b",
   "metadata": {},
   "outputs": [],
   "source": [
    "df.head()"
   ]
  },
  {
   "cell_type": "code",
   "execution_count": null,
   "id": "3128d1ba",
   "metadata": {},
   "outputs": [],
   "source": [
    "df = df[['phishing', 'url_length', 'num_english_words','punct_count', 'case_change_count','contains_www', 'startswith_www', 'chars_past_www', 'chars_past_www_above_median', 'multi_www', 'URL', 'text_tokenized', 'text_token_conc', 'Label']]"
   ]
  },
  {
   "cell_type": "code",
   "execution_count": null,
   "id": "7b076cb1",
   "metadata": {},
   "outputs": [],
   "source": [
    "df.head()"
   ]
  },
  {
   "cell_type": "code",
   "execution_count": null,
   "id": "430bf1af",
   "metadata": {},
   "outputs": [],
   "source": [
    "df.to_pickle('phishing_df.pkl')"
   ]
  },
  {
   "cell_type": "markdown",
   "id": "d2e0ccda",
   "metadata": {},
   "source": [
    "## Modeling\n",
    "### Loading the pickle file."
   ]
  },
  {
   "cell_type": "code",
   "execution_count": 115,
   "id": "2c91f348",
   "metadata": {},
   "outputs": [],
   "source": [
    "from sklearn.model_selection import train_test_split"
   ]
  },
  {
   "cell_type": "code",
   "execution_count": 116,
   "id": "400bc88d",
   "metadata": {},
   "outputs": [
    {
     "data": {
      "text/html": [
       "<div>\n",
       "<style scoped>\n",
       "    .dataframe tbody tr th:only-of-type {\n",
       "        vertical-align: middle;\n",
       "    }\n",
       "\n",
       "    .dataframe tbody tr th {\n",
       "        vertical-align: top;\n",
       "    }\n",
       "\n",
       "    .dataframe thead th {\n",
       "        text-align: right;\n",
       "    }\n",
       "</style>\n",
       "<table border=\"1\" class=\"dataframe\">\n",
       "  <thead>\n",
       "    <tr style=\"text-align: right;\">\n",
       "      <th></th>\n",
       "      <th>phishing</th>\n",
       "      <th>url_length</th>\n",
       "      <th>num_english_words</th>\n",
       "      <th>punct_count</th>\n",
       "      <th>case_change_count</th>\n",
       "      <th>contains_www</th>\n",
       "      <th>startswith_www</th>\n",
       "      <th>chars_past_www</th>\n",
       "      <th>chars_past_www_above_median</th>\n",
       "      <th>multi_www</th>\n",
       "      <th>URL</th>\n",
       "      <th>text_tokenized</th>\n",
       "      <th>text_token_conc</th>\n",
       "      <th>Label</th>\n",
       "    </tr>\n",
       "  </thead>\n",
       "  <tbody>\n",
       "    <tr>\n",
       "      <th>0</th>\n",
       "      <td>1</td>\n",
       "      <td>225</td>\n",
       "      <td>16</td>\n",
       "      <td>32</td>\n",
       "      <td>31</td>\n",
       "      <td>0</td>\n",
       "      <td>0</td>\n",
       "      <td>0</td>\n",
       "      <td>0</td>\n",
       "      <td>0</td>\n",
       "      <td>nobell.it/70ffb52d079109dca5664cce6f317373782/...</td>\n",
       "      <td>[nobell, it, ffb, d, dca, cce, f, login, SkyPe...</td>\n",
       "      <td>nobell it ffb d dca cce f login SkyPe com en c...</td>\n",
       "      <td>bad</td>\n",
       "    </tr>\n",
       "    <tr>\n",
       "      <th>1</th>\n",
       "      <td>1</td>\n",
       "      <td>81</td>\n",
       "      <td>7</td>\n",
       "      <td>15</td>\n",
       "      <td>2</td>\n",
       "      <td>1</td>\n",
       "      <td>1</td>\n",
       "      <td>77</td>\n",
       "      <td>1</td>\n",
       "      <td>0</td>\n",
       "      <td>www.dghjdgf.com/paypal.co.uk/cycgi-bin/webscrc...</td>\n",
       "      <td>[www, dghjdgf, com, paypal, co, uk, cycgi, bin...</td>\n",
       "      <td>www dghjdgf com paypal co uk cycgi bin webscrc...</td>\n",
       "      <td>bad</td>\n",
       "    </tr>\n",
       "    <tr>\n",
       "      <th>2</th>\n",
       "      <td>1</td>\n",
       "      <td>177</td>\n",
       "      <td>15</td>\n",
       "      <td>19</td>\n",
       "      <td>25</td>\n",
       "      <td>0</td>\n",
       "      <td>0</td>\n",
       "      <td>0</td>\n",
       "      <td>0</td>\n",
       "      <td>0</td>\n",
       "      <td>serviciosbys.com/paypal.cgi.bin.get-into.herf....</td>\n",
       "      <td>[serviciosbys, com, paypal, cgi, bin, get, int...</td>\n",
       "      <td>serviciosbys com paypal cgi bin get into herf ...</td>\n",
       "      <td>bad</td>\n",
       "    </tr>\n",
       "    <tr>\n",
       "      <th>3</th>\n",
       "      <td>1</td>\n",
       "      <td>60</td>\n",
       "      <td>5</td>\n",
       "      <td>8</td>\n",
       "      <td>0</td>\n",
       "      <td>1</td>\n",
       "      <td>0</td>\n",
       "      <td>37</td>\n",
       "      <td>1</td>\n",
       "      <td>0</td>\n",
       "      <td>mail.printakid.com/www.online.americanexpress....</td>\n",
       "      <td>[mail, printakid, com, www, online, americanex...</td>\n",
       "      <td>mail printakid com www online americanexpress ...</td>\n",
       "      <td>bad</td>\n",
       "    </tr>\n",
       "    <tr>\n",
       "      <th>4</th>\n",
       "      <td>1</td>\n",
       "      <td>116</td>\n",
       "      <td>2</td>\n",
       "      <td>13</td>\n",
       "      <td>3</td>\n",
       "      <td>0</td>\n",
       "      <td>0</td>\n",
       "      <td>0</td>\n",
       "      <td>0</td>\n",
       "      <td>0</td>\n",
       "      <td>thewhiskeydregs.com/wp-content/themes/widescre...</td>\n",
       "      <td>[thewhiskeydregs, com, wp, content, themes, wi...</td>\n",
       "      <td>thewhiskeydregs com wp content themes widescre...</td>\n",
       "      <td>bad</td>\n",
       "    </tr>\n",
       "  </tbody>\n",
       "</table>\n",
       "</div>"
      ],
      "text/plain": [
       "   phishing  url_length  num_english_words  punct_count  case_change_count  \\\n",
       "0         1         225                 16           32                 31   \n",
       "1         1          81                  7           15                  2   \n",
       "2         1         177                 15           19                 25   \n",
       "3         1          60                  5            8                  0   \n",
       "4         1         116                  2           13                  3   \n",
       "\n",
       "   contains_www  startswith_www  chars_past_www  chars_past_www_above_median  \\\n",
       "0             0               0               0                            0   \n",
       "1             1               1              77                            1   \n",
       "2             0               0               0                            0   \n",
       "3             1               0              37                            1   \n",
       "4             0               0               0                            0   \n",
       "\n",
       "   multi_www                                                URL  \\\n",
       "0          0  nobell.it/70ffb52d079109dca5664cce6f317373782/...   \n",
       "1          0  www.dghjdgf.com/paypal.co.uk/cycgi-bin/webscrc...   \n",
       "2          0  serviciosbys.com/paypal.cgi.bin.get-into.herf....   \n",
       "3          0  mail.printakid.com/www.online.americanexpress....   \n",
       "4          0  thewhiskeydregs.com/wp-content/themes/widescre...   \n",
       "\n",
       "                                      text_tokenized  \\\n",
       "0  [nobell, it, ffb, d, dca, cce, f, login, SkyPe...   \n",
       "1  [www, dghjdgf, com, paypal, co, uk, cycgi, bin...   \n",
       "2  [serviciosbys, com, paypal, cgi, bin, get, int...   \n",
       "3  [mail, printakid, com, www, online, americanex...   \n",
       "4  [thewhiskeydregs, com, wp, content, themes, wi...   \n",
       "\n",
       "                                     text_token_conc Label  \n",
       "0  nobell it ffb d dca cce f login SkyPe com en c...   bad  \n",
       "1  www dghjdgf com paypal co uk cycgi bin webscrc...   bad  \n",
       "2  serviciosbys com paypal cgi bin get into herf ...   bad  \n",
       "3  mail printakid com www online americanexpress ...   bad  \n",
       "4  thewhiskeydregs com wp content themes widescre...   bad  "
      ]
     },
     "execution_count": 116,
     "metadata": {},
     "output_type": "execute_result"
    }
   ],
   "source": [
    "zip_filename = \"phishing_df.zip\"\n",
    "pkl_filename = \"phishing_df.pkl\"\n",
    "\n",
    "with zipfile.ZipFile(zip_filename) as z:\n",
    "    with z.open(pkl_filename) as f:\n",
    "        # load the PKL file into a pandas DataFrame\n",
    "        df = pd.read_pickle(f)\n",
    "\n",
    "df.head()"
   ]
  },
  {
   "cell_type": "markdown",
   "id": "6fc9b0ed",
   "metadata": {},
   "source": [
    " - (below) one last check for missing or NA values."
   ]
  },
  {
   "cell_type": "code",
   "execution_count": 117,
   "id": "cff7f6f7",
   "metadata": {},
   "outputs": [
    {
     "data": {
      "text/plain": [
       "phishing                       0\n",
       "url_length                     0\n",
       "num_english_words              0\n",
       "punct_count                    0\n",
       "case_change_count              0\n",
       "contains_www                   0\n",
       "startswith_www                 0\n",
       "chars_past_www                 0\n",
       "chars_past_www_above_median    0\n",
       "multi_www                      0\n",
       "URL                            0\n",
       "text_tokenized                 0\n",
       "text_token_conc                0\n",
       "Label                          0\n",
       "dtype: int64"
      ]
     },
     "execution_count": 117,
     "metadata": {},
     "output_type": "execute_result"
    }
   ],
   "source": [
    "null_counts = df.isnull().sum()\n",
    "\n",
    "null_counts"
   ]
  },
  {
   "cell_type": "code",
   "execution_count": 118,
   "id": "ae54f418",
   "metadata": {},
   "outputs": [
    {
     "data": {
      "text/plain": [
       "phishing                       0\n",
       "url_length                     0\n",
       "num_english_words              0\n",
       "punct_count                    0\n",
       "case_change_count              0\n",
       "contains_www                   0\n",
       "startswith_www                 0\n",
       "chars_past_www                 0\n",
       "chars_past_www_above_median    0\n",
       "multi_www                      0\n",
       "URL                            0\n",
       "text_tokenized                 0\n",
       "text_token_conc                0\n",
       "Label                          0\n",
       "dtype: int64"
      ]
     },
     "execution_count": 118,
     "metadata": {},
     "output_type": "execute_result"
    }
   ],
   "source": [
    "na_counts = df.isna().sum()\n",
    "\n",
    "na_counts"
   ]
  },
  {
   "cell_type": "markdown",
   "id": "0c6c2040",
   "metadata": {},
   "source": [
    "- (below) let's remove the text/tokenized columns to prepare for modeling."
   ]
  },
  {
   "cell_type": "code",
   "execution_count": 119,
   "id": "f2f2329e",
   "metadata": {},
   "outputs": [
    {
     "data": {
      "text/plain": [
       "Index(['phishing', 'url_length', 'num_english_words', 'punct_count',\n",
       "       'case_change_count', 'contains_www', 'startswith_www', 'chars_past_www',\n",
       "       'chars_past_www_above_median', 'multi_www', 'URL', 'text_tokenized',\n",
       "       'text_token_conc', 'Label'],\n",
       "      dtype='object')"
      ]
     },
     "execution_count": 119,
     "metadata": {},
     "output_type": "execute_result"
    }
   ],
   "source": [
    "df.columns"
   ]
  },
  {
   "cell_type": "code",
   "execution_count": 120,
   "id": "be01482a",
   "metadata": {
    "scrolled": true
   },
   "outputs": [
    {
     "data": {
      "text/html": [
       "<div>\n",
       "<style scoped>\n",
       "    .dataframe tbody tr th:only-of-type {\n",
       "        vertical-align: middle;\n",
       "    }\n",
       "\n",
       "    .dataframe tbody tr th {\n",
       "        vertical-align: top;\n",
       "    }\n",
       "\n",
       "    .dataframe thead th {\n",
       "        text-align: right;\n",
       "    }\n",
       "</style>\n",
       "<table border=\"1\" class=\"dataframe\">\n",
       "  <thead>\n",
       "    <tr style=\"text-align: right;\">\n",
       "      <th></th>\n",
       "      <th>phishing</th>\n",
       "      <th>url_length</th>\n",
       "      <th>num_english_words</th>\n",
       "      <th>punct_count</th>\n",
       "      <th>case_change_count</th>\n",
       "      <th>contains_www</th>\n",
       "      <th>startswith_www</th>\n",
       "      <th>chars_past_www</th>\n",
       "      <th>chars_past_www_above_median</th>\n",
       "      <th>multi_www</th>\n",
       "    </tr>\n",
       "  </thead>\n",
       "  <tbody>\n",
       "    <tr>\n",
       "      <th>0</th>\n",
       "      <td>1</td>\n",
       "      <td>225</td>\n",
       "      <td>16</td>\n",
       "      <td>32</td>\n",
       "      <td>31</td>\n",
       "      <td>0</td>\n",
       "      <td>0</td>\n",
       "      <td>0</td>\n",
       "      <td>0</td>\n",
       "      <td>0</td>\n",
       "    </tr>\n",
       "    <tr>\n",
       "      <th>1</th>\n",
       "      <td>1</td>\n",
       "      <td>81</td>\n",
       "      <td>7</td>\n",
       "      <td>15</td>\n",
       "      <td>2</td>\n",
       "      <td>1</td>\n",
       "      <td>1</td>\n",
       "      <td>77</td>\n",
       "      <td>1</td>\n",
       "      <td>0</td>\n",
       "    </tr>\n",
       "    <tr>\n",
       "      <th>2</th>\n",
       "      <td>1</td>\n",
       "      <td>177</td>\n",
       "      <td>15</td>\n",
       "      <td>19</td>\n",
       "      <td>25</td>\n",
       "      <td>0</td>\n",
       "      <td>0</td>\n",
       "      <td>0</td>\n",
       "      <td>0</td>\n",
       "      <td>0</td>\n",
       "    </tr>\n",
       "    <tr>\n",
       "      <th>3</th>\n",
       "      <td>1</td>\n",
       "      <td>60</td>\n",
       "      <td>5</td>\n",
       "      <td>8</td>\n",
       "      <td>0</td>\n",
       "      <td>1</td>\n",
       "      <td>0</td>\n",
       "      <td>37</td>\n",
       "      <td>1</td>\n",
       "      <td>0</td>\n",
       "    </tr>\n",
       "    <tr>\n",
       "      <th>4</th>\n",
       "      <td>1</td>\n",
       "      <td>116</td>\n",
       "      <td>2</td>\n",
       "      <td>13</td>\n",
       "      <td>3</td>\n",
       "      <td>0</td>\n",
       "      <td>0</td>\n",
       "      <td>0</td>\n",
       "      <td>0</td>\n",
       "      <td>0</td>\n",
       "    </tr>\n",
       "  </tbody>\n",
       "</table>\n",
       "</div>"
      ],
      "text/plain": [
       "   phishing  url_length  num_english_words  punct_count  case_change_count  \\\n",
       "0         1         225                 16           32                 31   \n",
       "1         1          81                  7           15                  2   \n",
       "2         1         177                 15           19                 25   \n",
       "3         1          60                  5            8                  0   \n",
       "4         1         116                  2           13                  3   \n",
       "\n",
       "   contains_www  startswith_www  chars_past_www  chars_past_www_above_median  \\\n",
       "0             0               0               0                            0   \n",
       "1             1               1              77                            1   \n",
       "2             0               0               0                            0   \n",
       "3             1               0              37                            1   \n",
       "4             0               0               0                            0   \n",
       "\n",
       "   multi_www  \n",
       "0          0  \n",
       "1          0  \n",
       "2          0  \n",
       "3          0  \n",
       "4          0  "
      ]
     },
     "execution_count": 120,
     "metadata": {},
     "output_type": "execute_result"
    }
   ],
   "source": [
    "df_clean = df[['phishing', 'url_length', 'num_english_words','punct_count', 'case_change_count','contains_www', 'startswith_www', 'chars_past_www', 'chars_past_www_above_median', 'multi_www']]\n",
    "df_clean.head()"
   ]
  },
  {
   "cell_type": "code",
   "execution_count": 121,
   "id": "1cefbd59",
   "metadata": {
    "scrolled": true
   },
   "outputs": [
    {
     "data": {
      "text/plain": [
       "phishing                       int32\n",
       "url_length                     int64\n",
       "num_english_words              int64\n",
       "punct_count                    int64\n",
       "case_change_count              int64\n",
       "contains_www                   int64\n",
       "startswith_www                 int64\n",
       "chars_past_www                 int32\n",
       "chars_past_www_above_median    int32\n",
       "multi_www                      int32\n",
       "dtype: object"
      ]
     },
     "execution_count": 121,
     "metadata": {},
     "output_type": "execute_result"
    }
   ],
   "source": [
    "df_clean.dtypes"
   ]
  },
  {
   "cell_type": "markdown",
   "id": "59e5cd98",
   "metadata": {},
   "source": [
    "### Train \\ Val \\ Test Split\n",
    "- (below) train \\ val \\ test split.\n",
    "- (below) remember, don't look at test until the very end!"
   ]
  },
  {
   "cell_type": "code",
   "execution_count": 122,
   "id": "094a2b21",
   "metadata": {},
   "outputs": [],
   "source": [
    "df_full_train, df_test = train_test_split(df_clean, test_size=0.20, random_state=2023)\n",
    "\n",
    "df_train, df_val = train_test_split(df_full_train, test_size=0.25, random_state=2023)"
   ]
  },
  {
   "cell_type": "code",
   "execution_count": 123,
   "id": "c365a8b7",
   "metadata": {},
   "outputs": [
    {
     "data": {
      "text/plain": [
       "(0.5999985426139676, 0.20000072869301622, 0.20000072869301622)"
      ]
     },
     "execution_count": 123,
     "metadata": {},
     "output_type": "execute_result"
    }
   ],
   "source": [
    "len(df_train)/len(df), len(df_val)/len(df), len(df_test)/len(df)"
   ]
  },
  {
   "cell_type": "markdown",
   "id": "4f12a5e1",
   "metadata": {},
   "source": [
    "- (below) optional, but reset the indices."
   ]
  },
  {
   "cell_type": "code",
   "execution_count": 124,
   "id": "04586529",
   "metadata": {},
   "outputs": [],
   "source": [
    "df_train = df_train.reset_index(drop=True)\n",
    "df_val = df_val.reset_index(drop=True)\n",
    "df_test = df_test.reset_index(drop=True)"
   ]
  },
  {
   "cell_type": "markdown",
   "id": "4a591b0d",
   "metadata": {},
   "source": [
    "- (below) create response vectors. We use the .values method to get a numpy array which most modeling functions require."
   ]
  },
  {
   "cell_type": "code",
   "execution_count": 125,
   "id": "a22853c3",
   "metadata": {},
   "outputs": [
    {
     "data": {
      "text/plain": [
       "(pandas.core.series.Series, numpy.ndarray)"
      ]
     },
     "execution_count": 125,
     "metadata": {},
     "output_type": "execute_result"
    }
   ],
   "source": [
    "type(df_train.phishing), type(df_train.phishing.values)"
   ]
  },
  {
   "cell_type": "code",
   "execution_count": 126,
   "id": "ac6ed573",
   "metadata": {},
   "outputs": [],
   "source": [
    "y_train = df_train.phishing.values\n",
    "y_val = df_val.phishing.values\n",
    "y_test = df_test.phishing.values"
   ]
  },
  {
   "cell_type": "markdown",
   "id": "0b909e7c",
   "metadata": {},
   "source": [
    "- (below) let's delete the response vector from these datasets so we don't accidently feed it into a model\n",
    "- (below) we'll leave the phising variable in df_full_train in case we do some EDA."
   ]
  },
  {
   "cell_type": "code",
   "execution_count": 127,
   "id": "88ddedad",
   "metadata": {},
   "outputs": [],
   "source": [
    "del df_train['phishing']\n",
    "del df_val['phishing']\n",
    "del df_test['phishing']"
   ]
  },
  {
   "cell_type": "markdown",
   "id": "f56e75bf",
   "metadata": {},
   "source": [
    "### Logistic Regression"
   ]
  },
  {
   "cell_type": "code",
   "execution_count": 128,
   "id": "c8dea303",
   "metadata": {},
   "outputs": [],
   "source": [
    "from sklearn.linear_model import LogisticRegression"
   ]
  },
  {
   "cell_type": "markdown",
   "id": "80aa689f",
   "metadata": {},
   "source": [
    "- (below) initial training of logistic regression model"
   ]
  },
  {
   "cell_type": "code",
   "execution_count": 129,
   "id": "c52379ab",
   "metadata": {},
   "outputs": [
    {
     "data": {
      "text/html": [
       "<div>\n",
       "<style scoped>\n",
       "    .dataframe tbody tr th:only-of-type {\n",
       "        vertical-align: middle;\n",
       "    }\n",
       "\n",
       "    .dataframe tbody tr th {\n",
       "        vertical-align: top;\n",
       "    }\n",
       "\n",
       "    .dataframe thead th {\n",
       "        text-align: right;\n",
       "    }\n",
       "</style>\n",
       "<table border=\"1\" class=\"dataframe\">\n",
       "  <thead>\n",
       "    <tr style=\"text-align: right;\">\n",
       "      <th></th>\n",
       "      <th>url_length</th>\n",
       "      <th>num_english_words</th>\n",
       "      <th>punct_count</th>\n",
       "      <th>case_change_count</th>\n",
       "      <th>contains_www</th>\n",
       "      <th>startswith_www</th>\n",
       "      <th>chars_past_www</th>\n",
       "      <th>chars_past_www_above_median</th>\n",
       "      <th>multi_www</th>\n",
       "    </tr>\n",
       "  </thead>\n",
       "  <tbody>\n",
       "    <tr>\n",
       "      <th>0</th>\n",
       "      <td>49</td>\n",
       "      <td>5</td>\n",
       "      <td>10</td>\n",
       "      <td>2</td>\n",
       "      <td>0</td>\n",
       "      <td>0</td>\n",
       "      <td>0</td>\n",
       "      <td>0</td>\n",
       "      <td>0</td>\n",
       "    </tr>\n",
       "    <tr>\n",
       "      <th>1</th>\n",
       "      <td>46</td>\n",
       "      <td>7</td>\n",
       "      <td>9</td>\n",
       "      <td>8</td>\n",
       "      <td>0</td>\n",
       "      <td>0</td>\n",
       "      <td>0</td>\n",
       "      <td>0</td>\n",
       "      <td>0</td>\n",
       "    </tr>\n",
       "    <tr>\n",
       "      <th>2</th>\n",
       "      <td>63</td>\n",
       "      <td>6</td>\n",
       "      <td>11</td>\n",
       "      <td>0</td>\n",
       "      <td>1</td>\n",
       "      <td>1</td>\n",
       "      <td>59</td>\n",
       "      <td>1</td>\n",
       "      <td>0</td>\n",
       "    </tr>\n",
       "    <tr>\n",
       "      <th>3</th>\n",
       "      <td>37</td>\n",
       "      <td>6</td>\n",
       "      <td>1</td>\n",
       "      <td>16</td>\n",
       "      <td>0</td>\n",
       "      <td>0</td>\n",
       "      <td>0</td>\n",
       "      <td>0</td>\n",
       "      <td>0</td>\n",
       "    </tr>\n",
       "    <tr>\n",
       "      <th>4</th>\n",
       "      <td>97</td>\n",
       "      <td>6</td>\n",
       "      <td>16</td>\n",
       "      <td>6</td>\n",
       "      <td>0</td>\n",
       "      <td>0</td>\n",
       "      <td>0</td>\n",
       "      <td>0</td>\n",
       "      <td>0</td>\n",
       "    </tr>\n",
       "  </tbody>\n",
       "</table>\n",
       "</div>"
      ],
      "text/plain": [
       "   url_length  num_english_words  punct_count  case_change_count  \\\n",
       "0          49                  5           10                  2   \n",
       "1          46                  7            9                  8   \n",
       "2          63                  6           11                  0   \n",
       "3          37                  6            1                 16   \n",
       "4          97                  6           16                  6   \n",
       "\n",
       "   contains_www  startswith_www  chars_past_www  chars_past_www_above_median  \\\n",
       "0             0               0               0                            0   \n",
       "1             0               0               0                            0   \n",
       "2             1               1              59                            1   \n",
       "3             0               0               0                            0   \n",
       "4             0               0               0                            0   \n",
       "\n",
       "   multi_www  \n",
       "0          0  \n",
       "1          0  \n",
       "2          0  \n",
       "3          0  \n",
       "4          0  "
      ]
     },
     "execution_count": 129,
     "metadata": {},
     "output_type": "execute_result"
    }
   ],
   "source": [
    "df_train.head()"
   ]
  },
  {
   "cell_type": "code",
   "execution_count": 130,
   "id": "d3bf7949",
   "metadata": {},
   "outputs": [
    {
     "data": {
      "text/html": [
       "<style>#sk-container-id-3 {color: black;background-color: white;}#sk-container-id-3 pre{padding: 0;}#sk-container-id-3 div.sk-toggleable {background-color: white;}#sk-container-id-3 label.sk-toggleable__label {cursor: pointer;display: block;width: 100%;margin-bottom: 0;padding: 0.3em;box-sizing: border-box;text-align: center;}#sk-container-id-3 label.sk-toggleable__label-arrow:before {content: \"▸\";float: left;margin-right: 0.25em;color: #696969;}#sk-container-id-3 label.sk-toggleable__label-arrow:hover:before {color: black;}#sk-container-id-3 div.sk-estimator:hover label.sk-toggleable__label-arrow:before {color: black;}#sk-container-id-3 div.sk-toggleable__content {max-height: 0;max-width: 0;overflow: hidden;text-align: left;background-color: #f0f8ff;}#sk-container-id-3 div.sk-toggleable__content pre {margin: 0.2em;color: black;border-radius: 0.25em;background-color: #f0f8ff;}#sk-container-id-3 input.sk-toggleable__control:checked~div.sk-toggleable__content {max-height: 200px;max-width: 100%;overflow: auto;}#sk-container-id-3 input.sk-toggleable__control:checked~label.sk-toggleable__label-arrow:before {content: \"▾\";}#sk-container-id-3 div.sk-estimator input.sk-toggleable__control:checked~label.sk-toggleable__label {background-color: #d4ebff;}#sk-container-id-3 div.sk-label input.sk-toggleable__control:checked~label.sk-toggleable__label {background-color: #d4ebff;}#sk-container-id-3 input.sk-hidden--visually {border: 0;clip: rect(1px 1px 1px 1px);clip: rect(1px, 1px, 1px, 1px);height: 1px;margin: -1px;overflow: hidden;padding: 0;position: absolute;width: 1px;}#sk-container-id-3 div.sk-estimator {font-family: monospace;background-color: #f0f8ff;border: 1px dotted black;border-radius: 0.25em;box-sizing: border-box;margin-bottom: 0.5em;}#sk-container-id-3 div.sk-estimator:hover {background-color: #d4ebff;}#sk-container-id-3 div.sk-parallel-item::after {content: \"\";width: 100%;border-bottom: 1px solid gray;flex-grow: 1;}#sk-container-id-3 div.sk-label:hover label.sk-toggleable__label {background-color: #d4ebff;}#sk-container-id-3 div.sk-serial::before {content: \"\";position: absolute;border-left: 1px solid gray;box-sizing: border-box;top: 0;bottom: 0;left: 50%;z-index: 0;}#sk-container-id-3 div.sk-serial {display: flex;flex-direction: column;align-items: center;background-color: white;padding-right: 0.2em;padding-left: 0.2em;position: relative;}#sk-container-id-3 div.sk-item {position: relative;z-index: 1;}#sk-container-id-3 div.sk-parallel {display: flex;align-items: stretch;justify-content: center;background-color: white;position: relative;}#sk-container-id-3 div.sk-item::before, #sk-container-id-3 div.sk-parallel-item::before {content: \"\";position: absolute;border-left: 1px solid gray;box-sizing: border-box;top: 0;bottom: 0;left: 50%;z-index: -1;}#sk-container-id-3 div.sk-parallel-item {display: flex;flex-direction: column;z-index: 1;position: relative;background-color: white;}#sk-container-id-3 div.sk-parallel-item:first-child::after {align-self: flex-end;width: 50%;}#sk-container-id-3 div.sk-parallel-item:last-child::after {align-self: flex-start;width: 50%;}#sk-container-id-3 div.sk-parallel-item:only-child::after {width: 0;}#sk-container-id-3 div.sk-dashed-wrapped {border: 1px dashed gray;margin: 0 0.4em 0.5em 0.4em;box-sizing: border-box;padding-bottom: 0.4em;background-color: white;}#sk-container-id-3 div.sk-label label {font-family: monospace;font-weight: bold;display: inline-block;line-height: 1.2em;}#sk-container-id-3 div.sk-label-container {text-align: center;}#sk-container-id-3 div.sk-container {/* jupyter's `normalize.less` sets `[hidden] { display: none; }` but bootstrap.min.css set `[hidden] { display: none !important; }` so we also need the `!important` here to be able to override the default hidden behavior on the sphinx rendered scikit-learn.org. See: https://github.com/scikit-learn/scikit-learn/issues/21755 */display: inline-block !important;position: relative;}#sk-container-id-3 div.sk-text-repr-fallback {display: none;}</style><div id=\"sk-container-id-3\" class=\"sk-top-container\"><div class=\"sk-text-repr-fallback\"><pre>LogisticRegression(max_iter=1000)</pre><b>In a Jupyter environment, please rerun this cell to show the HTML representation or trust the notebook. <br />On GitHub, the HTML representation is unable to render, please try loading this page with nbviewer.org.</b></div><div class=\"sk-container\" hidden><div class=\"sk-item\"><div class=\"sk-estimator sk-toggleable\"><input class=\"sk-toggleable__control sk-hidden--visually\" id=\"sk-estimator-id-3\" type=\"checkbox\" checked><label for=\"sk-estimator-id-3\" class=\"sk-toggleable__label sk-toggleable__label-arrow\">LogisticRegression</label><div class=\"sk-toggleable__content\"><pre>LogisticRegression(max_iter=1000)</pre></div></div></div></div></div>"
      ],
      "text/plain": [
       "LogisticRegression(max_iter=1000)"
      ]
     },
     "execution_count": 130,
     "metadata": {},
     "output_type": "execute_result"
    }
   ],
   "source": [
    "X_train = df_train.values\n",
    "\n",
    "model = LogisticRegression(max_iter= 1000)\n",
    "model.fit(X_train, y_train)"
   ]
  },
  {
   "cell_type": "markdown",
   "id": "9e56b263",
   "metadata": {},
   "source": [
    "- (below) bias term."
   ]
  },
  {
   "cell_type": "code",
   "execution_count": 131,
   "id": "9ea2885a",
   "metadata": {},
   "outputs": [
    {
     "data": {
      "text/plain": [
       "-0.9288565111474612"
      ]
     },
     "execution_count": 131,
     "metadata": {},
     "output_type": "execute_result"
    }
   ],
   "source": [
    "w0 = model.intercept_[0] # its a 2d array, we only need 1 row tho.\n",
    "w0"
   ]
  },
  {
   "cell_type": "code",
   "execution_count": 132,
   "id": "f73a25bb",
   "metadata": {},
   "outputs": [
    {
     "name": "stdout",
     "output_type": "stream",
     "text": [
      "bias: 0.2831567611789344\n"
     ]
    }
   ],
   "source": [
    "def sigmoid(z):\n",
    "    return 1 / (1 + np.exp(-z))\n",
    "\n",
    "bias = sigmoid(w0)\n",
    "\n",
    "print(\"bias: {}\" .format(bias))"
   ]
  },
  {
   "cell_type": "markdown",
   "id": "889bed84",
   "metadata": {},
   "source": [
    "- (above) without knowing anything about a URL, the probability it is a phishing site is thought to be 28.3%."
   ]
  },
  {
   "cell_type": "markdown",
   "id": "68cd2058",
   "metadata": {},
   "source": [
    "- (below) coefficients."
   ]
  },
  {
   "cell_type": "code",
   "execution_count": 133,
   "id": "3b2ebb37",
   "metadata": {},
   "outputs": [
    {
     "data": {
      "text/plain": [
       "array([-0.009,  0.147, -0.058,  0.072,  1.362, -2.705,  0.046, -0.275,\n",
       "        3.482])"
      ]
     },
     "execution_count": 133,
     "metadata": {},
     "output_type": "execute_result"
    }
   ],
   "source": [
    "model.coef_[0].round(3) # same"
   ]
  },
  {
   "cell_type": "code",
   "execution_count": 134,
   "id": "9a809d19",
   "metadata": {},
   "outputs": [
    {
     "data": {
      "text/plain": [
       "{'url_length': -0.009,\n",
       " 'num_english_words': 0.147,\n",
       " 'punct_count': -0.058,\n",
       " 'case_change_count': 0.072,\n",
       " 'contains_www': 1.362,\n",
       " 'startswith_www': -2.705,\n",
       " 'chars_past_www': 0.046,\n",
       " 'chars_past_www_above_median': -0.275,\n",
       " 'multi_www': 3.482}"
      ]
     },
     "execution_count": 134,
     "metadata": {},
     "output_type": "execute_result"
    }
   ],
   "source": [
    "coefs = dict(zip(df_train.columns, model.coef_[0].round(3)))\n",
    "coefs"
   ]
  },
  {
   "cell_type": "markdown",
   "id": "cf9c83a7",
   "metadata": {},
   "source": [
    "#### Predicting the validation set."
   ]
  },
  {
   "cell_type": "code",
   "execution_count": 135,
   "id": "84057143",
   "metadata": {},
   "outputs": [],
   "source": [
    "from sklearn.metrics import accuracy_score\n",
    "from collections import Counter"
   ]
  },
  {
   "cell_type": "markdown",
   "id": "3ab0d208",
   "metadata": {},
   "source": [
    "- (below) hard predictions (0, 1)"
   ]
  },
  {
   "cell_type": "code",
   "execution_count": 136,
   "id": "6b7b89e6",
   "metadata": {},
   "outputs": [
    {
     "data": {
      "text/plain": [
       "array([0, 0, 0, ..., 0, 0, 0])"
      ]
     },
     "execution_count": 136,
     "metadata": {},
     "output_type": "execute_result"
    }
   ],
   "source": [
    "X_val = df_val.values\n",
    "model.predict(X_val)"
   ]
  },
  {
   "cell_type": "markdown",
   "id": "0f21a0ea",
   "metadata": {},
   "source": [
    "- (below) soft predictions (probabilities)\n",
    "- (below) column 1 is the probability of no phishing, column 2 is the probability of phishing."
   ]
  },
  {
   "cell_type": "code",
   "execution_count": 137,
   "id": "fad91ae2",
   "metadata": {},
   "outputs": [
    {
     "data": {
      "text/plain": [
       "array([[0.82433995, 0.17566005],\n",
       "       [0.76437738, 0.23562262],\n",
       "       [0.73484322, 0.26515678],\n",
       "       ...,\n",
       "       [0.75495842, 0.24504158],\n",
       "       [0.76507225, 0.23492775],\n",
       "       [0.79798972, 0.20201028]])"
      ]
     },
     "execution_count": 137,
     "metadata": {},
     "output_type": "execute_result"
    }
   ],
   "source": [
    "model.predict_proba(X_val)"
   ]
  },
  {
   "cell_type": "code",
   "execution_count": 138,
   "id": "2ca316b7",
   "metadata": {},
   "outputs": [
    {
     "data": {
      "text/plain": [
       "array([0.17566005, 0.23562262, 0.26515678, ..., 0.24504158, 0.23492775,\n",
       "       0.20201028])"
      ]
     },
     "execution_count": 138,
     "metadata": {},
     "output_type": "execute_result"
    }
   ],
   "source": [
    "y_val_pred = model.predict_proba(X_val)[:, 1]\n",
    "y_val_pred"
   ]
  },
  {
   "cell_type": "markdown",
   "id": "cf761d64",
   "metadata": {},
   "source": [
    "### Model Evaluation\n",
    "#### Sub-Optimal Model Evaluation"
   ]
  },
  {
   "cell_type": "markdown",
   "id": "7742f524",
   "metadata": {},
   "source": [
    "- (below) our first decision rule will be a probability of 0.5"
   ]
  },
  {
   "cell_type": "code",
   "execution_count": 139,
   "id": "fb5213a4",
   "metadata": {},
   "outputs": [
    {
     "data": {
      "text/plain": [
       "array([False, False, False, ..., False, False, False])"
      ]
     },
     "execution_count": 139,
     "metadata": {},
     "output_type": "execute_result"
    }
   ],
   "source": [
    "phishing_decision = (y_val_pred >= 0.5)\n",
    "phishing_decision"
   ]
  },
  {
   "cell_type": "markdown",
   "id": "de20e234",
   "metadata": {},
   "source": [
    "- (below) our first accuracy measure"
   ]
  },
  {
   "cell_type": "code",
   "execution_count": 140,
   "id": "64b2377d",
   "metadata": {},
   "outputs": [
    {
     "data": {
      "text/plain": [
       "0.7630207858925546"
      ]
     },
     "execution_count": 140,
     "metadata": {},
     "output_type": "execute_result"
    }
   ],
   "source": [
    "accuracy_score(y_val, y_val_pred >= 0.45)"
   ]
  },
  {
   "cell_type": "markdown",
   "id": "3e8657a3",
   "metadata": {},
   "source": [
    "- (below) let's make a prediction table"
   ]
  },
  {
   "cell_type": "code",
   "execution_count": 141,
   "id": "fa710dfe",
   "metadata": {},
   "outputs": [
    {
     "data": {
      "text/html": [
       "<div>\n",
       "<style scoped>\n",
       "    .dataframe tbody tr th:only-of-type {\n",
       "        vertical-align: middle;\n",
       "    }\n",
       "\n",
       "    .dataframe tbody tr th {\n",
       "        vertical-align: top;\n",
       "    }\n",
       "\n",
       "    .dataframe thead th {\n",
       "        text-align: right;\n",
       "    }\n",
       "</style>\n",
       "<table border=\"1\" class=\"dataframe\">\n",
       "  <thead>\n",
       "    <tr style=\"text-align: right;\">\n",
       "      <th></th>\n",
       "      <th>probability</th>\n",
       "      <th>prediction</th>\n",
       "      <th>actual</th>\n",
       "      <th>correct</th>\n",
       "    </tr>\n",
       "  </thead>\n",
       "  <tbody>\n",
       "    <tr>\n",
       "      <th>0</th>\n",
       "      <td>0.175660</td>\n",
       "      <td>0</td>\n",
       "      <td>1</td>\n",
       "      <td>False</td>\n",
       "    </tr>\n",
       "    <tr>\n",
       "      <th>1</th>\n",
       "      <td>0.235623</td>\n",
       "      <td>0</td>\n",
       "      <td>0</td>\n",
       "      <td>True</td>\n",
       "    </tr>\n",
       "    <tr>\n",
       "      <th>2</th>\n",
       "      <td>0.265157</td>\n",
       "      <td>0</td>\n",
       "      <td>1</td>\n",
       "      <td>False</td>\n",
       "    </tr>\n",
       "    <tr>\n",
       "      <th>3</th>\n",
       "      <td>0.250126</td>\n",
       "      <td>0</td>\n",
       "      <td>0</td>\n",
       "      <td>True</td>\n",
       "    </tr>\n",
       "    <tr>\n",
       "      <th>4</th>\n",
       "      <td>0.254289</td>\n",
       "      <td>0</td>\n",
       "      <td>1</td>\n",
       "      <td>False</td>\n",
       "    </tr>\n",
       "    <tr>\n",
       "      <th>...</th>\n",
       "      <td>...</td>\n",
       "      <td>...</td>\n",
       "      <td>...</td>\n",
       "      <td>...</td>\n",
       "    </tr>\n",
       "    <tr>\n",
       "      <th>109781</th>\n",
       "      <td>0.212894</td>\n",
       "      <td>0</td>\n",
       "      <td>1</td>\n",
       "      <td>False</td>\n",
       "    </tr>\n",
       "    <tr>\n",
       "      <th>109782</th>\n",
       "      <td>0.335452</td>\n",
       "      <td>0</td>\n",
       "      <td>0</td>\n",
       "      <td>True</td>\n",
       "    </tr>\n",
       "    <tr>\n",
       "      <th>109783</th>\n",
       "      <td>0.245042</td>\n",
       "      <td>0</td>\n",
       "      <td>0</td>\n",
       "      <td>True</td>\n",
       "    </tr>\n",
       "    <tr>\n",
       "      <th>109784</th>\n",
       "      <td>0.234928</td>\n",
       "      <td>0</td>\n",
       "      <td>0</td>\n",
       "      <td>True</td>\n",
       "    </tr>\n",
       "    <tr>\n",
       "      <th>109785</th>\n",
       "      <td>0.202010</td>\n",
       "      <td>0</td>\n",
       "      <td>0</td>\n",
       "      <td>True</td>\n",
       "    </tr>\n",
       "  </tbody>\n",
       "</table>\n",
       "<p>109786 rows × 4 columns</p>\n",
       "</div>"
      ],
      "text/plain": [
       "        probability  prediction  actual  correct\n",
       "0          0.175660           0       1    False\n",
       "1          0.235623           0       0     True\n",
       "2          0.265157           0       1    False\n",
       "3          0.250126           0       0     True\n",
       "4          0.254289           0       1    False\n",
       "...             ...         ...     ...      ...\n",
       "109781     0.212894           0       1    False\n",
       "109782     0.335452           0       0     True\n",
       "109783     0.245042           0       0     True\n",
       "109784     0.234928           0       0     True\n",
       "109785     0.202010           0       0     True\n",
       "\n",
       "[109786 rows x 4 columns]"
      ]
     },
     "execution_count": 141,
     "metadata": {},
     "output_type": "execute_result"
    }
   ],
   "source": [
    "df_pred = pd.DataFrame()\n",
    "df_pred['probability'] = y_val_pred\n",
    "df_pred['prediction'] = phishing_decision.astype(int)\n",
    "df_pred['actual'] = y_val\n",
    "df_pred['correct'] = df_pred.prediction == df_pred.actual\n",
    "df_pred"
   ]
  },
  {
   "cell_type": "markdown",
   "id": "0c77a779",
   "metadata": {},
   "source": [
    "- (below) just double-checking that the model was able to predict some phishing sites..."
   ]
  },
  {
   "cell_type": "code",
   "execution_count": 142,
   "id": "99f90b2e",
   "metadata": {},
   "outputs": [
    {
     "data": {
      "text/html": [
       "<div>\n",
       "<style scoped>\n",
       "    .dataframe tbody tr th:only-of-type {\n",
       "        vertical-align: middle;\n",
       "    }\n",
       "\n",
       "    .dataframe tbody tr th {\n",
       "        vertical-align: top;\n",
       "    }\n",
       "\n",
       "    .dataframe thead th {\n",
       "        text-align: right;\n",
       "    }\n",
       "</style>\n",
       "<table border=\"1\" class=\"dataframe\">\n",
       "  <thead>\n",
       "    <tr style=\"text-align: right;\">\n",
       "      <th></th>\n",
       "      <th>probability</th>\n",
       "      <th>prediction</th>\n",
       "      <th>actual</th>\n",
       "      <th>correct</th>\n",
       "    </tr>\n",
       "  </thead>\n",
       "  <tbody>\n",
       "    <tr>\n",
       "      <th>12</th>\n",
       "      <td>0.999997</td>\n",
       "      <td>1</td>\n",
       "      <td>1</td>\n",
       "      <td>True</td>\n",
       "    </tr>\n",
       "    <tr>\n",
       "      <th>27</th>\n",
       "      <td>0.897044</td>\n",
       "      <td>1</td>\n",
       "      <td>1</td>\n",
       "      <td>True</td>\n",
       "    </tr>\n",
       "    <tr>\n",
       "      <th>29</th>\n",
       "      <td>0.793168</td>\n",
       "      <td>1</td>\n",
       "      <td>1</td>\n",
       "      <td>True</td>\n",
       "    </tr>\n",
       "    <tr>\n",
       "      <th>30</th>\n",
       "      <td>0.966198</td>\n",
       "      <td>1</td>\n",
       "      <td>1</td>\n",
       "      <td>True</td>\n",
       "    </tr>\n",
       "    <tr>\n",
       "      <th>53</th>\n",
       "      <td>0.578677</td>\n",
       "      <td>1</td>\n",
       "      <td>1</td>\n",
       "      <td>True</td>\n",
       "    </tr>\n",
       "    <tr>\n",
       "      <th>...</th>\n",
       "      <td>...</td>\n",
       "      <td>...</td>\n",
       "      <td>...</td>\n",
       "      <td>...</td>\n",
       "    </tr>\n",
       "    <tr>\n",
       "      <th>109692</th>\n",
       "      <td>0.923469</td>\n",
       "      <td>1</td>\n",
       "      <td>1</td>\n",
       "      <td>True</td>\n",
       "    </tr>\n",
       "    <tr>\n",
       "      <th>109695</th>\n",
       "      <td>0.636414</td>\n",
       "      <td>1</td>\n",
       "      <td>1</td>\n",
       "      <td>True</td>\n",
       "    </tr>\n",
       "    <tr>\n",
       "      <th>109709</th>\n",
       "      <td>0.866669</td>\n",
       "      <td>1</td>\n",
       "      <td>1</td>\n",
       "      <td>True</td>\n",
       "    </tr>\n",
       "    <tr>\n",
       "      <th>109762</th>\n",
       "      <td>0.986793</td>\n",
       "      <td>1</td>\n",
       "      <td>1</td>\n",
       "      <td>True</td>\n",
       "    </tr>\n",
       "    <tr>\n",
       "      <th>109773</th>\n",
       "      <td>0.595959</td>\n",
       "      <td>1</td>\n",
       "      <td>1</td>\n",
       "      <td>True</td>\n",
       "    </tr>\n",
       "  </tbody>\n",
       "</table>\n",
       "<p>5824 rows × 4 columns</p>\n",
       "</div>"
      ],
      "text/plain": [
       "        probability  prediction  actual  correct\n",
       "12         0.999997           1       1     True\n",
       "27         0.897044           1       1     True\n",
       "29         0.793168           1       1     True\n",
       "30         0.966198           1       1     True\n",
       "53         0.578677           1       1     True\n",
       "...             ...         ...     ...      ...\n",
       "109692     0.923469           1       1     True\n",
       "109695     0.636414           1       1     True\n",
       "109709     0.866669           1       1     True\n",
       "109762     0.986793           1       1     True\n",
       "109773     0.595959           1       1     True\n",
       "\n",
       "[5824 rows x 4 columns]"
      ]
     },
     "execution_count": 142,
     "metadata": {},
     "output_type": "execute_result"
    }
   ],
   "source": [
    "df_pred[(df_pred['correct'] == True) & (df_pred['prediction'] == 1)]"
   ]
  },
  {
   "cell_type": "markdown",
   "id": "3c574428",
   "metadata": {},
   "source": [
    "- (below) there shouldn't be in any predictions with a 1.0 probability."
   ]
  },
  {
   "cell_type": "code",
   "execution_count": 143,
   "id": "b8b87ff5",
   "metadata": {},
   "outputs": [
    {
     "data": {
      "text/plain": [
       "Counter({False: 109782, True: 4})"
      ]
     },
     "execution_count": 143,
     "metadata": {},
     "output_type": "execute_result"
    }
   ],
   "source": [
    "Counter(y_val_pred >= 1.0)"
   ]
  },
  {
   "cell_type": "markdown",
   "id": "2c5b871a",
   "metadata": {},
   "source": [
    "#### Better Model Evaluation Practices"
   ]
  },
  {
   "cell_type": "markdown",
   "id": "9530eb84",
   "metadata": {},
   "source": [
    "- (below) we need to be aware of class balance."
   ]
  },
  {
   "cell_type": "code",
   "execution_count": 144,
   "id": "33c3fe24",
   "metadata": {},
   "outputs": [
    {
     "name": "stdout",
     "output_type": "stream",
     "text": [
      "non-phishing sites: 78457\n",
      "phishing sites: 31329\n",
      "there are 2.50 times as many non-phishing sites as phishing sites\n"
     ]
    }
   ],
   "source": [
    "print('non-phishing sites: {}' .format(np.bincount(y_val)[0]))\n",
    "print('phishing sites: {}' .format(np.bincount(y_val)[1]))\n",
    "print('there are {:.2f} times as many non-phishing sites as phishing sites'.format(np.bincount(y_val)[0] / np.bincount(y_val)[1]))"
   ]
  },
  {
   "cell_type": "markdown",
   "id": "c8d99385",
   "metadata": {},
   "source": [
    "- (below) accuracy predicting phishing sites..."
   ]
  },
  {
   "cell_type": "code",
   "execution_count": 145,
   "id": "25f938a5",
   "metadata": {},
   "outputs": [
    {
     "data": {
      "text/plain": [
       "0.18589804973028184"
      ]
     },
     "execution_count": 145,
     "metadata": {},
     "output_type": "execute_result"
    }
   ],
   "source": [
    "df_pred[df_pred['actual'] == 1].correct.mean()"
   ]
  },
  {
   "cell_type": "markdown",
   "id": "71204329",
   "metadata": {},
   "source": [
    "- (below) accuracy predicting good sites..."
   ]
  },
  {
   "cell_type": "code",
   "execution_count": 146,
   "id": "b67bb2d2",
   "metadata": {},
   "outputs": [
    {
     "data": {
      "text/plain": [
       "0.9914347986795314"
      ]
     },
     "execution_count": 146,
     "metadata": {},
     "output_type": "execute_result"
    }
   ],
   "source": [
    "df_pred[df_pred['actual'] == 0].correct.mean()"
   ]
  },
  {
   "cell_type": "markdown",
   "id": "e8cd89c3",
   "metadata": {},
   "source": [
    "##### Confusion Matrix"
   ]
  },
  {
   "cell_type": "markdown",
   "id": "2a62ee03",
   "metadata": {},
   "source": [
    "- (below) false negatives are sites we think are safe not but are actually phishing.\n",
    "- (below) false positives are sites we think are phishing but are actually safe."
   ]
  },
  {
   "cell_type": "code",
   "execution_count": 147,
   "id": "10217732",
   "metadata": {},
   "outputs": [
    {
     "data": {
      "image/png": "[encoded data removed]",
      "text/plain": [
       "<Figure size 640x480 with 2 Axes>"
      ]
     },
     "metadata": {},
     "output_type": "display_data"
    }
   ],
   "source": [
    "from sklearn.metrics import confusion_matrix\n",
    "from sklearn.metrics import ConfusionMatrixDisplay\n",
    "\n",
    "t = 0.50\n",
    "\n",
    "ConfusionMatrixDisplay.from_predictions(y_val, y_val_pred >= t)\n",
    "plt.show()"
   ]
  },
  {
   "cell_type": "markdown",
   "id": "2c83499a",
   "metadata": {},
   "source": [
    "- (below) we can recover the accuracy by adding the true negative and true positive normalized values."
   ]
  },
  {
   "cell_type": "code",
   "execution_count": 148,
   "id": "6e768081",
   "metadata": {},
   "outputs": [
    {
     "data": {
      "image/png": "[encoded data removed]",
      "text/plain": [
       "<Figure size 640x480 with 2 Axes>"
      ]
     },
     "metadata": {},
     "output_type": "display_data"
    }
   ],
   "source": [
    "ConfusionMatrixDisplay.from_predictions(y_val, y_val_pred >= t, normalize = 'all')\n",
    "plt.show()"
   ]
  },
  {
   "cell_type": "markdown",
   "id": "375fffb7",
   "metadata": {},
   "source": [
    "##### ROC curve"
   ]
  },
  {
   "cell_type": "code",
   "execution_count": 149,
   "id": "645a2c9a",
   "metadata": {},
   "outputs": [],
   "source": [
    "from sklearn.metrics import roc_curve\n",
    "from sklearn.metrics import auc\n",
    "from sklearn.metrics import roc_auc_score"
   ]
  },
  {
   "cell_type": "code",
   "execution_count": 150,
   "id": "715ca0e1",
   "metadata": {},
   "outputs": [],
   "source": [
    "fpr, tpr, thresholds = roc_curve(y_val, y_val_pred)"
   ]
  },
  {
   "cell_type": "code",
   "execution_count": 151,
   "id": "0caaa1bb",
   "metadata": {},
   "outputs": [
    {
     "data": {
      "text/plain": [
       "<matplotlib.legend.Legend at 0x1b3976bae20>"
      ]
     },
     "execution_count": 151,
     "metadata": {},
     "output_type": "execute_result"
    },
    {
     "data": {
      "image/png": "[encoded data removed]",
      "text/plain": [
       "<Figure size 500x500 with 1 Axes>"
      ]
     },
     "metadata": {},
     "output_type": "display_data"
    }
   ],
   "source": [
    "plt.figure(figsize=(5, 5))\n",
    "\n",
    "plt.plot(fpr, tpr, label='Model')\n",
    "plt.plot([0, 1], [0, 1], label='Random', linestyle='--')\n",
    "\n",
    "plt.xlabel('FPR')\n",
    "plt.ylabel('TPR')\n",
    "\n",
    "plt.legend()"
   ]
  },
  {
   "cell_type": "markdown",
   "id": "5a4dfad0",
   "metadata": {},
   "source": [
    "- (above) point 0,0: no false positives because we're assigning everything to class 0. \n",
    "- (above) point 0,0: No false negatives because we are getting all the true negative values by assigning EVERYTHING to class 0\n",
    "- (above) point 1,1: high true positive rate because we're getting all the true positive values by assigning everything to class 1.\n",
    "- (above) point 1,1: high false positive rate because we're making a lot of mistakes.\n",
    "- (above) a good model looks like a rounded 90 degree corner.\n",
    "- (above) a bad model will look similar to a diagonal curve.\n",
    "- (above) if the model curve is inverted and below the diagonal line, then something went wrong. you probably need to switch your 1 and 0's."
   ]
  },
  {
   "cell_type": "code",
   "execution_count": 152,
   "id": "8328aa22",
   "metadata": {},
   "outputs": [
    {
     "data": {
      "text/plain": [
       "0.6172599591401042"
      ]
     },
     "execution_count": 152,
     "metadata": {},
     "output_type": "execute_result"
    }
   ],
   "source": [
    "roc_auc_score(y_val, y_val_pred)"
   ]
  },
  {
   "cell_type": "markdown",
   "id": "4cacc679",
   "metadata": {},
   "source": [
    "- (above) AUC under the random curve (diagonal line) is 0.5\n",
    "- (above) AUC under the ideal curve (90 degree corner) is 1\n",
    "- (above) in other words, AUC ranges from 0.5 to 1.0\n",
    "- (above) INTERPRETATION: image you have your predictions and you have ordered them by their soft prediction value (probability)\n",
    "    - now split this list into ordered subsets, one for those who churned and one for those who didn't.\n",
    "    - AUC is the probabililty that the score is higher for a randomly selected positive (phishing) observation than a randomly selected negative (non-phishing) observation."
   ]
  },
  {
   "cell_type": "markdown",
   "id": "3d856382",
   "metadata": {},
   "source": [
    "##### K-Fold Cross-Validation\n",
    "-  Evaluating the same model on different subsets of data\n",
    "-  Getting the average prediction and the spread within predictions\n",
    "- (below) `train` and `predict` functions.\n",
    "- (below) the C parameter is regularization strength and we will tune it later."
   ]
  },
  {
   "cell_type": "code",
   "execution_count": 153,
   "id": "692e867e",
   "metadata": {},
   "outputs": [],
   "source": [
    "def train(df_train, y_train, C=1.0):\n",
    "    X_train = df_train.values\n",
    "\n",
    "    model = LogisticRegression(C=C, max_iter= 1000)\n",
    "    model.fit(X_train, y_train) \n",
    "       \n",
    "    return model"
   ]
  },
  {
   "cell_type": "code",
   "execution_count": 154,
   "id": "5b6f456f",
   "metadata": {},
   "outputs": [],
   "source": [
    "def predict(df_pred, model):\n",
    "    X = df_pred.values\n",
    "    y_pred = model.predict_proba(X)[:, 1]\n",
    "\n",
    "    return y_pred"
   ]
  },
  {
   "cell_type": "markdown",
   "id": "9c3ccab8",
   "metadata": {},
   "source": [
    "- (below) combine train and validation sets into a \"full train\" set.\n",
    "- (below) Split the validation set into \"K\" different sets.\n",
    "- (below) rule of thumb: K = 2-3 for large datasets, 5-10 for smaller datasets.\n",
    "- (below) Use K-1 sets to train a model to predict the last set.\n",
    "- (below) Do this K times. For K = 3, train set 1 and 2 to predict 3, train set 2 and 3 to predict 1, train set 1 and 3 to predict 2.\n",
    "- (below) at each step, calculate ROC AUC\n",
    "- (below) at the end, summarize these K values with a mean score and st.dev"
   ]
  },
  {
   "cell_type": "code",
   "execution_count": 155,
   "id": "53aefdf4",
   "metadata": {},
   "outputs": [
    {
     "data": {
      "text/plain": [
       "(439142, 9)"
      ]
     },
     "execution_count": 155,
     "metadata": {},
     "output_type": "execute_result"
    }
   ],
   "source": [
    "df_full_train = pd.concat([df_train, df_val])\n",
    "df_full_train.shape"
   ]
  },
  {
   "cell_type": "code",
   "execution_count": 156,
   "id": "3bace512",
   "metadata": {},
   "outputs": [
    {
     "data": {
      "text/plain": [
       "(439142,)"
      ]
     },
     "execution_count": 156,
     "metadata": {},
     "output_type": "execute_result"
    }
   ],
   "source": [
    "y_full_train  = np.concatenate((y_train, y_val))\n",
    "y_full_train.shape"
   ]
  },
  {
   "cell_type": "code",
   "execution_count": 157,
   "id": "5789c589",
   "metadata": {},
   "outputs": [],
   "source": [
    "from sklearn.model_selection import KFold"
   ]
  },
  {
   "cell_type": "markdown",
   "id": "13091b0f",
   "metadata": {},
   "source": [
    "- (below) kfold.split() creates a generator that be iterated through by using the next() function."
   ]
  },
  {
   "cell_type": "code",
   "execution_count": 158,
   "id": "7aa5108b",
   "metadata": {},
   "outputs": [
    {
     "name": "stdout",
     "output_type": "stream",
     "text": [
      "0.618 +- 0.000\n",
      "0.619 +- 0.001\n",
      "0.617 +- 0.002\n",
      "0.617 +- 0.002\n",
      "0.617 +- 0.002\n"
     ]
    }
   ],
   "source": [
    "n_splits = 5\n",
    "\n",
    "kfold = KFold(n_splits=n_splits, shuffle=True, random_state=1)\n",
    "\n",
    "scores = []\n",
    "\n",
    "for train_idx, val_idx in kfold.split(df_full_train):\n",
    "    df_train_fold = df_full_train.iloc[train_idx]\n",
    "    df_val_fold = df_full_train.iloc[val_idx]\n",
    "\n",
    "    y_train_fold = y_full_train[train_idx]\n",
    "    y_val_fold = y_full_train[val_idx]\n",
    "\n",
    "    model_fold = train(df_train_fold, y_train_fold)\n",
    "    y_pred_fold = predict(df_val_fold, model_fold)\n",
    "\n",
    "    auc = roc_auc_score(y_val_fold, y_pred_fold)\n",
    "    scores.append(auc)\n",
    "\n",
    "    print('%.3f +- %.3f' % (np.mean(scores), np.std(scores)))"
   ]
  },
  {
   "cell_type": "markdown",
   "id": "8da0da46",
   "metadata": {},
   "source": [
    "### Tune the Model"
   ]
  },
  {
   "cell_type": "code",
   "execution_count": 159,
   "id": "b6116c19",
   "metadata": {},
   "outputs": [],
   "source": [
    "from tqdm.auto import tqdm"
   ]
  },
  {
   "cell_type": "markdown",
   "id": "0718485d",
   "metadata": {},
   "source": [
    "- (above) tqdm displays how long a for loop will take to complete."
   ]
  },
  {
   "cell_type": "markdown",
   "id": "86ae3088",
   "metadata": {},
   "source": [
    "#### tune the decision threshold"
   ]
  },
  {
   "cell_type": "code",
   "execution_count": 160,
   "id": "c947f4ad",
   "metadata": {},
   "outputs": [
    {
     "data": {
      "application/vnd.jupyter.widget-view+json": {
       "model_id": "40eee5a7a191470ab2d717f26a01d6f8",
       "version_major": 2,
       "version_minor": 0
      },
      "text/plain": [
       "KFold iterations:   0%|          | 0/5 [00:00<?, ?it/s]"
      ]
     },
     "metadata": {},
     "output_type": "display_data"
    }
   ],
   "source": [
    "thresholds = np.linspace(0, 1, 101)\n",
    "\n",
    "n_splits = 5\n",
    "\n",
    "kfold = KFold(n_splits=n_splits, shuffle=True, random_state=1)\n",
    "\n",
    "scores_sum = np.zeros((len(thresholds), 8))\n",
    "\n",
    "for train_idx, val_idx in tqdm(kfold.split(df_full_train), total = n_splits, desc = \"KFold iterations\"):\n",
    "    df_train_fold = df_full_train.iloc[train_idx]\n",
    "    df_val_fold = df_full_train.iloc[val_idx]\n",
    "\n",
    "    y_train_fold = y_full_train[train_idx]\n",
    "    y_val_fold = y_full_train[val_idx]\n",
    "\n",
    "    model_fold = train(df_train_fold, y_train_fold)\n",
    "    y_pred_fold = predict(df_val_fold, model_fold)\n",
    "\n",
    "    actual_positive = (y_val_fold == 1)\n",
    "    actual_negative = (y_val_fold == 0)\n",
    "\n",
    "    for i, t in enumerate(thresholds):\n",
    "\n",
    "        predict_positive = (y_pred_fold >= t)\n",
    "        predict_negative = (y_pred_fold < t)\n",
    "\n",
    "        tp = (predict_positive & actual_positive).sum()\n",
    "        tn = (predict_negative & actual_negative).sum()\n",
    "\n",
    "        fp = (predict_positive & actual_negative).sum()\n",
    "        fn = (predict_negative & actual_positive).sum()\n",
    "\n",
    "        accuracy = (tp + tn) / (tp + tn + fp + fn)\n",
    "        precision = tp / (tp + fp) if (tp + fp) > 0 else 0\n",
    "        recall = tp / (tp + fn) if (tp + fn) > 0 else 0\n",
    "\n",
    "        # Add the scores to the sum array\n",
    "        scores_sum[i] += np.array([t, tp, fp, fn, tn, accuracy, precision, recall])\n",
    "\n",
    "final_scores = scores_sum / n_splits\n",
    "\n",
    "columns = ['threshold', 'tp', 'fp', 'fn', 'tn', 'accuracy', 'precision', 'recall/tpr']\n",
    "\n",
    "final_scores_df = pd.DataFrame(final_scores, columns=columns)\n",
    "\n",
    "final_scores_df['fpr'] = final_scores_df.fp / (final_scores_df.fp + final_scores_df.tn)"
   ]
  },
  {
   "cell_type": "code",
   "execution_count": 161,
   "id": "5ae9935b",
   "metadata": {
    "scrolled": true
   },
   "outputs": [
    {
     "data": {
      "text/plain": [
       "Text(0, 0.5, 'percent accuracy')"
      ]
     },
     "execution_count": 161,
     "metadata": {},
     "output_type": "execute_result"
    },
    {
     "data": {
      "image/png": "[encoded data removed]",
      "text/plain": [
       "<Figure size 640x480 with 1 Axes>"
      ]
     },
     "metadata": {},
     "output_type": "display_data"
    }
   ],
   "source": [
    "plt.plot(thresholds, final_scores_df['accuracy'].values)\n",
    "\n",
    "plt.xlabel(\"probability threshold for decision\")\n",
    "\n",
    "plt.ylabel(\"percent accuracy\")"
   ]
  },
  {
   "cell_type": "markdown",
   "id": "95fd9917",
   "metadata": {},
   "source": [
    "- (above & below) looks like 0.44 is a better decision rule."
   ]
  },
  {
   "cell_type": "code",
   "execution_count": 162,
   "id": "8f74f45e",
   "metadata": {},
   "outputs": [
    {
     "data": {
      "text/html": [
       "<div>\n",
       "<style scoped>\n",
       "    .dataframe tbody tr th:only-of-type {\n",
       "        vertical-align: middle;\n",
       "    }\n",
       "\n",
       "    .dataframe tbody tr th {\n",
       "        vertical-align: top;\n",
       "    }\n",
       "\n",
       "    .dataframe thead th {\n",
       "        text-align: right;\n",
       "    }\n",
       "</style>\n",
       "<table border=\"1\" class=\"dataframe\">\n",
       "  <thead>\n",
       "    <tr style=\"text-align: right;\">\n",
       "      <th></th>\n",
       "      <th>threshold</th>\n",
       "      <th>tp</th>\n",
       "      <th>fp</th>\n",
       "      <th>fn</th>\n",
       "      <th>tn</th>\n",
       "      <th>accuracy</th>\n",
       "      <th>precision</th>\n",
       "      <th>recall/tpr</th>\n",
       "      <th>fpr</th>\n",
       "    </tr>\n",
       "  </thead>\n",
       "  <tbody>\n",
       "    <tr>\n",
       "      <th>40</th>\n",
       "      <td>0.40</td>\n",
       "      <td>5616.2</td>\n",
       "      <td>1450.0</td>\n",
       "      <td>19402.4</td>\n",
       "      <td>61359.8</td>\n",
       "      <td>0.762578</td>\n",
       "      <td>0.794814</td>\n",
       "      <td>0.224479</td>\n",
       "      <td>0.023086</td>\n",
       "    </tr>\n",
       "    <tr>\n",
       "      <th>41</th>\n",
       "      <td>0.41</td>\n",
       "      <td>5483.8</td>\n",
       "      <td>1265.2</td>\n",
       "      <td>19534.8</td>\n",
       "      <td>61544.6</td>\n",
       "      <td>0.763175</td>\n",
       "      <td>0.812520</td>\n",
       "      <td>0.219188</td>\n",
       "      <td>0.020143</td>\n",
       "    </tr>\n",
       "    <tr>\n",
       "      <th>42</th>\n",
       "      <td>0.42</td>\n",
       "      <td>5366.6</td>\n",
       "      <td>1103.0</td>\n",
       "      <td>19652.0</td>\n",
       "      <td>61706.8</td>\n",
       "      <td>0.763687</td>\n",
       "      <td>0.829490</td>\n",
       "      <td>0.214504</td>\n",
       "      <td>0.017561</td>\n",
       "    </tr>\n",
       "    <tr>\n",
       "      <th>43</th>\n",
       "      <td>0.43</td>\n",
       "      <td>5256.4</td>\n",
       "      <td>1001.2</td>\n",
       "      <td>19762.2</td>\n",
       "      <td>61808.6</td>\n",
       "      <td>0.763591</td>\n",
       "      <td>0.839985</td>\n",
       "      <td>0.210099</td>\n",
       "      <td>0.015940</td>\n",
       "    </tr>\n",
       "    <tr>\n",
       "      <th>44</th>\n",
       "      <td>0.44</td>\n",
       "      <td>5161.2</td>\n",
       "      <td>898.8</td>\n",
       "      <td>19857.4</td>\n",
       "      <td>61911.0</td>\n",
       "      <td>0.763673</td>\n",
       "      <td>0.851663</td>\n",
       "      <td>0.206291</td>\n",
       "      <td>0.014310</td>\n",
       "    </tr>\n",
       "    <tr>\n",
       "      <th>45</th>\n",
       "      <td>0.45</td>\n",
       "      <td>5077.8</td>\n",
       "      <td>818.6</td>\n",
       "      <td>19940.8</td>\n",
       "      <td>61991.2</td>\n",
       "      <td>0.763637</td>\n",
       "      <td>0.861151</td>\n",
       "      <td>0.202960</td>\n",
       "      <td>0.013033</td>\n",
       "    </tr>\n",
       "    <tr>\n",
       "      <th>46</th>\n",
       "      <td>0.46</td>\n",
       "      <td>4989.6</td>\n",
       "      <td>747.6</td>\n",
       "      <td>20029.0</td>\n",
       "      <td>62062.2</td>\n",
       "      <td>0.763441</td>\n",
       "      <td>0.869655</td>\n",
       "      <td>0.199432</td>\n",
       "      <td>0.011903</td>\n",
       "    </tr>\n",
       "    <tr>\n",
       "      <th>47</th>\n",
       "      <td>0.47</td>\n",
       "      <td>4913.6</td>\n",
       "      <td>695.2</td>\n",
       "      <td>20105.0</td>\n",
       "      <td>62114.6</td>\n",
       "      <td>0.763172</td>\n",
       "      <td>0.876023</td>\n",
       "      <td>0.196396</td>\n",
       "      <td>0.011068</td>\n",
       "    </tr>\n",
       "    <tr>\n",
       "      <th>48</th>\n",
       "      <td>0.48</td>\n",
       "      <td>4831.6</td>\n",
       "      <td>642.8</td>\n",
       "      <td>20187.0</td>\n",
       "      <td>62167.0</td>\n",
       "      <td>0.762835</td>\n",
       "      <td>0.882543</td>\n",
       "      <td>0.193117</td>\n",
       "      <td>0.010234</td>\n",
       "    </tr>\n",
       "    <tr>\n",
       "      <th>49</th>\n",
       "      <td>0.49</td>\n",
       "      <td>4761.2</td>\n",
       "      <td>601.8</td>\n",
       "      <td>20257.4</td>\n",
       "      <td>62208.0</td>\n",
       "      <td>0.762501</td>\n",
       "      <td>0.887743</td>\n",
       "      <td>0.190302</td>\n",
       "      <td>0.009581</td>\n",
       "    </tr>\n",
       "    <tr>\n",
       "      <th>50</th>\n",
       "      <td>0.50</td>\n",
       "      <td>4688.0</td>\n",
       "      <td>563.6</td>\n",
       "      <td>20330.6</td>\n",
       "      <td>62246.2</td>\n",
       "      <td>0.762102</td>\n",
       "      <td>0.892636</td>\n",
       "      <td>0.187375</td>\n",
       "      <td>0.008973</td>\n",
       "    </tr>\n",
       "    <tr>\n",
       "      <th>51</th>\n",
       "      <td>0.51</td>\n",
       "      <td>4605.0</td>\n",
       "      <td>531.0</td>\n",
       "      <td>20413.6</td>\n",
       "      <td>62278.8</td>\n",
       "      <td>0.761528</td>\n",
       "      <td>0.896561</td>\n",
       "      <td>0.184058</td>\n",
       "      <td>0.008454</td>\n",
       "    </tr>\n",
       "    <tr>\n",
       "      <th>52</th>\n",
       "      <td>0.52</td>\n",
       "      <td>4529.8</td>\n",
       "      <td>504.8</td>\n",
       "      <td>20488.8</td>\n",
       "      <td>62305.0</td>\n",
       "      <td>0.760970</td>\n",
       "      <td>0.899675</td>\n",
       "      <td>0.181051</td>\n",
       "      <td>0.008037</td>\n",
       "    </tr>\n",
       "    <tr>\n",
       "      <th>53</th>\n",
       "      <td>0.53</td>\n",
       "      <td>4462.2</td>\n",
       "      <td>475.8</td>\n",
       "      <td>20556.4</td>\n",
       "      <td>62334.0</td>\n",
       "      <td>0.760531</td>\n",
       "      <td>0.903585</td>\n",
       "      <td>0.178349</td>\n",
       "      <td>0.007575</td>\n",
       "    </tr>\n",
       "    <tr>\n",
       "      <th>54</th>\n",
       "      <td>0.54</td>\n",
       "      <td>4398.0</td>\n",
       "      <td>449.4</td>\n",
       "      <td>20620.6</td>\n",
       "      <td>62360.4</td>\n",
       "      <td>0.760100</td>\n",
       "      <td>0.907236</td>\n",
       "      <td>0.175783</td>\n",
       "      <td>0.007155</td>\n",
       "    </tr>\n",
       "    <tr>\n",
       "      <th>55</th>\n",
       "      <td>0.55</td>\n",
       "      <td>4333.0</td>\n",
       "      <td>425.2</td>\n",
       "      <td>20685.6</td>\n",
       "      <td>62384.6</td>\n",
       "      <td>0.759636</td>\n",
       "      <td>0.910588</td>\n",
       "      <td>0.173186</td>\n",
       "      <td>0.006770</td>\n",
       "    </tr>\n",
       "    <tr>\n",
       "      <th>56</th>\n",
       "      <td>0.56</td>\n",
       "      <td>4266.6</td>\n",
       "      <td>406.4</td>\n",
       "      <td>20752.0</td>\n",
       "      <td>62403.4</td>\n",
       "      <td>0.759094</td>\n",
       "      <td>0.912980</td>\n",
       "      <td>0.170532</td>\n",
       "      <td>0.006470</td>\n",
       "    </tr>\n",
       "    <tr>\n",
       "      <th>57</th>\n",
       "      <td>0.57</td>\n",
       "      <td>4199.4</td>\n",
       "      <td>386.0</td>\n",
       "      <td>20819.2</td>\n",
       "      <td>62423.8</td>\n",
       "      <td>0.758561</td>\n",
       "      <td>0.915771</td>\n",
       "      <td>0.167846</td>\n",
       "      <td>0.006146</td>\n",
       "    </tr>\n",
       "    <tr>\n",
       "      <th>58</th>\n",
       "      <td>0.58</td>\n",
       "      <td>4134.2</td>\n",
       "      <td>370.4</td>\n",
       "      <td>20884.4</td>\n",
       "      <td>62439.4</td>\n",
       "      <td>0.757996</td>\n",
       "      <td>0.917722</td>\n",
       "      <td>0.165241</td>\n",
       "      <td>0.005897</td>\n",
       "    </tr>\n",
       "    <tr>\n",
       "      <th>59</th>\n",
       "      <td>0.59</td>\n",
       "      <td>4058.8</td>\n",
       "      <td>354.6</td>\n",
       "      <td>20959.8</td>\n",
       "      <td>62455.2</td>\n",
       "      <td>0.757318</td>\n",
       "      <td>0.919590</td>\n",
       "      <td>0.162224</td>\n",
       "      <td>0.005646</td>\n",
       "    </tr>\n",
       "    <tr>\n",
       "      <th>60</th>\n",
       "      <td>0.60</td>\n",
       "      <td>3985.2</td>\n",
       "      <td>336.0</td>\n",
       "      <td>21033.4</td>\n",
       "      <td>62473.8</td>\n",
       "      <td>0.756691</td>\n",
       "      <td>0.922187</td>\n",
       "      <td>0.159283</td>\n",
       "      <td>0.005349</td>\n",
       "    </tr>\n",
       "  </tbody>\n",
       "</table>\n",
       "</div>"
      ],
      "text/plain": [
       "    threshold      tp      fp       fn       tn  accuracy  precision  \\\n",
       "40       0.40  5616.2  1450.0  19402.4  61359.8  0.762578   0.794814   \n",
       "41       0.41  5483.8  1265.2  19534.8  61544.6  0.763175   0.812520   \n",
       "42       0.42  5366.6  1103.0  19652.0  61706.8  0.763687   0.829490   \n",
       "43       0.43  5256.4  1001.2  19762.2  61808.6  0.763591   0.839985   \n",
       "44       0.44  5161.2   898.8  19857.4  61911.0  0.763673   0.851663   \n",
       "45       0.45  5077.8   818.6  19940.8  61991.2  0.763637   0.861151   \n",
       "46       0.46  4989.6   747.6  20029.0  62062.2  0.763441   0.869655   \n",
       "47       0.47  4913.6   695.2  20105.0  62114.6  0.763172   0.876023   \n",
       "48       0.48  4831.6   642.8  20187.0  62167.0  0.762835   0.882543   \n",
       "49       0.49  4761.2   601.8  20257.4  62208.0  0.762501   0.887743   \n",
       "50       0.50  4688.0   563.6  20330.6  62246.2  0.762102   0.892636   \n",
       "51       0.51  4605.0   531.0  20413.6  62278.8  0.761528   0.896561   \n",
       "52       0.52  4529.8   504.8  20488.8  62305.0  0.760970   0.899675   \n",
       "53       0.53  4462.2   475.8  20556.4  62334.0  0.760531   0.903585   \n",
       "54       0.54  4398.0   449.4  20620.6  62360.4  0.760100   0.907236   \n",
       "55       0.55  4333.0   425.2  20685.6  62384.6  0.759636   0.910588   \n",
       "56       0.56  4266.6   406.4  20752.0  62403.4  0.759094   0.912980   \n",
       "57       0.57  4199.4   386.0  20819.2  62423.8  0.758561   0.915771   \n",
       "58       0.58  4134.2   370.4  20884.4  62439.4  0.757996   0.917722   \n",
       "59       0.59  4058.8   354.6  20959.8  62455.2  0.757318   0.919590   \n",
       "60       0.60  3985.2   336.0  21033.4  62473.8  0.756691   0.922187   \n",
       "\n",
       "    recall/tpr       fpr  \n",
       "40    0.224479  0.023086  \n",
       "41    0.219188  0.020143  \n",
       "42    0.214504  0.017561  \n",
       "43    0.210099  0.015940  \n",
       "44    0.206291  0.014310  \n",
       "45    0.202960  0.013033  \n",
       "46    0.199432  0.011903  \n",
       "47    0.196396  0.011068  \n",
       "48    0.193117  0.010234  \n",
       "49    0.190302  0.009581  \n",
       "50    0.187375  0.008973  \n",
       "51    0.184058  0.008454  \n",
       "52    0.181051  0.008037  \n",
       "53    0.178349  0.007575  \n",
       "54    0.175783  0.007155  \n",
       "55    0.173186  0.006770  \n",
       "56    0.170532  0.006470  \n",
       "57    0.167846  0.006146  \n",
       "58    0.165241  0.005897  \n",
       "59    0.162224  0.005646  \n",
       "60    0.159283  0.005349  "
      ]
     },
     "execution_count": 162,
     "metadata": {},
     "output_type": "execute_result"
    }
   ],
   "source": [
    "final_scores_df.query('0.40 <= threshold <= 0.60')"
   ]
  },
  {
   "cell_type": "code",
   "execution_count": 163,
   "id": "88f77aa9",
   "metadata": {},
   "outputs": [
    {
     "data": {
      "text/plain": [
       "array([False, False, False, ..., False, False, False])"
      ]
     },
     "execution_count": 163,
     "metadata": {},
     "output_type": "execute_result"
    }
   ],
   "source": [
    "phishing_decision = (y_val_pred >= 0.44)\n",
    "phishing_decision"
   ]
  },
  {
   "cell_type": "code",
   "execution_count": 164,
   "id": "8604b3a7",
   "metadata": {},
   "outputs": [
    {
     "data": {
      "text/plain": [
       "(109786, 109786)"
      ]
     },
     "execution_count": 164,
     "metadata": {},
     "output_type": "execute_result"
    }
   ],
   "source": [
    "len(y_val), len(phishing_decision)"
   ]
  },
  {
   "cell_type": "code",
   "execution_count": 165,
   "id": "24b1fa45",
   "metadata": {},
   "outputs": [
    {
     "data": {
      "text/plain": [
       "0.7630207858925546"
      ]
     },
     "execution_count": 165,
     "metadata": {},
     "output_type": "execute_result"
    }
   ],
   "source": [
    "accuracy_score(y_val, phishing_decision)"
   ]
  },
  {
   "cell_type": "markdown",
   "id": "edf98153",
   "metadata": {},
   "source": [
    "#### tune the regularization parameter"
   ]
  },
  {
   "cell_type": "markdown",
   "id": "b755159b",
   "metadata": {},
   "source": [
    "- (below) A high value of C tells the model to give high weight to the training data, and a lower weight to the complexity penalty. \"Trust this training data a lot\"\n",
    "- (below) A low value tells the model to give more weight to this complexity penalty at the expense of fitting to the training data. \"This data may not be fully representative of the real world data, so if it's telling you to make a parameter really large, don't listen to it\"."
   ]
  },
  {
   "cell_type": "code",
   "execution_count": 166,
   "id": "245398aa",
   "metadata": {},
   "outputs": [
    {
     "data": {
      "application/vnd.jupyter.widget-view+json": {
       "model_id": "572fd6abe33e4e2280a2c4b9d6603433",
       "version_major": 2,
       "version_minor": 0
      },
      "text/plain": [
       "Regularization iterations:   0%|          | 0/7 [00:00<?, ?it/s]"
      ]
     },
     "metadata": {},
     "output_type": "display_data"
    },
    {
     "name": "stdout",
     "output_type": "stream",
     "text": [
      "C=0.001 0.614 +- 0.001\n",
      "C=0.01 0.617 +- 0.002\n",
      "C=0.1 0.617 +- 0.002\n",
      "C=0.5 0.617 +- 0.002\n",
      "C=1 0.617 +- 0.002\n",
      "C=5 0.617 +- 0.002\n",
      "C=10 0.617 +- 0.002\n"
     ]
    }
   ],
   "source": [
    "n_splits = 5\n",
    "\n",
    "reg_vals = [0.001, 0.01, 0.1, 0.5, 1, 5, 10]\n",
    "\n",
    "for C in tqdm(reg_vals, total = len(reg_vals), desc = \"Regularization iterations\"):\n",
    "    kfold = KFold(n_splits=n_splits, shuffle=True, random_state=1)\n",
    "\n",
    "    scores = []\n",
    "\n",
    "    for train_idx, val_idx in kfold.split(df_full_train):\n",
    "        df_train_fold = df_full_train.iloc[train_idx]\n",
    "        df_val_fold = df_full_train.iloc[val_idx]\n",
    "\n",
    "        y_train_fold = y_full_train[train_idx]\n",
    "        y_val_fold = y_full_train[val_idx]\n",
    "\n",
    "        model_fold = train(df_train_fold, y_train_fold, C = C)\n",
    "        y_pred_fold = predict(df_val_fold, model_fold)\n",
    "\n",
    "        auc = roc_auc_score(y_val_fold, y_pred_fold)\n",
    "        scores.append(auc)\n",
    "\n",
    "    print('C=%s %.3f +- %.3f' % (C, np.mean(scores), np.std(scores)))"
   ]
  },
  {
   "cell_type": "code",
   "execution_count": null,
   "id": "f12bbb87",
   "metadata": {},
   "outputs": [],
   "source": []
  }
 ],
 "metadata": {
  "kernelspec": {
   "display_name": "Python 3 (ipykernel)",
   "language": "python",
   "name": "python3"
  },
  "language_info": {
   "codemirror_mode": {
    "name": "ipython",
    "version": 3
   },
   "file_extension": ".py",
   "mimetype": "text/x-python",
   "name": "python",
   "nbconvert_exporter": "python",
   "pygments_lexer": "ipython3",
   "version": "3.8.13"
  },
  "vscode": {
   "interpreter": {
    "hash": "bc2249dff466c48f59b9dc33c496cb319cb74371033d7aa292654498ab50b6de"
   }
  }
 },
 "nbformat": 4,
 "nbformat_minor": 5
}
