{
 "cells": [
  {
   "cell_type": "markdown",
   "id": "9815e588",
   "metadata": {},
   "source": [
    "# Logistic Regression for Fun: Phishing Detection"
   ]
  },
  {
   "cell_type": "code",
   "execution_count": 1,
   "id": "659449eb",
   "metadata": {},
   "outputs": [],
   "source": [
    "import pandas as pd\n",
    "import numpy as np\n",
    "import seaborn as sns\n",
    "import matplotlib.pyplot as plt\n",
    "\n",
    "import string\n",
    "import collections as ct\n",
    "\n",
    "import nltk\n",
    "from nltk.tokenize import RegexpTokenizer\n",
    "from nltk.corpus import words\n",
    "from nltk.corpus import wordnet"
   ]
  },
  {
   "cell_type": "code",
   "execution_count": 2,
   "id": "1701d260",
   "metadata": {},
   "outputs": [
    {
     "data": {
      "text/html": [
       "<div>\n",
       "<style scoped>\n",
       "    .dataframe tbody tr th:only-of-type {\n",
       "        vertical-align: middle;\n",
       "    }\n",
       "\n",
       "    .dataframe tbody tr th {\n",
       "        vertical-align: top;\n",
       "    }\n",
       "\n",
       "    .dataframe thead th {\n",
       "        text-align: right;\n",
       "    }\n",
       "</style>\n",
       "<table border=\"1\" class=\"dataframe\">\n",
       "  <thead>\n",
       "    <tr style=\"text-align: right;\">\n",
       "      <th></th>\n",
       "      <th>URL</th>\n",
       "      <th>Label</th>\n",
       "    </tr>\n",
       "  </thead>\n",
       "  <tbody>\n",
       "    <tr>\n",
       "      <th>0</th>\n",
       "      <td>nobell.it/70ffb52d079109dca5664cce6f317373782/...</td>\n",
       "      <td>bad</td>\n",
       "    </tr>\n",
       "    <tr>\n",
       "      <th>1</th>\n",
       "      <td>www.dghjdgf.com/paypal.co.uk/cycgi-bin/webscrc...</td>\n",
       "      <td>bad</td>\n",
       "    </tr>\n",
       "    <tr>\n",
       "      <th>2</th>\n",
       "      <td>serviciosbys.com/paypal.cgi.bin.get-into.herf....</td>\n",
       "      <td>bad</td>\n",
       "    </tr>\n",
       "    <tr>\n",
       "      <th>3</th>\n",
       "      <td>mail.printakid.com/www.online.americanexpress....</td>\n",
       "      <td>bad</td>\n",
       "    </tr>\n",
       "    <tr>\n",
       "      <th>4</th>\n",
       "      <td>thewhiskeydregs.com/wp-content/themes/widescre...</td>\n",
       "      <td>bad</td>\n",
       "    </tr>\n",
       "  </tbody>\n",
       "</table>\n",
       "</div>"
      ],
      "text/plain": [
       "                                                 URL Label\n",
       "0  nobell.it/70ffb52d079109dca5664cce6f317373782/...   bad\n",
       "1  www.dghjdgf.com/paypal.co.uk/cycgi-bin/webscrc...   bad\n",
       "2  serviciosbys.com/paypal.cgi.bin.get-into.herf....   bad\n",
       "3  mail.printakid.com/www.online.americanexpress....   bad\n",
       "4  thewhiskeydregs.com/wp-content/themes/widescre...   bad"
      ]
     },
     "execution_count": 2,
     "metadata": {},
     "output_type": "execute_result"
    }
   ],
   "source": [
    "df = pd.read_csv('phishing_site_urls.csv')\n",
    "\n",
    "# df = pd.read_pickle('phishing_df.pkl')\n",
    "\n",
    "df.head()"
   ]
  },
  {
   "cell_type": "markdown",
   "id": "6cd0d378",
   "metadata": {},
   "source": [
    "## High Level Exploration and Cleaning of the Data Frame"
   ]
  },
  {
   "cell_type": "code",
   "execution_count": null,
   "id": "26de2a8a",
   "metadata": {},
   "outputs": [],
   "source": [
    "- here's a url that has some data cleaning code\n",
    "    - https://www.kaggle.com/code/ashishkumarbehera/phishing-site-prediction"
   ]
  },
  {
   "cell_type": "code",
   "execution_count": 3,
   "id": "85ffc491",
   "metadata": {},
   "outputs": [
    {
     "data": {
      "text/plain": [
       "549346"
      ]
     },
     "execution_count": 3,
     "metadata": {},
     "output_type": "execute_result"
    }
   ],
   "source": [
    "len(df)"
   ]
  },
  {
   "cell_type": "markdown",
   "id": "1dc99fd2",
   "metadata": {},
   "source": [
    "- (below) let's create a column where `1` is a URL identified as phishing, and `0` is a \"good\" url."
   ]
  },
  {
   "cell_type": "code",
   "execution_count": 4,
   "id": "6517bc74",
   "metadata": {},
   "outputs": [],
   "source": [
    "df['phishing'] = (df.Label == 'bad').astype(int)"
   ]
  },
  {
   "cell_type": "code",
   "execution_count": 5,
   "id": "f28e5948",
   "metadata": {},
   "outputs": [
    {
     "data": {
      "text/html": [
       "<div>\n",
       "<style scoped>\n",
       "    .dataframe tbody tr th:only-of-type {\n",
       "        vertical-align: middle;\n",
       "    }\n",
       "\n",
       "    .dataframe tbody tr th {\n",
       "        vertical-align: top;\n",
       "    }\n",
       "\n",
       "    .dataframe thead th {\n",
       "        text-align: right;\n",
       "    }\n",
       "</style>\n",
       "<table border=\"1\" class=\"dataframe\">\n",
       "  <thead>\n",
       "    <tr style=\"text-align: right;\">\n",
       "      <th></th>\n",
       "      <th>URL</th>\n",
       "      <th>Label</th>\n",
       "      <th>phishing</th>\n",
       "    </tr>\n",
       "  </thead>\n",
       "  <tbody>\n",
       "    <tr>\n",
       "      <th>0</th>\n",
       "      <td>nobell.it/70ffb52d079109dca5664cce6f317373782/...</td>\n",
       "      <td>bad</td>\n",
       "      <td>1</td>\n",
       "    </tr>\n",
       "    <tr>\n",
       "      <th>10000</th>\n",
       "      <td>paypal.com.us-cgi-bin-webscr-cmd.login.5885d80...</td>\n",
       "      <td>bad</td>\n",
       "      <td>1</td>\n",
       "    </tr>\n",
       "    <tr>\n",
       "      <th>20000</th>\n",
       "      <td>www.cpiano.com/css/login.htm?us.battle.net/log...</td>\n",
       "      <td>bad</td>\n",
       "      <td>1</td>\n",
       "    </tr>\n",
       "    <tr>\n",
       "      <th>30000</th>\n",
       "      <td>buykey.byethost13.com/</td>\n",
       "      <td>bad</td>\n",
       "      <td>1</td>\n",
       "    </tr>\n",
       "    <tr>\n",
       "      <th>40000</th>\n",
       "      <td>www.bjcurio.com/js/index.htm?ref=jgmmabgus.bat...</td>\n",
       "      <td>bad</td>\n",
       "      <td>1</td>\n",
       "    </tr>\n",
       "    <tr>\n",
       "      <th>50000</th>\n",
       "      <td>www.cyberhorse.net.au/csl/</td>\n",
       "      <td>good</td>\n",
       "      <td>0</td>\n",
       "    </tr>\n",
       "    <tr>\n",
       "      <th>60000</th>\n",
       "      <td>www.cse.iitk.ac.in/users/amit/index.html</td>\n",
       "      <td>good</td>\n",
       "      <td>0</td>\n",
       "    </tr>\n",
       "    <tr>\n",
       "      <th>70000</th>\n",
       "      <td>ecnow.com/Internet_Marketing.htm</td>\n",
       "      <td>good</td>\n",
       "      <td>0</td>\n",
       "    </tr>\n",
       "    <tr>\n",
       "      <th>80000</th>\n",
       "      <td>www.fgroupsoft.com/Traysafe/</td>\n",
       "      <td>good</td>\n",
       "      <td>0</td>\n",
       "    </tr>\n",
       "    <tr>\n",
       "      <th>90000</th>\n",
       "      <td>www.xlcus.co.uk/software/acorn/index.shtml#pac...</td>\n",
       "      <td>good</td>\n",
       "      <td>0</td>\n",
       "    </tr>\n",
       "    <tr>\n",
       "      <th>100000</th>\n",
       "      <td>speakproacademy.com/ssh/validate/revalidate.ht...</td>\n",
       "      <td>bad</td>\n",
       "      <td>1</td>\n",
       "    </tr>\n",
       "    <tr>\n",
       "      <th>110000</th>\n",
       "      <td>teksuninsaat.com/wp-includes/ok/ok/</td>\n",
       "      <td>bad</td>\n",
       "      <td>1</td>\n",
       "    </tr>\n",
       "    <tr>\n",
       "      <th>120000</th>\n",
       "      <td>kronpaks.by/misc/bookmark/bookmark</td>\n",
       "      <td>bad</td>\n",
       "      <td>1</td>\n",
       "    </tr>\n",
       "    <tr>\n",
       "      <th>130000</th>\n",
       "      <td>valuecheminc.com/images/banners/portal_bb_br/?...</td>\n",
       "      <td>bad</td>\n",
       "      <td>1</td>\n",
       "    </tr>\n",
       "    <tr>\n",
       "      <th>140000</th>\n",
       "      <td>acanadianfamily.com/2009/11/21/francois-xavier...</td>\n",
       "      <td>good</td>\n",
       "      <td>0</td>\n",
       "    </tr>\n",
       "    <tr>\n",
       "      <th>150000</th>\n",
       "      <td>bleacherreport.com/articles/824088-kansas-city...</td>\n",
       "      <td>good</td>\n",
       "      <td>0</td>\n",
       "    </tr>\n",
       "    <tr>\n",
       "      <th>160000</th>\n",
       "      <td>comedians.jokes.com/ed-byrne/</td>\n",
       "      <td>good</td>\n",
       "      <td>0</td>\n",
       "    </tr>\n",
       "    <tr>\n",
       "      <th>170000</th>\n",
       "      <td>en.wikipedia.org/wiki/1951_NAIA_Men%27s_Divisi...</td>\n",
       "      <td>good</td>\n",
       "      <td>0</td>\n",
       "    </tr>\n",
       "    <tr>\n",
       "      <th>180000</th>\n",
       "      <td>en.wikipedia.org/wiki/Robert_Libman</td>\n",
       "      <td>good</td>\n",
       "      <td>0</td>\n",
       "    </tr>\n",
       "    <tr>\n",
       "      <th>190000</th>\n",
       "      <td>foundation.unh.edu/honor-roll-donors</td>\n",
       "      <td>good</td>\n",
       "      <td>0</td>\n",
       "    </tr>\n",
       "    <tr>\n",
       "      <th>200000</th>\n",
       "      <td>impact.com/</td>\n",
       "      <td>good</td>\n",
       "      <td>0</td>\n",
       "    </tr>\n",
       "    <tr>\n",
       "      <th>210000</th>\n",
       "      <td>lynettemittendorf.com/</td>\n",
       "      <td>good</td>\n",
       "      <td>0</td>\n",
       "    </tr>\n",
       "    <tr>\n",
       "      <th>220000</th>\n",
       "      <td>naslsoccer.blogspot.com/2010/09/juan-benegas.html</td>\n",
       "      <td>good</td>\n",
       "      <td>0</td>\n",
       "    </tr>\n",
       "    <tr>\n",
       "      <th>230000</th>\n",
       "      <td>pitchinvasion.net/blog/2010/05/25/the-grand-fa...</td>\n",
       "      <td>good</td>\n",
       "      <td>0</td>\n",
       "    </tr>\n",
       "    <tr>\n",
       "      <th>240000</th>\n",
       "      <td>sleepinnlincoln.com/</td>\n",
       "      <td>good</td>\n",
       "      <td>0</td>\n",
       "    </tr>\n",
       "    <tr>\n",
       "      <th>250000</th>\n",
       "      <td>true-athlete.com/</td>\n",
       "      <td>good</td>\n",
       "      <td>0</td>\n",
       "    </tr>\n",
       "    <tr>\n",
       "      <th>260000</th>\n",
       "      <td>wn.com/Al_Hrabosky</td>\n",
       "      <td>good</td>\n",
       "      <td>0</td>\n",
       "    </tr>\n",
       "    <tr>\n",
       "      <th>270000</th>\n",
       "      <td>afpc.af.mil/library/factsheets/factsheet.asp?i...</td>\n",
       "      <td>good</td>\n",
       "      <td>0</td>\n",
       "    </tr>\n",
       "    <tr>\n",
       "      <th>280000</th>\n",
       "      <td>answers.com/topic/celje</td>\n",
       "      <td>good</td>\n",
       "      <td>0</td>\n",
       "    </tr>\n",
       "    <tr>\n",
       "      <th>290000</th>\n",
       "      <td>beenverified.com/p/robert+heckman</td>\n",
       "      <td>good</td>\n",
       "      <td>0</td>\n",
       "    </tr>\n",
       "    <tr>\n",
       "      <th>300000</th>\n",
       "      <td>catholicchurchjersey.com/</td>\n",
       "      <td>good</td>\n",
       "      <td>0</td>\n",
       "    </tr>\n",
       "    <tr>\n",
       "      <th>310000</th>\n",
       "      <td>coursehero.com/file/6013106/3-aeligordmlaquoar...</td>\n",
       "      <td>good</td>\n",
       "      <td>0</td>\n",
       "    </tr>\n",
       "    <tr>\n",
       "      <th>320000</th>\n",
       "      <td>ehow.com/facts_5448717_combat-infantry-badge-q...</td>\n",
       "      <td>good</td>\n",
       "      <td>0</td>\n",
       "    </tr>\n",
       "    <tr>\n",
       "      <th>330000</th>\n",
       "      <td>facebook.com/pages/Musi-Video-show/11193729548...</td>\n",
       "      <td>good</td>\n",
       "      <td>0</td>\n",
       "    </tr>\n",
       "    <tr>\n",
       "      <th>340000</th>\n",
       "      <td>flixster.com/actor/tom-rosqui</td>\n",
       "      <td>good</td>\n",
       "      <td>0</td>\n",
       "    </tr>\n",
       "    <tr>\n",
       "      <th>350000</th>\n",
       "      <td>hauntedcornmaze.com/photoalbum.html</td>\n",
       "      <td>good</td>\n",
       "      <td>0</td>\n",
       "    </tr>\n",
       "    <tr>\n",
       "      <th>360000</th>\n",
       "      <td>imdb.com/title/tt0088494/</td>\n",
       "      <td>good</td>\n",
       "      <td>0</td>\n",
       "    </tr>\n",
       "    <tr>\n",
       "      <th>370000</th>\n",
       "      <td>landrovermonmouth.com/news/index.cfm/action/vi...</td>\n",
       "      <td>good</td>\n",
       "      <td>0</td>\n",
       "    </tr>\n",
       "    <tr>\n",
       "      <th>380000</th>\n",
       "      <td>luclafortune.com/biography.html</td>\n",
       "      <td>good</td>\n",
       "      <td>0</td>\n",
       "    </tr>\n",
       "    <tr>\n",
       "      <th>390000</th>\n",
       "      <td>mlbfansite.com/player-memorabilia/Dennis-Ecker...</td>\n",
       "      <td>good</td>\n",
       "      <td>0</td>\n",
       "    </tr>\n",
       "    <tr>\n",
       "      <th>400000</th>\n",
       "      <td>myspace.com/mecha_bsu</td>\n",
       "      <td>good</td>\n",
       "      <td>0</td>\n",
       "    </tr>\n",
       "    <tr>\n",
       "      <th>410000</th>\n",
       "      <td>ontheradio.net/wyul</td>\n",
       "      <td>good</td>\n",
       "      <td>0</td>\n",
       "    </tr>\n",
       "    <tr>\n",
       "      <th>420000</th>\n",
       "      <td>rantsports.com/mock-draft/2011/11/12/montreal-...</td>\n",
       "      <td>good</td>\n",
       "      <td>0</td>\n",
       "    </tr>\n",
       "    <tr>\n",
       "      <th>430000</th>\n",
       "      <td>shalomlife.com/culture/13584/ben-and-jessica-m...</td>\n",
       "      <td>good</td>\n",
       "      <td>0</td>\n",
       "    </tr>\n",
       "    <tr>\n",
       "      <th>440000</th>\n",
       "      <td>stubhub.com/oracle-arena-tickets/</td>\n",
       "      <td>good</td>\n",
       "      <td>0</td>\n",
       "    </tr>\n",
       "    <tr>\n",
       "      <th>450000</th>\n",
       "      <td>tradeindia.com/manufacturers/indianmanufacture...</td>\n",
       "      <td>good</td>\n",
       "      <td>0</td>\n",
       "    </tr>\n",
       "    <tr>\n",
       "      <th>460000</th>\n",
       "      <td>vintagecardprices.com/sitemap.php</td>\n",
       "      <td>good</td>\n",
       "      <td>0</td>\n",
       "    </tr>\n",
       "    <tr>\n",
       "      <th>470000</th>\n",
       "      <td>yidio.com/show/lewis-blacks-root-of-all-evil</td>\n",
       "      <td>good</td>\n",
       "      <td>0</td>\n",
       "    </tr>\n",
       "    <tr>\n",
       "      <th>480000</th>\n",
       "      <td>zoocasa.com/en/real_estate/1087544-629-Rue-Mar...</td>\n",
       "      <td>good</td>\n",
       "      <td>0</td>\n",
       "    </tr>\n",
       "    <tr>\n",
       "      <th>490000</th>\n",
       "      <td>89.42.248.141/</td>\n",
       "      <td>bad</td>\n",
       "      <td>1</td>\n",
       "    </tr>\n",
       "    <tr>\n",
       "      <th>500000</th>\n",
       "      <td>www.elba-scaglieri.com/j1b3whi5</td>\n",
       "      <td>bad</td>\n",
       "      <td>1</td>\n",
       "    </tr>\n",
       "    <tr>\n",
       "      <th>510000</th>\n",
       "      <td>manshutang.com/zhiovlon</td>\n",
       "      <td>bad</td>\n",
       "      <td>1</td>\n",
       "    </tr>\n",
       "    <tr>\n",
       "      <th>520000</th>\n",
       "      <td>mxp1029.com</td>\n",
       "      <td>bad</td>\n",
       "      <td>1</td>\n",
       "    </tr>\n",
       "    <tr>\n",
       "      <th>530000</th>\n",
       "      <td>lagemma2015.com/54fc3rc3fr</td>\n",
       "      <td>bad</td>\n",
       "      <td>1</td>\n",
       "    </tr>\n",
       "    <tr>\n",
       "      <th>540000</th>\n",
       "      <td>mediaspot.info/</td>\n",
       "      <td>bad</td>\n",
       "      <td>1</td>\n",
       "    </tr>\n",
       "  </tbody>\n",
       "</table>\n",
       "</div>"
      ],
      "text/plain": [
       "                                                      URL Label  phishing\n",
       "0       nobell.it/70ffb52d079109dca5664cce6f317373782/...   bad         1\n",
       "10000   paypal.com.us-cgi-bin-webscr-cmd.login.5885d80...   bad         1\n",
       "20000   www.cpiano.com/css/login.htm?us.battle.net/log...   bad         1\n",
       "30000                              buykey.byethost13.com/   bad         1\n",
       "40000   www.bjcurio.com/js/index.htm?ref=jgmmabgus.bat...   bad         1\n",
       "50000                          www.cyberhorse.net.au/csl/  good         0\n",
       "60000            www.cse.iitk.ac.in/users/amit/index.html  good         0\n",
       "70000                    ecnow.com/Internet_Marketing.htm  good         0\n",
       "80000                        www.fgroupsoft.com/Traysafe/  good         0\n",
       "90000   www.xlcus.co.uk/software/acorn/index.shtml#pac...  good         0\n",
       "100000  speakproacademy.com/ssh/validate/revalidate.ht...   bad         1\n",
       "110000                teksuninsaat.com/wp-includes/ok/ok/   bad         1\n",
       "120000                 kronpaks.by/misc/bookmark/bookmark   bad         1\n",
       "130000  valuecheminc.com/images/banners/portal_bb_br/?...   bad         1\n",
       "140000  acanadianfamily.com/2009/11/21/francois-xavier...  good         0\n",
       "150000  bleacherreport.com/articles/824088-kansas-city...  good         0\n",
       "160000                      comedians.jokes.com/ed-byrne/  good         0\n",
       "170000  en.wikipedia.org/wiki/1951_NAIA_Men%27s_Divisi...  good         0\n",
       "180000                en.wikipedia.org/wiki/Robert_Libman  good         0\n",
       "190000               foundation.unh.edu/honor-roll-donors  good         0\n",
       "200000                                        impact.com/  good         0\n",
       "210000                             lynettemittendorf.com/  good         0\n",
       "220000  naslsoccer.blogspot.com/2010/09/juan-benegas.html  good         0\n",
       "230000  pitchinvasion.net/blog/2010/05/25/the-grand-fa...  good         0\n",
       "240000                               sleepinnlincoln.com/  good         0\n",
       "250000                                  true-athlete.com/  good         0\n",
       "260000                                 wn.com/Al_Hrabosky  good         0\n",
       "270000  afpc.af.mil/library/factsheets/factsheet.asp?i...  good         0\n",
       "280000                            answers.com/topic/celje  good         0\n",
       "290000                  beenverified.com/p/robert+heckman  good         0\n",
       "300000                          catholicchurchjersey.com/  good         0\n",
       "310000  coursehero.com/file/6013106/3-aeligordmlaquoar...  good         0\n",
       "320000  ehow.com/facts_5448717_combat-infantry-badge-q...  good         0\n",
       "330000  facebook.com/pages/Musi-Video-show/11193729548...  good         0\n",
       "340000                      flixster.com/actor/tom-rosqui  good         0\n",
       "350000                hauntedcornmaze.com/photoalbum.html  good         0\n",
       "360000                          imdb.com/title/tt0088494/  good         0\n",
       "370000  landrovermonmouth.com/news/index.cfm/action/vi...  good         0\n",
       "380000                    luclafortune.com/biography.html  good         0\n",
       "390000  mlbfansite.com/player-memorabilia/Dennis-Ecker...  good         0\n",
       "400000                              myspace.com/mecha_bsu  good         0\n",
       "410000                                ontheradio.net/wyul  good         0\n",
       "420000  rantsports.com/mock-draft/2011/11/12/montreal-...  good         0\n",
       "430000  shalomlife.com/culture/13584/ben-and-jessica-m...  good         0\n",
       "440000                  stubhub.com/oracle-arena-tickets/  good         0\n",
       "450000  tradeindia.com/manufacturers/indianmanufacture...  good         0\n",
       "460000                  vintagecardprices.com/sitemap.php  good         0\n",
       "470000       yidio.com/show/lewis-blacks-root-of-all-evil  good         0\n",
       "480000  zoocasa.com/en/real_estate/1087544-629-Rue-Mar...  good         0\n",
       "490000                                     89.42.248.141/   bad         1\n",
       "500000                    www.elba-scaglieri.com/j1b3whi5   bad         1\n",
       "510000                            manshutang.com/zhiovlon   bad         1\n",
       "520000                                        mxp1029.com   bad         1\n",
       "530000                         lagemma2015.com/54fc3rc3fr   bad         1\n",
       "540000                                    mediaspot.info/   bad         1"
      ]
     },
     "execution_count": 5,
     "metadata": {},
     "output_type": "execute_result"
    }
   ],
   "source": [
    "df[::10000]"
   ]
  },
  {
   "cell_type": "code",
   "execution_count": 6,
   "id": "dcd230d0",
   "metadata": {},
   "outputs": [
    {
     "data": {
      "text/html": [
       "<div>\n",
       "<style scoped>\n",
       "    .dataframe tbody tr th:only-of-type {\n",
       "        vertical-align: middle;\n",
       "    }\n",
       "\n",
       "    .dataframe tbody tr th {\n",
       "        vertical-align: top;\n",
       "    }\n",
       "\n",
       "    .dataframe thead th {\n",
       "        text-align: right;\n",
       "    }\n",
       "</style>\n",
       "<table border=\"1\" class=\"dataframe\">\n",
       "  <thead>\n",
       "    <tr style=\"text-align: right;\">\n",
       "      <th></th>\n",
       "      <th>URL</th>\n",
       "      <th>phishing</th>\n",
       "    </tr>\n",
       "  </thead>\n",
       "  <tbody>\n",
       "    <tr>\n",
       "      <th>0</th>\n",
       "      <td>nobell.it/70ffb52d079109dca5664cce6f317373782/...</td>\n",
       "      <td>1</td>\n",
       "    </tr>\n",
       "    <tr>\n",
       "      <th>1</th>\n",
       "      <td>www.dghjdgf.com/paypal.co.uk/cycgi-bin/webscrc...</td>\n",
       "      <td>1</td>\n",
       "    </tr>\n",
       "    <tr>\n",
       "      <th>2</th>\n",
       "      <td>serviciosbys.com/paypal.cgi.bin.get-into.herf....</td>\n",
       "      <td>1</td>\n",
       "    </tr>\n",
       "    <tr>\n",
       "      <th>3</th>\n",
       "      <td>mail.printakid.com/www.online.americanexpress....</td>\n",
       "      <td>1</td>\n",
       "    </tr>\n",
       "    <tr>\n",
       "      <th>4</th>\n",
       "      <td>thewhiskeydregs.com/wp-content/themes/widescre...</td>\n",
       "      <td>1</td>\n",
       "    </tr>\n",
       "    <tr>\n",
       "      <th>...</th>\n",
       "      <td>...</td>\n",
       "      <td>...</td>\n",
       "    </tr>\n",
       "    <tr>\n",
       "      <th>549341</th>\n",
       "      <td>23.227.196.215/</td>\n",
       "      <td>1</td>\n",
       "    </tr>\n",
       "    <tr>\n",
       "      <th>549342</th>\n",
       "      <td>apple-checker.org/</td>\n",
       "      <td>1</td>\n",
       "    </tr>\n",
       "    <tr>\n",
       "      <th>549343</th>\n",
       "      <td>apple-iclods.org/</td>\n",
       "      <td>1</td>\n",
       "    </tr>\n",
       "    <tr>\n",
       "      <th>549344</th>\n",
       "      <td>apple-uptoday.org/</td>\n",
       "      <td>1</td>\n",
       "    </tr>\n",
       "    <tr>\n",
       "      <th>549345</th>\n",
       "      <td>apple-search.info</td>\n",
       "      <td>1</td>\n",
       "    </tr>\n",
       "  </tbody>\n",
       "</table>\n",
       "<p>549346 rows × 2 columns</p>\n",
       "</div>"
      ],
      "text/plain": [
       "                                                      URL  phishing\n",
       "0       nobell.it/70ffb52d079109dca5664cce6f317373782/...         1\n",
       "1       www.dghjdgf.com/paypal.co.uk/cycgi-bin/webscrc...         1\n",
       "2       serviciosbys.com/paypal.cgi.bin.get-into.herf....         1\n",
       "3       mail.printakid.com/www.online.americanexpress....         1\n",
       "4       thewhiskeydregs.com/wp-content/themes/widescre...         1\n",
       "...                                                   ...       ...\n",
       "549341                                    23.227.196.215/         1\n",
       "549342                                 apple-checker.org/         1\n",
       "549343                                  apple-iclods.org/         1\n",
       "549344                                 apple-uptoday.org/         1\n",
       "549345                                  apple-search.info         1\n",
       "\n",
       "[549346 rows x 2 columns]"
      ]
     },
     "execution_count": 6,
     "metadata": {},
     "output_type": "execute_result"
    }
   ],
   "source": [
    "df.drop('Label', axis = 1)"
   ]
  },
  {
   "cell_type": "markdown",
   "id": "e7fcfed7",
   "metadata": {},
   "source": [
    "- (below) let's look at the \"good\" urls and see if we need to do any data cleaning"
   ]
  },
  {
   "cell_type": "code",
   "execution_count": 7,
   "id": "e311d863",
   "metadata": {},
   "outputs": [
    {
     "data": {
      "text/html": [
       "<div>\n",
       "<style scoped>\n",
       "    .dataframe tbody tr th:only-of-type {\n",
       "        vertical-align: middle;\n",
       "    }\n",
       "\n",
       "    .dataframe tbody tr th {\n",
       "        vertical-align: top;\n",
       "    }\n",
       "\n",
       "    .dataframe thead th {\n",
       "        text-align: right;\n",
       "    }\n",
       "</style>\n",
       "<table border=\"1\" class=\"dataframe\">\n",
       "  <thead>\n",
       "    <tr style=\"text-align: right;\">\n",
       "      <th></th>\n",
       "      <th>URL</th>\n",
       "      <th>Label</th>\n",
       "      <th>phishing</th>\n",
       "    </tr>\n",
       "  </thead>\n",
       "  <tbody>\n",
       "    <tr>\n",
       "      <th>18231</th>\n",
       "      <td>esxcc.com/js/index.htm?us.battle.net/noghn/en/...</td>\n",
       "      <td>good</td>\n",
       "      <td>0</td>\n",
       "    </tr>\n",
       "    <tr>\n",
       "      <th>57904</th>\n",
       "      <td>www.marinesurveyor.com/ogden/</td>\n",
       "      <td>good</td>\n",
       "      <td>0</td>\n",
       "    </tr>\n",
       "    <tr>\n",
       "      <th>67904</th>\n",
       "      <td>tools.ietf.org/html/rfc2010</td>\n",
       "      <td>good</td>\n",
       "      <td>0</td>\n",
       "    </tr>\n",
       "    <tr>\n",
       "      <th>77904</th>\n",
       "      <td>infohost.nmt.edu/tcc/help/pubs/lang.html</td>\n",
       "      <td>good</td>\n",
       "      <td>0</td>\n",
       "    </tr>\n",
       "    <tr>\n",
       "      <th>87904</th>\n",
       "      <td>www.voicecallcentral.com/index.htm</td>\n",
       "      <td>good</td>\n",
       "      <td>0</td>\n",
       "    </tr>\n",
       "    <tr>\n",
       "      <th>140671</th>\n",
       "      <td>adirondackexplorer.org/</td>\n",
       "      <td>good</td>\n",
       "      <td>0</td>\n",
       "    </tr>\n",
       "    <tr>\n",
       "      <th>150671</th>\n",
       "      <td>blog.revolutionsoccer.net/?p=7383</td>\n",
       "      <td>good</td>\n",
       "      <td>0</td>\n",
       "    </tr>\n",
       "    <tr>\n",
       "      <th>160671</th>\n",
       "      <td>companydatabase.org/c/retail-lumber-other-buil...</td>\n",
       "      <td>good</td>\n",
       "      <td>0</td>\n",
       "    </tr>\n",
       "    <tr>\n",
       "      <th>170671</th>\n",
       "      <td>en.wikipedia.org/wiki/2010_Portland_Timbers_se...</td>\n",
       "      <td>good</td>\n",
       "      <td>0</td>\n",
       "    </tr>\n",
       "    <tr>\n",
       "      <th>180671</th>\n",
       "      <td>en.wikipedia.org/wiki/Sole_proprietorship</td>\n",
       "      <td>good</td>\n",
       "      <td>0</td>\n",
       "    </tr>\n",
       "    <tr>\n",
       "      <th>190671</th>\n",
       "      <td>freepages.genealogy.rootsweb.ancestry.com/~eas...</td>\n",
       "      <td>good</td>\n",
       "      <td>0</td>\n",
       "    </tr>\n",
       "    <tr>\n",
       "      <th>200671</th>\n",
       "      <td>interamerican.lawschoolnumbers.com/</td>\n",
       "      <td>good</td>\n",
       "      <td>0</td>\n",
       "    </tr>\n",
       "    <tr>\n",
       "      <th>210671</th>\n",
       "      <td>majorleaguesoccerplayers.com/chris-albright-bi...</td>\n",
       "      <td>good</td>\n",
       "      <td>0</td>\n",
       "    </tr>\n",
       "    <tr>\n",
       "      <th>220671</th>\n",
       "      <td>new.music.yahoo.com/gilles-valiquette/tracks/</td>\n",
       "      <td>good</td>\n",
       "      <td>0</td>\n",
       "    </tr>\n",
       "    <tr>\n",
       "      <th>230671</th>\n",
       "      <td>politicalgraveyard.com/bio/robinson2.html</td>\n",
       "      <td>good</td>\n",
       "      <td>0</td>\n",
       "    </tr>\n",
       "    <tr>\n",
       "      <th>240671</th>\n",
       "      <td>sonic.wikia.com/wiki/Ryan_Drummond</td>\n",
       "      <td>good</td>\n",
       "      <td>0</td>\n",
       "    </tr>\n",
       "    <tr>\n",
       "      <th>250671</th>\n",
       "      <td>tvseriesfinale.com/tv-show/americas-most-wante...</td>\n",
       "      <td>good</td>\n",
       "      <td>0</td>\n",
       "    </tr>\n",
       "    <tr>\n",
       "      <th>260671</th>\n",
       "      <td>wn.com/John_Morrison_(wrestler)</td>\n",
       "      <td>good</td>\n",
       "      <td>0</td>\n",
       "    </tr>\n",
       "    <tr>\n",
       "      <th>270671</th>\n",
       "      <td>ajmoss.com/bergman.php</td>\n",
       "      <td>good</td>\n",
       "      <td>0</td>\n",
       "    </tr>\n",
       "    <tr>\n",
       "      <th>280671</th>\n",
       "      <td>answers.com/topic/louis-st-laurent</td>\n",
       "      <td>good</td>\n",
       "      <td>0</td>\n",
       "    </tr>\n",
       "    <tr>\n",
       "      <th>290671</th>\n",
       "      <td>bestpsychicdirectory.com/california/robert-bou...</td>\n",
       "      <td>good</td>\n",
       "      <td>0</td>\n",
       "    </tr>\n",
       "    <tr>\n",
       "      <th>300671</th>\n",
       "      <td>cbssports.com/nfl/draft/players/historical/124...</td>\n",
       "      <td>good</td>\n",
       "      <td>0</td>\n",
       "    </tr>\n",
       "    <tr>\n",
       "      <th>310671</th>\n",
       "      <td>crowncelebration.com/canada.htm</td>\n",
       "      <td>good</td>\n",
       "      <td>0</td>\n",
       "    </tr>\n",
       "    <tr>\n",
       "      <th>320671</th>\n",
       "      <td>electronichouse.com/article/wired_vs_wireless_...</td>\n",
       "      <td>good</td>\n",
       "      <td>0</td>\n",
       "    </tr>\n",
       "    <tr>\n",
       "      <th>330671</th>\n",
       "      <td>facebook.com/pages/Texas-Mid-Cities-Clown-Alle...</td>\n",
       "      <td>good</td>\n",
       "      <td>0</td>\n",
       "    </tr>\n",
       "    <tr>\n",
       "      <th>340671</th>\n",
       "      <td>football.co.uk/scottish_premier_division_news/...</td>\n",
       "      <td>good</td>\n",
       "      <td>0</td>\n",
       "    </tr>\n",
       "    <tr>\n",
       "      <th>350671</th>\n",
       "      <td>heartofthecapital.com/contact-city-council</td>\n",
       "      <td>good</td>\n",
       "      <td>0</td>\n",
       "    </tr>\n",
       "    <tr>\n",
       "      <th>360671</th>\n",
       "      <td>imdb.com/title/tt1019452/</td>\n",
       "      <td>good</td>\n",
       "      <td>0</td>\n",
       "    </tr>\n",
       "    <tr>\n",
       "      <th>370671</th>\n",
       "      <td>last.fm/music/Malajube</td>\n",
       "      <td>good</td>\n",
       "      <td>0</td>\n",
       "    </tr>\n",
       "    <tr>\n",
       "      <th>380671</th>\n",
       "      <td>lyricsmode.com/lyrics/a/and_you_will_know_us_b...</td>\n",
       "      <td>good</td>\n",
       "      <td>0</td>\n",
       "    </tr>\n",
       "    <tr>\n",
       "      <th>390671</th>\n",
       "      <td>modernfurniturewarehouse.com/deco-buffet.html</td>\n",
       "      <td>good</td>\n",
       "      <td>0</td>\n",
       "    </tr>\n",
       "    <tr>\n",
       "      <th>400671</th>\n",
       "      <td>myspace.com/stewman123</td>\n",
       "      <td>good</td>\n",
       "      <td>0</td>\n",
       "    </tr>\n",
       "    <tr>\n",
       "      <th>410671</th>\n",
       "      <td>otr.net/?p=whis</td>\n",
       "      <td>good</td>\n",
       "      <td>0</td>\n",
       "    </tr>\n",
       "    <tr>\n",
       "      <th>420671</th>\n",
       "      <td>realestatevine.ca/homes/quebec/montreal/rivi%C...</td>\n",
       "      <td>good</td>\n",
       "      <td>0</td>\n",
       "    </tr>\n",
       "    <tr>\n",
       "      <th>430671</th>\n",
       "      <td>shorewood-il.patch.com/</td>\n",
       "      <td>good</td>\n",
       "      <td>0</td>\n",
       "    </tr>\n",
       "    <tr>\n",
       "      <th>440671</th>\n",
       "      <td>superlawyers.com/new-jersey/article/Everybodys...</td>\n",
       "      <td>good</td>\n",
       "      <td>0</td>\n",
       "    </tr>\n",
       "    <tr>\n",
       "      <th>450671</th>\n",
       "      <td>travels.com/hotels/canada/quebec/saint-leonard/</td>\n",
       "      <td>good</td>\n",
       "      <td>0</td>\n",
       "    </tr>\n",
       "    <tr>\n",
       "      <th>460671</th>\n",
       "      <td>vitals.com/doctors/Dr_John_J_Harrington_2.html</td>\n",
       "      <td>good</td>\n",
       "      <td>0</td>\n",
       "    </tr>\n",
       "    <tr>\n",
       "      <th>470671</th>\n",
       "      <td>youtube.com/watch?v=1CFBhp5zrN0</td>\n",
       "      <td>good</td>\n",
       "      <td>0</td>\n",
       "    </tr>\n",
       "    <tr>\n",
       "      <th>480671</th>\n",
       "      <td>eere.energy.gov/solar/power_tower_rnd.html</td>\n",
       "      <td>good</td>\n",
       "      <td>0</td>\n",
       "    </tr>\n",
       "  </tbody>\n",
       "</table>\n",
       "</div>"
      ],
      "text/plain": [
       "                                                      URL Label  phishing\n",
       "18231   esxcc.com/js/index.htm?us.battle.net/noghn/en/...  good         0\n",
       "57904                       www.marinesurveyor.com/ogden/  good         0\n",
       "67904                         tools.ietf.org/html/rfc2010  good         0\n",
       "77904            infohost.nmt.edu/tcc/help/pubs/lang.html  good         0\n",
       "87904                  www.voicecallcentral.com/index.htm  good         0\n",
       "140671                            adirondackexplorer.org/  good         0\n",
       "150671                  blog.revolutionsoccer.net/?p=7383  good         0\n",
       "160671  companydatabase.org/c/retail-lumber-other-buil...  good         0\n",
       "170671  en.wikipedia.org/wiki/2010_Portland_Timbers_se...  good         0\n",
       "180671          en.wikipedia.org/wiki/Sole_proprietorship  good         0\n",
       "190671  freepages.genealogy.rootsweb.ancestry.com/~eas...  good         0\n",
       "200671                interamerican.lawschoolnumbers.com/  good         0\n",
       "210671  majorleaguesoccerplayers.com/chris-albright-bi...  good         0\n",
       "220671      new.music.yahoo.com/gilles-valiquette/tracks/  good         0\n",
       "230671          politicalgraveyard.com/bio/robinson2.html  good         0\n",
       "240671                 sonic.wikia.com/wiki/Ryan_Drummond  good         0\n",
       "250671  tvseriesfinale.com/tv-show/americas-most-wante...  good         0\n",
       "260671                    wn.com/John_Morrison_(wrestler)  good         0\n",
       "270671                             ajmoss.com/bergman.php  good         0\n",
       "280671                 answers.com/topic/louis-st-laurent  good         0\n",
       "290671  bestpsychicdirectory.com/california/robert-bou...  good         0\n",
       "300671  cbssports.com/nfl/draft/players/historical/124...  good         0\n",
       "310671                    crowncelebration.com/canada.htm  good         0\n",
       "320671  electronichouse.com/article/wired_vs_wireless_...  good         0\n",
       "330671  facebook.com/pages/Texas-Mid-Cities-Clown-Alle...  good         0\n",
       "340671  football.co.uk/scottish_premier_division_news/...  good         0\n",
       "350671         heartofthecapital.com/contact-city-council  good         0\n",
       "360671                          imdb.com/title/tt1019452/  good         0\n",
       "370671                             last.fm/music/Malajube  good         0\n",
       "380671  lyricsmode.com/lyrics/a/and_you_will_know_us_b...  good         0\n",
       "390671      modernfurniturewarehouse.com/deco-buffet.html  good         0\n",
       "400671                             myspace.com/stewman123  good         0\n",
       "410671                                    otr.net/?p=whis  good         0\n",
       "420671  realestatevine.ca/homes/quebec/montreal/rivi%C...  good         0\n",
       "430671                            shorewood-il.patch.com/  good         0\n",
       "440671  superlawyers.com/new-jersey/article/Everybodys...  good         0\n",
       "450671    travels.com/hotels/canada/quebec/saint-leonard/  good         0\n",
       "460671     vitals.com/doctors/Dr_John_J_Harrington_2.html  good         0\n",
       "470671                    youtube.com/watch?v=1CFBhp5zrN0  good         0\n",
       "480671         eere.energy.gov/solar/power_tower_rnd.html  good         0"
      ]
     },
     "execution_count": 7,
     "metadata": {},
     "output_type": "execute_result"
    }
   ],
   "source": [
    "df[df['phishing'] == 0].iloc[::10000]"
   ]
  },
  {
   "cell_type": "markdown",
   "id": "99fa7913",
   "metadata": {},
   "source": [
    "- (below) we suspect there is a data quality issue.  Here is a URL that looks ok."
   ]
  },
  {
   "cell_type": "code",
   "execution_count": 8,
   "id": "86d4b9ce",
   "metadata": {},
   "outputs": [
    {
     "data": {
      "text/plain": [
       "'nobell.it/70ffb52d079109dca5664cce6f317373782/login.SkyPe.com/en/cgi-bin/verification/login/70ffb52d079109dca5664cce6f317373/index.php?cmd=_profile-ach&outdated_page_tmpl=p/gen/failed-to-load&nav=0.5.1&login_access=1322408526'"
      ]
     },
     "execution_count": 8,
     "metadata": {},
     "output_type": "execute_result"
    }
   ],
   "source": [
    "df[\"URL\"].iloc[0]"
   ]
  },
  {
   "cell_type": "code",
   "execution_count": 9,
   "id": "72dfb0ad",
   "metadata": {},
   "outputs": [
    {
     "data": {
      "text/plain": [
       "225"
      ]
     },
     "execution_count": 9,
     "metadata": {},
     "output_type": "execute_result"
    }
   ],
   "source": [
    "df[\"URL\"].str.len().iloc[0]"
   ]
  },
  {
   "cell_type": "code",
   "execution_count": 10,
   "id": "0c32b09e",
   "metadata": {},
   "outputs": [
    {
     "data": {
      "text/plain": [
       "225"
      ]
     },
     "execution_count": 10,
     "metadata": {},
     "output_type": "execute_result"
    }
   ],
   "source": [
    "normal_chars = string.printable\n",
    "\n",
    "sum(v for k, v in ct.Counter(df[\"URL\"].iloc[0]).items() if k in normal_chars)"
   ]
  },
  {
   "cell_type": "markdown",
   "id": "2a46b553",
   "metadata": {},
   "source": [
    "- (below) here is a URL that we are concerned about."
   ]
  },
  {
   "cell_type": "code",
   "execution_count": 11,
   "id": "60826a07",
   "metadata": {},
   "outputs": [
    {
     "data": {
      "text/plain": [
       "\"www\\x0eeira¯&nvinip¿ncH¯wVö%ÆåyDaHðû/ÏyEùu\\x03Ë\\nÓ\\x176(rTÃ\\x06u\\x0f\\x8f\\x7fæ\\x82\\x0c\\x99=g\\x810¾\\x96÷mÖi\\x12Ó-;\\x9bXZ\\\\%êýü\\x05Éfn&\\x87\\\\°%7õÙ:¹u\\x96\\x0f\\x161ÌÑêFÄòW<\\x18\\x80$cï\\x86¦t[\\x910ò\\x9f>Þj\\x93®ÆeV2\\x92à\\x1bpù-íàÇ$E¤ZëÈ²ú\\x16SÌ¶\\tp\\x1fáSò°i°vþ[«³»]¹\\rjlÛW¿\\x95\\x9b\\x8a]ø¾µj¿;\\x08·ªo!\\x94ÒPì\\xa0·Ê\\x8bïH§#'\\x823\\x1bø@CÄR\\x02õ²çÇ\\x17\\x17Ý®\\x16ö\\x1d\\x7fQBÇÆg`Èå\\x85Zéê\\xa0D\\x1cîÂm\\x9e®ÎÝQó*x;9?\\x0fÁ\\x19\\x81Òâ\\x88\\x99bùt\\x1bÖ\\x07\\x96Ù®mÞ\\x80N\\x94\\x97P¯°^M\\x8eQ\\n(\\x1f-\\x04\\x06§;¬ÔAèUè\\x99é\\\\\\x10¨ø\\x95íÌ\\x88dB\\\\\\x01\\x8b\\x12[q½=ÿVuÃ\\x01»\\x07râæH\\x1bä\\x8dô/µ}\\x85»7!2=´ÂÏ4¿ª¡j91\\x04\\x86]\""
      ]
     },
     "execution_count": 11,
     "metadata": {},
     "output_type": "execute_result"
    }
   ],
   "source": [
    "df[\"URL\"].iloc[18232]"
   ]
  },
  {
   "cell_type": "code",
   "execution_count": 12,
   "id": "14497053",
   "metadata": {},
   "outputs": [
    {
     "data": {
      "text/plain": [
       "33"
      ]
     },
     "execution_count": 12,
     "metadata": {},
     "output_type": "execute_result"
    }
   ],
   "source": [
    "df[\"URL\"].str.len().iloc[18234]"
   ]
  },
  {
   "cell_type": "markdown",
   "id": "536528df",
   "metadata": {},
   "source": [
    "- (below) a function for identifying which rows contain these bad URLs."
   ]
  },
  {
   "cell_type": "code",
   "execution_count": 13,
   "id": "26f24087",
   "metadata": {},
   "outputs": [],
   "source": [
    "def non_printable_indices(col):\n",
    "    \"\"\"\n",
    "    Returns a vector of indices for elements that contain non-printable characters.\n",
    "    \"\"\"\n",
    "    indices = []\n",
    "    for i, s in col.items():\n",
    "        if any(c not in string.printable for c in s):\n",
    "            indices.append(i)\n",
    "    return indices"
   ]
  },
  {
   "cell_type": "code",
   "execution_count": 14,
   "id": "ce1ad39e",
   "metadata": {},
   "outputs": [],
   "source": [
    "bad_URL_rows = non_printable_indices(df[\"URL\"])"
   ]
  },
  {
   "cell_type": "code",
   "execution_count": 15,
   "id": "7342e299",
   "metadata": {},
   "outputs": [],
   "source": [
    "bad_df = df.iloc[bad_URL_rows]"
   ]
  },
  {
   "cell_type": "code",
   "execution_count": 30,
   "id": "4873b615",
   "metadata": {},
   "outputs": [
    {
     "data": {
      "text/html": [
       "<div>\n",
       "<style scoped>\n",
       "    .dataframe tbody tr th:only-of-type {\n",
       "        vertical-align: middle;\n",
       "    }\n",
       "\n",
       "    .dataframe tbody tr th {\n",
       "        vertical-align: top;\n",
       "    }\n",
       "\n",
       "    .dataframe thead th {\n",
       "        text-align: right;\n",
       "    }\n",
       "</style>\n",
       "<table border=\"1\" class=\"dataframe\">\n",
       "  <thead>\n",
       "    <tr style=\"text-align: right;\">\n",
       "      <th></th>\n",
       "      <th>URL</th>\n",
       "      <th>Label</th>\n",
       "      <th>phishing</th>\n",
       "    </tr>\n",
       "  </thead>\n",
       "  <tbody>\n",
       "    <tr>\n",
       "      <th>18231</th>\n",
       "      <td>esxcc.com/js/index.htm?us.battle.net/noghn/en/...</td>\n",
       "      <td>good</td>\n",
       "      <td>0</td>\n",
       "    </tr>\n",
       "    <tr>\n",
       "      <th>18232</th>\n",
       "      <td>www\u000eeira¯&amp;nvinip¿ncH¯wVö%ÆåyDaHðû/ÏyEùu\u0003Ë\\nÓ\u00176...</td>\n",
       "      <td>good</td>\n",
       "      <td>0</td>\n",
       "    </tr>\n",
       "    <tr>\n",
       "      <th>18233</th>\n",
       "      <td>'www.institutocgr.coo/web/media/syqvem/dk-\u000fóij...</td>\n",
       "      <td>good</td>\n",
       "      <td>0</td>\n",
       "    </tr>\n",
       "    <tr>\n",
       "      <th>18234</th>\n",
       "      <td>\u0011\u0018Yìê\f",
       "\n",
       "koãÕ»Î§DéÎ\u0002l½ñ¡ââqtò¸/à; Í</td>\n",
       "      <td>good</td>\n",
       "      <td>0</td>\n",
       "    </tr>\n",
       "    <tr>\n",
       "      <th>18235</th>\n",
       "      <td>è kvüDâQÎé4¼Ò©</td>\n",
       "      <td>bad</td>\n",
       "      <td>1</td>\n",
       "    </tr>\n",
       "  </tbody>\n",
       "</table>\n",
       "</div>"
      ],
      "text/plain": [
       "                                                     URL Label  phishing\n",
       "18231  esxcc.com/js/index.htm?us.battle.net/noghn/en/...  good         0\n",
       "18232  www\u000eeira¯&nvinip¿ncH¯wVö%ÆåyDaHðû/ÏyEùu\u0003Ë\\nÓ\u00176...  good         0\n",
       "18233  'www.institutocgr.coo/web/media/syqvem/dk-\u000fóij...  good         0\n",
       "18234                  \u0011\u0018Yìê\n",
       "koãÕ»Î§DéÎ\u0002l½ñ¡ââqtò¸/à; Í  good         0\n",
       "18235                                   è kvüDâQÎé4¼Ò©   bad         1"
      ]
     },
     "execution_count": 30,
     "metadata": {},
     "output_type": "execute_result"
    }
   ],
   "source": [
    "bad_df.head()"
   ]
  },
  {
   "cell_type": "markdown",
   "id": "ffb557e5",
   "metadata": {},
   "source": [
    "- (below) the weird urls are a little less represented in the \"non-phishing\" category, but they represent a small portion of total rows so we're going to remove them."
   ]
  },
  {
   "cell_type": "code",
   "execution_count": 16,
   "id": "42e53a30",
   "metadata": {},
   "outputs": [
    {
     "data": {
      "text/plain": [
       "0.13279132791327913"
      ]
     },
     "execution_count": 16,
     "metadata": {},
     "output_type": "execute_result"
    }
   ],
   "source": [
    "(bad_df['phishing'] == 1).sum()/(bad_df['phishing'] == 0).sum()"
   ]
  },
  {
   "cell_type": "code",
   "execution_count": 17,
   "id": "bb28206d",
   "metadata": {},
   "outputs": [
    {
     "data": {
      "text/plain": [
       "0.3980973419796195"
      ]
     },
     "execution_count": 17,
     "metadata": {},
     "output_type": "execute_result"
    }
   ],
   "source": [
    "(df['phishing'] == 1).sum()/(df['phishing'] == 0).sum()"
   ]
  },
  {
   "cell_type": "markdown",
   "id": "6114c181",
   "metadata": {},
   "source": [
    "- (below) the actual removal..."
   ]
  },
  {
   "cell_type": "code",
   "execution_count": 18,
   "id": "7f187102",
   "metadata": {},
   "outputs": [],
   "source": [
    "df = df.drop(bad_URL_rows)"
   ]
  },
  {
   "cell_type": "code",
   "execution_count": 19,
   "id": "de12607a",
   "metadata": {},
   "outputs": [
    {
     "data": {
      "text/plain": [
       "<AxesSubplot:xlabel='phishing', ylabel='count'>"
      ]
     },
     "execution_count": 19,
     "metadata": {},
     "output_type": "execute_result"
    },
    {
     "data": {
      "image/png": "[encoded data removed]",
      "text/plain": [
       "<Figure size 640x480 with 1 Axes>"
      ]
     },
     "metadata": {},
     "output_type": "display_data"
    }
   ],
   "source": [
    "sns.countplot(x=\"phishing\",data=df)"
   ]
  },
  {
   "cell_type": "markdown",
   "id": "f9ed087c",
   "metadata": {},
   "source": [
    "## Feature Engineering\n",
    "- (below) this is our first feature! a length count of characters."
   ]
  },
  {
   "cell_type": "code",
   "execution_count": 20,
   "id": "28ee06e0",
   "metadata": {},
   "outputs": [],
   "source": [
    "df['url_length'] = df['URL'].str.len()"
   ]
  },
  {
   "cell_type": "code",
   "execution_count": 21,
   "id": "478e461d",
   "metadata": {},
   "outputs": [
    {
     "data": {
      "text/html": [
       "<div>\n",
       "<style scoped>\n",
       "    .dataframe tbody tr th:only-of-type {\n",
       "        vertical-align: middle;\n",
       "    }\n",
       "\n",
       "    .dataframe tbody tr th {\n",
       "        vertical-align: top;\n",
       "    }\n",
       "\n",
       "    .dataframe thead th {\n",
       "        text-align: right;\n",
       "    }\n",
       "</style>\n",
       "<table border=\"1\" class=\"dataframe\">\n",
       "  <thead>\n",
       "    <tr style=\"text-align: right;\">\n",
       "      <th></th>\n",
       "      <th>URL</th>\n",
       "      <th>Label</th>\n",
       "      <th>phishing</th>\n",
       "      <th>url_length</th>\n",
       "    </tr>\n",
       "  </thead>\n",
       "  <tbody>\n",
       "    <tr>\n",
       "      <th>0</th>\n",
       "      <td>nobell.it/70ffb52d079109dca5664cce6f317373782/...</td>\n",
       "      <td>bad</td>\n",
       "      <td>1</td>\n",
       "      <td>225</td>\n",
       "    </tr>\n",
       "    <tr>\n",
       "      <th>1</th>\n",
       "      <td>www.dghjdgf.com/paypal.co.uk/cycgi-bin/webscrc...</td>\n",
       "      <td>bad</td>\n",
       "      <td>1</td>\n",
       "      <td>81</td>\n",
       "    </tr>\n",
       "    <tr>\n",
       "      <th>2</th>\n",
       "      <td>serviciosbys.com/paypal.cgi.bin.get-into.herf....</td>\n",
       "      <td>bad</td>\n",
       "      <td>1</td>\n",
       "      <td>177</td>\n",
       "    </tr>\n",
       "    <tr>\n",
       "      <th>3</th>\n",
       "      <td>mail.printakid.com/www.online.americanexpress....</td>\n",
       "      <td>bad</td>\n",
       "      <td>1</td>\n",
       "      <td>60</td>\n",
       "    </tr>\n",
       "    <tr>\n",
       "      <th>4</th>\n",
       "      <td>thewhiskeydregs.com/wp-content/themes/widescre...</td>\n",
       "      <td>bad</td>\n",
       "      <td>1</td>\n",
       "      <td>116</td>\n",
       "    </tr>\n",
       "  </tbody>\n",
       "</table>\n",
       "</div>"
      ],
      "text/plain": [
       "                                                 URL Label  phishing  \\\n",
       "0  nobell.it/70ffb52d079109dca5664cce6f317373782/...   bad         1   \n",
       "1  www.dghjdgf.com/paypal.co.uk/cycgi-bin/webscrc...   bad         1   \n",
       "2  serviciosbys.com/paypal.cgi.bin.get-into.herf....   bad         1   \n",
       "3  mail.printakid.com/www.online.americanexpress....   bad         1   \n",
       "4  thewhiskeydregs.com/wp-content/themes/widescre...   bad         1   \n",
       "\n",
       "   url_length  \n",
       "0         225  \n",
       "1          81  \n",
       "2         177  \n",
       "3          60  \n",
       "4         116  "
      ]
     },
     "execution_count": 21,
     "metadata": {},
     "output_type": "execute_result"
    }
   ],
   "source": [
    "df.head()"
   ]
  },
  {
   "cell_type": "markdown",
   "id": "f4680d31",
   "metadata": {},
   "source": [
    "- (below) create a tokenizer object that can be used to split text into tokens based on a regular expression pattern."
   ]
  },
  {
   "cell_type": "code",
   "execution_count": 22,
   "id": "ae69bdc8",
   "metadata": {},
   "outputs": [],
   "source": [
    "tokenizer = RegexpTokenizer(r'[A-Za-z]+')"
   ]
  },
  {
   "cell_type": "code",
   "execution_count": 23,
   "id": "b7d97686",
   "metadata": {},
   "outputs": [
    {
     "data": {
      "text/plain": [
       "['nobell',\n",
       " 'it',\n",
       " 'ffb',\n",
       " 'd',\n",
       " 'dca',\n",
       " 'cce',\n",
       " 'f',\n",
       " 'login',\n",
       " 'SkyPe',\n",
       " 'com',\n",
       " 'en',\n",
       " 'cgi',\n",
       " 'bin',\n",
       " 'verification',\n",
       " 'login',\n",
       " 'ffb',\n",
       " 'd',\n",
       " 'dca',\n",
       " 'cce',\n",
       " 'f',\n",
       " 'index',\n",
       " 'php',\n",
       " 'cmd',\n",
       " 'profile',\n",
       " 'ach',\n",
       " 'outdated',\n",
       " 'page',\n",
       " 'tmpl',\n",
       " 'p',\n",
       " 'gen',\n",
       " 'failed',\n",
       " 'to',\n",
       " 'load',\n",
       " 'nav',\n",
       " 'login',\n",
       " 'access']"
      ]
     },
     "execution_count": 23,
     "metadata": {},
     "output_type": "execute_result"
    }
   ],
   "source": [
    "tokenizer.tokenize(df.URL[0]) "
   ]
  },
  {
   "cell_type": "markdown",
   "id": "47407fbc",
   "metadata": {},
   "source": [
    "- (below) lets apply the tokenizer to every record in df.URL \n",
    "   - NOTE:  a lambda function is a small anonymous function that can be defined inline without a name. It's a shorthand way to define a function that takes arguments, performs an operation on them, and returns a value, all in a single line of code.\n",
    "   - basic syntac is `add = lambda x, y: x + y`\n",
    "   - `add(3, 5)` will return 8"
   ]
  },
  {
   "cell_type": "code",
   "execution_count": 24,
   "id": "077881dd",
   "metadata": {},
   "outputs": [],
   "source": [
    "df['text_tokenized'] = df.URL.map(lambda t: tokenizer.tokenize(t))"
   ]
  },
  {
   "cell_type": "markdown",
   "id": "605e2dc3",
   "metadata": {},
   "source": [
    "- (below) along with the tokenized column (which returns a list for each element, let's also create a column that holds concatenated string of the tokenized words instead."
   ]
  },
  {
   "cell_type": "code",
   "execution_count": 25,
   "id": "65cb1603",
   "metadata": {},
   "outputs": [],
   "source": [
    "df['text_token_conc'] = df['text_tokenized'].map(lambda l: ' '.join(l))"
   ]
  },
  {
   "cell_type": "markdown",
   "id": "9d21fe7b",
   "metadata": {},
   "source": [
    "### Jonathan's Features\n",
    "- (below) my first feature will be a count of the special characters in each URL."
   ]
  },
  {
   "cell_type": "code",
   "execution_count": 44,
   "id": "2931c9cc",
   "metadata": {},
   "outputs": [],
   "source": [
    "punct_chars = string.punctuation"
   ]
  },
  {
   "cell_type": "code",
   "execution_count": 45,
   "id": "234107a4",
   "metadata": {},
   "outputs": [],
   "source": [
    "df['punct_count'] = df['URL'].apply(lambda string: sum(1 for c in string if c in punct_chars))"
   ]
  },
  {
   "cell_type": "markdown",
   "id": "409fb39d",
   "metadata": {},
   "source": [
    "- (below) my second feature will count the words within each element of `df['text_tokenized']` that are also found in the english dictionary.\n",
    "   - NOTE: the nltk library natively contains the words dictionary but may not be comprehensive or appropriate for all use cases. "
   ]
  },
  {
   "cell_type": "code",
   "execution_count": 39,
   "id": "2f0f4430",
   "metadata": {},
   "outputs": [
    {
     "name": "stderr",
     "output_type": "stream",
     "text": [
      "[nltk_data] Downloading package wordnet to\n",
      "[nltk_data]     C:\\Users\\jonsch\\AppData\\Roaming\\nltk_data...\n",
      "[nltk_data]   Package wordnet is already up-to-date!\n",
      "[nltk_data] Downloading package omw-1.4 to\n",
      "[nltk_data]     C:\\Users\\jonsch\\AppData\\Roaming\\nltk_data...\n"
     ]
    },
    {
     "data": {
      "text/plain": [
       "True"
      ]
     },
     "execution_count": 39,
     "metadata": {},
     "output_type": "execute_result"
    }
   ],
   "source": [
    "nltk.download('wordnet')\n",
    "nltk.download('omw-1.4')"
   ]
  },
  {
   "cell_type": "code",
   "execution_count": 40,
   "id": "3b44e6be",
   "metadata": {},
   "outputs": [],
   "source": [
    "df['num_english_words'] = df['text_tokenized'].apply(lambda tokens: sum([token in wordnet.words() for token in tokens]))"
   ]
  },
  {
   "cell_type": "markdown",
   "id": "bad7af0d",
   "metadata": {},
   "source": [
    "- (above)  the .apply() method to apply a function that takes each list of tokens as input, and returns a scalar value representing the number of English words in the list.\n",
    "- (above) we use .apply() instead of .map() because the input data is a DataFrame column that contains lists, not a Series of individual elements. \n",
    "   - The .apply() method can handle this type of input data, while the .map() method is designed for Series of individual elements."
   ]
  },
  {
   "cell_type": "markdown",
   "id": "b1c1633d",
   "metadata": {},
   "source": [
    "- (below) my third feature will count the number of case changes in an URL.  I will normalize this by the length of the URL, which we already created earlier.\n",
    "  - I will first remove all punctuation from the URL.\n",
    "  - I will consider a case change to be a change from...\n",
    "      - lower case to upper case.\n",
    "      - lower case to number.\n",
    "      - upper case to lower case.\n",
    "      - upper case to number.\n",
    "      - number to lower case.\n",
    "      - number to upper case."
   ]
  },
  {
   "cell_type": "code",
   "execution_count": 46,
   "id": "10751c34",
   "metadata": {},
   "outputs": [],
   "source": [
    "def count_case_changes(string):\n",
    "    no_punct = ''.join(c for c in string if c not in punct_chars and c != ' ')\n",
    "    \n",
    "    chg_counter = 0\n",
    "    \n",
    "    prev_char = ''\n",
    "    \n",
    "    for char in no_punct:\n",
    "        if prev_char.islower() and char.isupper():\n",
    "            chg_counter += 1\n",
    "        elif prev_char.islower() and char.isdigit():\n",
    "            chg_counter += 1\n",
    "        elif prev_char.isupper() and char.islower():\n",
    "            chg_counter += 1\n",
    "        elif prev_char.isupper() and char.isdigit():\n",
    "            chg_counter += 1\n",
    "        elif prev_char.isdigit() and char.islower():\n",
    "            chg_counter += 1\n",
    "        elif prev_char.isdigit() and char.isupper():\n",
    "            chg_counter += 1\n",
    "        \n",
    "        prev_char = char\n",
    "    \n",
    "    return chg_counter"
   ]
  },
  {
   "cell_type": "code",
   "execution_count": 47,
   "id": "213c637c",
   "metadata": {},
   "outputs": [],
   "source": [
    "df['case_change_count'] = df.URL.map(lambda string: count_case_changes(string))"
   ]
  },
  {
   "cell_type": "markdown",
   "id": "f44de456",
   "metadata": {},
   "source": [
    "- (below) save my data frame for later use so we don't need to run the english word check again!"
   ]
  },
  {
   "cell_type": "code",
   "execution_count": 48,
   "id": "1d451792",
   "metadata": {},
   "outputs": [
    {
     "data": {
      "text/html": [
       "<div>\n",
       "<style scoped>\n",
       "    .dataframe tbody tr th:only-of-type {\n",
       "        vertical-align: middle;\n",
       "    }\n",
       "\n",
       "    .dataframe tbody tr th {\n",
       "        vertical-align: top;\n",
       "    }\n",
       "\n",
       "    .dataframe thead th {\n",
       "        text-align: right;\n",
       "    }\n",
       "</style>\n",
       "<table border=\"1\" class=\"dataframe\">\n",
       "  <thead>\n",
       "    <tr style=\"text-align: right;\">\n",
       "      <th></th>\n",
       "      <th>URL</th>\n",
       "      <th>Label</th>\n",
       "      <th>phishing</th>\n",
       "      <th>url_length</th>\n",
       "      <th>text_tokenized</th>\n",
       "      <th>text_token_conc</th>\n",
       "      <th>num_english_words</th>\n",
       "      <th>punct_count</th>\n",
       "      <th>case_change_count</th>\n",
       "    </tr>\n",
       "  </thead>\n",
       "  <tbody>\n",
       "    <tr>\n",
       "      <th>0</th>\n",
       "      <td>nobell.it/70ffb52d079109dca5664cce6f317373782/...</td>\n",
       "      <td>bad</td>\n",
       "      <td>1</td>\n",
       "      <td>225</td>\n",
       "      <td>[nobell, it, ffb, d, dca, cce, f, login, SkyPe...</td>\n",
       "      <td>nobell it ffb d dca cce f login SkyPe com en c...</td>\n",
       "      <td>16</td>\n",
       "      <td>32</td>\n",
       "      <td>31</td>\n",
       "    </tr>\n",
       "    <tr>\n",
       "      <th>1</th>\n",
       "      <td>www.dghjdgf.com/paypal.co.uk/cycgi-bin/webscrc...</td>\n",
       "      <td>bad</td>\n",
       "      <td>1</td>\n",
       "      <td>81</td>\n",
       "      <td>[www, dghjdgf, com, paypal, co, uk, cycgi, bin...</td>\n",
       "      <td>www dghjdgf com paypal co uk cycgi bin webscrc...</td>\n",
       "      <td>7</td>\n",
       "      <td>15</td>\n",
       "      <td>2</td>\n",
       "    </tr>\n",
       "    <tr>\n",
       "      <th>2</th>\n",
       "      <td>serviciosbys.com/paypal.cgi.bin.get-into.herf....</td>\n",
       "      <td>bad</td>\n",
       "      <td>1</td>\n",
       "      <td>177</td>\n",
       "      <td>[serviciosbys, com, paypal, cgi, bin, get, int...</td>\n",
       "      <td>serviciosbys com paypal cgi bin get into herf ...</td>\n",
       "      <td>15</td>\n",
       "      <td>19</td>\n",
       "      <td>25</td>\n",
       "    </tr>\n",
       "    <tr>\n",
       "      <th>3</th>\n",
       "      <td>mail.printakid.com/www.online.americanexpress....</td>\n",
       "      <td>bad</td>\n",
       "      <td>1</td>\n",
       "      <td>60</td>\n",
       "      <td>[mail, printakid, com, www, online, americanex...</td>\n",
       "      <td>mail printakid com www online americanexpress ...</td>\n",
       "      <td>5</td>\n",
       "      <td>8</td>\n",
       "      <td>0</td>\n",
       "    </tr>\n",
       "    <tr>\n",
       "      <th>4</th>\n",
       "      <td>thewhiskeydregs.com/wp-content/themes/widescre...</td>\n",
       "      <td>bad</td>\n",
       "      <td>1</td>\n",
       "      <td>116</td>\n",
       "      <td>[thewhiskeydregs, com, wp, content, themes, wi...</td>\n",
       "      <td>thewhiskeydregs com wp content themes widescre...</td>\n",
       "      <td>2</td>\n",
       "      <td>13</td>\n",
       "      <td>3</td>\n",
       "    </tr>\n",
       "  </tbody>\n",
       "</table>\n",
       "</div>"
      ],
      "text/plain": [
       "                                                 URL Label  phishing  \\\n",
       "0  nobell.it/70ffb52d079109dca5664cce6f317373782/...   bad         1   \n",
       "1  www.dghjdgf.com/paypal.co.uk/cycgi-bin/webscrc...   bad         1   \n",
       "2  serviciosbys.com/paypal.cgi.bin.get-into.herf....   bad         1   \n",
       "3  mail.printakid.com/www.online.americanexpress....   bad         1   \n",
       "4  thewhiskeydregs.com/wp-content/themes/widescre...   bad         1   \n",
       "\n",
       "   url_length                                     text_tokenized  \\\n",
       "0         225  [nobell, it, ffb, d, dca, cce, f, login, SkyPe...   \n",
       "1          81  [www, dghjdgf, com, paypal, co, uk, cycgi, bin...   \n",
       "2         177  [serviciosbys, com, paypal, cgi, bin, get, int...   \n",
       "3          60  [mail, printakid, com, www, online, americanex...   \n",
       "4         116  [thewhiskeydregs, com, wp, content, themes, wi...   \n",
       "\n",
       "                                     text_token_conc  num_english_words  \\\n",
       "0  nobell it ffb d dca cce f login SkyPe com en c...                 16   \n",
       "1  www dghjdgf com paypal co uk cycgi bin webscrc...                  7   \n",
       "2  serviciosbys com paypal cgi bin get into herf ...                 15   \n",
       "3  mail printakid com www online americanexpress ...                  5   \n",
       "4  thewhiskeydregs com wp content themes widescre...                  2   \n",
       "\n",
       "   punct_count  case_change_count  \n",
       "0           32                 31  \n",
       "1           15                  2  \n",
       "2           19                 25  \n",
       "3            8                  0  \n",
       "4           13                  3  "
      ]
     },
     "execution_count": 48,
     "metadata": {},
     "output_type": "execute_result"
    }
   ],
   "source": [
    "df.head()"
   ]
  },
  {
   "cell_type": "code",
   "execution_count": 49,
   "id": "03689cb4",
   "metadata": {},
   "outputs": [],
   "source": [
    "df.to_pickle('phishing_df.pkl')"
   ]
  },
  {
   "cell_type": "markdown",
   "id": "9d9693be",
   "metadata": {},
   "source": [
    "## Bryan Features "
   ]
  },
  {
   "cell_type": "code",
   "execution_count": 3,
   "id": "fc91df78",
   "metadata": {},
   "outputs": [],
   "source": [
    "df = pd.read_pickle('phishing_df.pkl')"
   ]
  },
  {
   "cell_type": "code",
   "execution_count": 4,
   "id": "7b6029a8",
   "metadata": {},
   "outputs": [],
   "source": [
    "# Feature that deterimines whether www. is found in the string \n",
    "\n",
    "# add a column that is a 1 if the url contains www and 0 otherwise \n",
    "contains_www = df.assign(contains_www = df['URL'].apply(lambda x: 1 if 'www.' in x else 0))\n"
   ]
  },
  {
   "cell_type": "code",
   "execution_count": 5,
   "id": "f7226fed",
   "metadata": {},
   "outputs": [],
   "source": [
    "# Do the same but checks to see if the url starts with www. \n",
    "startswith_www = df.assign(startswith_www = df['URL'].apply(lambda x: 1 if x.startswith('www.') else 0))"
   ]
  },
  {
   "cell_type": "code",
   "execution_count": 6,
   "id": "58e940f4",
   "metadata": {},
   "outputs": [],
   "source": [
    "# Returns the number of characters after www\n",
    "# filter down to strings that contain www. \n",
    "contains_www_filtered = contains_www.query('contains_www == 1')\n",
    "# add column with count of characters after www. \n",
    "contains_www_filtered = contains_www_filtered.assign(count = contains_www_filtered['URL'].apply(lambda x: len(x.split('www.', 1)[-1])))\n",
    "# convert to binary column ? "
   ]
  },
  {
   "cell_type": "code",
   "execution_count": 7,
   "id": "217c7500",
   "metadata": {},
   "outputs": [],
   "source": [
    "# median str len after www\n",
    "str_len_median = contains_www_filtered['count'].median()\n",
    "str_len_median\n",
    "# 1 if str length is above median and zero if below \n",
    "contains_www_filtered = contains_www_filtered.assign(above_median = contains_www_filtered['count'] > str_len_median)\n",
    "contains_www_filtered['above_median'] = contains_www_filtered['above_median'].astype(int)"
   ]
  },
  {
   "cell_type": "code",
   "execution_count": 8,
   "id": "7bfe601d",
   "metadata": {},
   "outputs": [
    {
     "data": {
      "text/plain": [
       "0.0012733910458202168"
      ]
     },
     "execution_count": 8,
     "metadata": {},
     "output_type": "execute_result"
    }
   ],
   "source": [
    "# Returns 1 if www is found more than once\n",
    "multiple_www = df.assign(mult_www=df['URL'].apply(lambda x: x.count('www.') > 1))\n",
    "multiple_www['mult_www'] = multiple_www['mult_www'].astype(int)\n",
    "sum(multiple_www['mult_www'] == 1)/len(multiple_www)"
   ]
  },
  {
   "cell_type": "code",
   "execution_count": 9,
   "id": "c6a1b0ef",
   "metadata": {},
   "outputs": [
    {
     "data": {
      "text/html": [
       "<div>\n",
       "<style scoped>\n",
       "    .dataframe tbody tr th:only-of-type {\n",
       "        vertical-align: middle;\n",
       "    }\n",
       "\n",
       "    .dataframe tbody tr th {\n",
       "        vertical-align: top;\n",
       "    }\n",
       "\n",
       "    .dataframe thead th {\n",
       "        text-align: right;\n",
       "    }\n",
       "</style>\n",
       "<table border=\"1\" class=\"dataframe\">\n",
       "  <thead>\n",
       "    <tr style=\"text-align: right;\">\n",
       "      <th></th>\n",
       "      <th>URL</th>\n",
       "      <th>Label</th>\n",
       "      <th>phishing</th>\n",
       "      <th>url_length</th>\n",
       "      <th>text_tokenized</th>\n",
       "      <th>text_token_conc</th>\n",
       "      <th>num_english_words</th>\n",
       "      <th>punct_count</th>\n",
       "      <th>case_change_count</th>\n",
       "      <th>contains_www</th>\n",
       "    </tr>\n",
       "  </thead>\n",
       "  <tbody>\n",
       "    <tr>\n",
       "      <th>0</th>\n",
       "      <td>nobell.it/70ffb52d079109dca5664cce6f317373782/...</td>\n",
       "      <td>bad</td>\n",
       "      <td>1</td>\n",
       "      <td>225</td>\n",
       "      <td>[nobell, it, ffb, d, dca, cce, f, login, SkyPe...</td>\n",
       "      <td>nobell it ffb d dca cce f login SkyPe com en c...</td>\n",
       "      <td>16</td>\n",
       "      <td>32</td>\n",
       "      <td>31</td>\n",
       "      <td>0</td>\n",
       "    </tr>\n",
       "    <tr>\n",
       "      <th>1</th>\n",
       "      <td>www.dghjdgf.com/paypal.co.uk/cycgi-bin/webscrc...</td>\n",
       "      <td>bad</td>\n",
       "      <td>1</td>\n",
       "      <td>81</td>\n",
       "      <td>[www, dghjdgf, com, paypal, co, uk, cycgi, bin...</td>\n",
       "      <td>www dghjdgf com paypal co uk cycgi bin webscrc...</td>\n",
       "      <td>7</td>\n",
       "      <td>15</td>\n",
       "      <td>2</td>\n",
       "      <td>1</td>\n",
       "    </tr>\n",
       "    <tr>\n",
       "      <th>2</th>\n",
       "      <td>serviciosbys.com/paypal.cgi.bin.get-into.herf....</td>\n",
       "      <td>bad</td>\n",
       "      <td>1</td>\n",
       "      <td>177</td>\n",
       "      <td>[serviciosbys, com, paypal, cgi, bin, get, int...</td>\n",
       "      <td>serviciosbys com paypal cgi bin get into herf ...</td>\n",
       "      <td>15</td>\n",
       "      <td>19</td>\n",
       "      <td>25</td>\n",
       "      <td>0</td>\n",
       "    </tr>\n",
       "    <tr>\n",
       "      <th>3</th>\n",
       "      <td>mail.printakid.com/www.online.americanexpress....</td>\n",
       "      <td>bad</td>\n",
       "      <td>1</td>\n",
       "      <td>60</td>\n",
       "      <td>[mail, printakid, com, www, online, americanex...</td>\n",
       "      <td>mail printakid com www online americanexpress ...</td>\n",
       "      <td>5</td>\n",
       "      <td>8</td>\n",
       "      <td>0</td>\n",
       "      <td>1</td>\n",
       "    </tr>\n",
       "    <tr>\n",
       "      <th>4</th>\n",
       "      <td>thewhiskeydregs.com/wp-content/themes/widescre...</td>\n",
       "      <td>bad</td>\n",
       "      <td>1</td>\n",
       "      <td>116</td>\n",
       "      <td>[thewhiskeydregs, com, wp, content, themes, wi...</td>\n",
       "      <td>thewhiskeydregs com wp content themes widescre...</td>\n",
       "      <td>2</td>\n",
       "      <td>13</td>\n",
       "      <td>3</td>\n",
       "      <td>0</td>\n",
       "    </tr>\n",
       "  </tbody>\n",
       "</table>\n",
       "</div>"
      ],
      "text/plain": [
       "                                                 URL Label  phishing  \\\n",
       "0  nobell.it/70ffb52d079109dca5664cce6f317373782/...   bad         1   \n",
       "1  www.dghjdgf.com/paypal.co.uk/cycgi-bin/webscrc...   bad         1   \n",
       "2  serviciosbys.com/paypal.cgi.bin.get-into.herf....   bad         1   \n",
       "3  mail.printakid.com/www.online.americanexpress....   bad         1   \n",
       "4  thewhiskeydregs.com/wp-content/themes/widescre...   bad         1   \n",
       "\n",
       "   url_length                                     text_tokenized  \\\n",
       "0         225  [nobell, it, ffb, d, dca, cce, f, login, SkyPe...   \n",
       "1          81  [www, dghjdgf, com, paypal, co, uk, cycgi, bin...   \n",
       "2         177  [serviciosbys, com, paypal, cgi, bin, get, int...   \n",
       "3          60  [mail, printakid, com, www, online, americanex...   \n",
       "4         116  [thewhiskeydregs, com, wp, content, themes, wi...   \n",
       "\n",
       "                                     text_token_conc  num_english_words  \\\n",
       "0  nobell it ffb d dca cce f login SkyPe com en c...                 16   \n",
       "1  www dghjdgf com paypal co uk cycgi bin webscrc...                  7   \n",
       "2  serviciosbys com paypal cgi bin get into herf ...                 15   \n",
       "3  mail printakid com www online americanexpress ...                  5   \n",
       "4  thewhiskeydregs com wp content themes widescre...                  2   \n",
       "\n",
       "   punct_count  case_change_count  contains_www  \n",
       "0           32                 31             0  \n",
       "1           15                  2             1  \n",
       "2           19                 25             0  \n",
       "3            8                  0             1  \n",
       "4           13                  3             0  "
      ]
     },
     "execution_count": 9,
     "metadata": {},
     "output_type": "execute_result"
    }
   ],
   "source": [
    "contains_www.head()"
   ]
  },
  {
   "cell_type": "code",
   "execution_count": 10,
   "id": "ea696d38",
   "metadata": {},
   "outputs": [],
   "source": [
    "df['contains_www'] = contains_www['contains_www']"
   ]
  },
  {
   "cell_type": "code",
   "execution_count": 11,
   "id": "1f2d560c",
   "metadata": {},
   "outputs": [
    {
     "data": {
      "text/html": [
       "<div>\n",
       "<style scoped>\n",
       "    .dataframe tbody tr th:only-of-type {\n",
       "        vertical-align: middle;\n",
       "    }\n",
       "\n",
       "    .dataframe tbody tr th {\n",
       "        vertical-align: top;\n",
       "    }\n",
       "\n",
       "    .dataframe thead th {\n",
       "        text-align: right;\n",
       "    }\n",
       "</style>\n",
       "<table border=\"1\" class=\"dataframe\">\n",
       "  <thead>\n",
       "    <tr style=\"text-align: right;\">\n",
       "      <th></th>\n",
       "      <th>URL</th>\n",
       "      <th>Label</th>\n",
       "      <th>phishing</th>\n",
       "      <th>url_length</th>\n",
       "      <th>text_tokenized</th>\n",
       "      <th>text_token_conc</th>\n",
       "      <th>num_english_words</th>\n",
       "      <th>punct_count</th>\n",
       "      <th>case_change_count</th>\n",
       "      <th>startswith_www</th>\n",
       "    </tr>\n",
       "  </thead>\n",
       "  <tbody>\n",
       "    <tr>\n",
       "      <th>0</th>\n",
       "      <td>nobell.it/70ffb52d079109dca5664cce6f317373782/...</td>\n",
       "      <td>bad</td>\n",
       "      <td>1</td>\n",
       "      <td>225</td>\n",
       "      <td>[nobell, it, ffb, d, dca, cce, f, login, SkyPe...</td>\n",
       "      <td>nobell it ffb d dca cce f login SkyPe com en c...</td>\n",
       "      <td>16</td>\n",
       "      <td>32</td>\n",
       "      <td>31</td>\n",
       "      <td>0</td>\n",
       "    </tr>\n",
       "    <tr>\n",
       "      <th>1</th>\n",
       "      <td>www.dghjdgf.com/paypal.co.uk/cycgi-bin/webscrc...</td>\n",
       "      <td>bad</td>\n",
       "      <td>1</td>\n",
       "      <td>81</td>\n",
       "      <td>[www, dghjdgf, com, paypal, co, uk, cycgi, bin...</td>\n",
       "      <td>www dghjdgf com paypal co uk cycgi bin webscrc...</td>\n",
       "      <td>7</td>\n",
       "      <td>15</td>\n",
       "      <td>2</td>\n",
       "      <td>1</td>\n",
       "    </tr>\n",
       "    <tr>\n",
       "      <th>2</th>\n",
       "      <td>serviciosbys.com/paypal.cgi.bin.get-into.herf....</td>\n",
       "      <td>bad</td>\n",
       "      <td>1</td>\n",
       "      <td>177</td>\n",
       "      <td>[serviciosbys, com, paypal, cgi, bin, get, int...</td>\n",
       "      <td>serviciosbys com paypal cgi bin get into herf ...</td>\n",
       "      <td>15</td>\n",
       "      <td>19</td>\n",
       "      <td>25</td>\n",
       "      <td>0</td>\n",
       "    </tr>\n",
       "    <tr>\n",
       "      <th>3</th>\n",
       "      <td>mail.printakid.com/www.online.americanexpress....</td>\n",
       "      <td>bad</td>\n",
       "      <td>1</td>\n",
       "      <td>60</td>\n",
       "      <td>[mail, printakid, com, www, online, americanex...</td>\n",
       "      <td>mail printakid com www online americanexpress ...</td>\n",
       "      <td>5</td>\n",
       "      <td>8</td>\n",
       "      <td>0</td>\n",
       "      <td>0</td>\n",
       "    </tr>\n",
       "    <tr>\n",
       "      <th>4</th>\n",
       "      <td>thewhiskeydregs.com/wp-content/themes/widescre...</td>\n",
       "      <td>bad</td>\n",
       "      <td>1</td>\n",
       "      <td>116</td>\n",
       "      <td>[thewhiskeydregs, com, wp, content, themes, wi...</td>\n",
       "      <td>thewhiskeydregs com wp content themes widescre...</td>\n",
       "      <td>2</td>\n",
       "      <td>13</td>\n",
       "      <td>3</td>\n",
       "      <td>0</td>\n",
       "    </tr>\n",
       "  </tbody>\n",
       "</table>\n",
       "</div>"
      ],
      "text/plain": [
       "                                                 URL Label  phishing  \\\n",
       "0  nobell.it/70ffb52d079109dca5664cce6f317373782/...   bad         1   \n",
       "1  www.dghjdgf.com/paypal.co.uk/cycgi-bin/webscrc...   bad         1   \n",
       "2  serviciosbys.com/paypal.cgi.bin.get-into.herf....   bad         1   \n",
       "3  mail.printakid.com/www.online.americanexpress....   bad         1   \n",
       "4  thewhiskeydregs.com/wp-content/themes/widescre...   bad         1   \n",
       "\n",
       "   url_length                                     text_tokenized  \\\n",
       "0         225  [nobell, it, ffb, d, dca, cce, f, login, SkyPe...   \n",
       "1          81  [www, dghjdgf, com, paypal, co, uk, cycgi, bin...   \n",
       "2         177  [serviciosbys, com, paypal, cgi, bin, get, int...   \n",
       "3          60  [mail, printakid, com, www, online, americanex...   \n",
       "4         116  [thewhiskeydregs, com, wp, content, themes, wi...   \n",
       "\n",
       "                                     text_token_conc  num_english_words  \\\n",
       "0  nobell it ffb d dca cce f login SkyPe com en c...                 16   \n",
       "1  www dghjdgf com paypal co uk cycgi bin webscrc...                  7   \n",
       "2  serviciosbys com paypal cgi bin get into herf ...                 15   \n",
       "3  mail printakid com www online americanexpress ...                  5   \n",
       "4  thewhiskeydregs com wp content themes widescre...                  2   \n",
       "\n",
       "   punct_count  case_change_count  startswith_www  \n",
       "0           32                 31               0  \n",
       "1           15                  2               1  \n",
       "2           19                 25               0  \n",
       "3            8                  0               0  \n",
       "4           13                  3               0  "
      ]
     },
     "execution_count": 11,
     "metadata": {},
     "output_type": "execute_result"
    }
   ],
   "source": [
    "startswith_www.head()"
   ]
  },
  {
   "cell_type": "code",
   "execution_count": 12,
   "id": "1e63d0dc",
   "metadata": {},
   "outputs": [],
   "source": [
    "df['startswith_www'] = startswith_www['startswith_www']"
   ]
  },
  {
   "cell_type": "code",
   "execution_count": 13,
   "id": "5d6c6262",
   "metadata": {},
   "outputs": [
    {
     "data": {
      "text/html": [
       "<div>\n",
       "<style scoped>\n",
       "    .dataframe tbody tr th:only-of-type {\n",
       "        vertical-align: middle;\n",
       "    }\n",
       "\n",
       "    .dataframe tbody tr th {\n",
       "        vertical-align: top;\n",
       "    }\n",
       "\n",
       "    .dataframe thead th {\n",
       "        text-align: right;\n",
       "    }\n",
       "</style>\n",
       "<table border=\"1\" class=\"dataframe\">\n",
       "  <thead>\n",
       "    <tr style=\"text-align: right;\">\n",
       "      <th></th>\n",
       "      <th>URL</th>\n",
       "      <th>Label</th>\n",
       "      <th>phishing</th>\n",
       "      <th>url_length</th>\n",
       "      <th>text_tokenized</th>\n",
       "      <th>text_token_conc</th>\n",
       "      <th>num_english_words</th>\n",
       "      <th>punct_count</th>\n",
       "      <th>case_change_count</th>\n",
       "      <th>contains_www</th>\n",
       "      <th>count</th>\n",
       "      <th>above_median</th>\n",
       "    </tr>\n",
       "  </thead>\n",
       "  <tbody>\n",
       "    <tr>\n",
       "      <th>1</th>\n",
       "      <td>www.dghjdgf.com/paypal.co.uk/cycgi-bin/webscrc...</td>\n",
       "      <td>bad</td>\n",
       "      <td>1</td>\n",
       "      <td>81</td>\n",
       "      <td>[www, dghjdgf, com, paypal, co, uk, cycgi, bin...</td>\n",
       "      <td>www dghjdgf com paypal co uk cycgi bin webscrc...</td>\n",
       "      <td>7</td>\n",
       "      <td>15</td>\n",
       "      <td>2</td>\n",
       "      <td>1</td>\n",
       "      <td>77</td>\n",
       "      <td>1</td>\n",
       "    </tr>\n",
       "    <tr>\n",
       "      <th>3</th>\n",
       "      <td>mail.printakid.com/www.online.americanexpress....</td>\n",
       "      <td>bad</td>\n",
       "      <td>1</td>\n",
       "      <td>60</td>\n",
       "      <td>[mail, printakid, com, www, online, americanex...</td>\n",
       "      <td>mail printakid com www online americanexpress ...</td>\n",
       "      <td>5</td>\n",
       "      <td>8</td>\n",
       "      <td>0</td>\n",
       "      <td>1</td>\n",
       "      <td>37</td>\n",
       "      <td>1</td>\n",
       "    </tr>\n",
       "    <tr>\n",
       "      <th>9</th>\n",
       "      <td>horizonsgallery.com/js/bin/ssl1/_id/www.paypal...</td>\n",
       "      <td>bad</td>\n",
       "      <td>1</td>\n",
       "      <td>193</td>\n",
       "      <td>[horizonsgallery, com, js, bin, ssl, id, www, ...</td>\n",
       "      <td>horizonsgallery com js bin ssl id www paypal c...</td>\n",
       "      <td>22</td>\n",
       "      <td>26</td>\n",
       "      <td>38</td>\n",
       "      <td>1</td>\n",
       "      <td>153</td>\n",
       "      <td>1</td>\n",
       "    </tr>\n",
       "    <tr>\n",
       "      <th>12</th>\n",
       "      <td>www.coincoele.com.br/Scripts/smiles/?pt-br/Pag...</td>\n",
       "      <td>bad</td>\n",
       "      <td>1</td>\n",
       "      <td>63</td>\n",
       "      <td>[www, coincoele, com, br, Scripts, smiles, pt,...</td>\n",
       "      <td>www coincoele com br Scripts smiles pt br Pagi...</td>\n",
       "      <td>5</td>\n",
       "      <td>11</td>\n",
       "      <td>4</td>\n",
       "      <td>1</td>\n",
       "      <td>59</td>\n",
       "      <td>1</td>\n",
       "    </tr>\n",
       "    <tr>\n",
       "      <th>13</th>\n",
       "      <td>www.henkdeinumboomkwekerij.nl/language/pdf_fon...</td>\n",
       "      <td>bad</td>\n",
       "      <td>1</td>\n",
       "      <td>59</td>\n",
       "      <td>[www, henkdeinumboomkwekerij, nl, language, pd...</td>\n",
       "      <td>www henkdeinumboomkwekerij nl language pdf fon...</td>\n",
       "      <td>2</td>\n",
       "      <td>7</td>\n",
       "      <td>0</td>\n",
       "      <td>1</td>\n",
       "      <td>55</td>\n",
       "      <td>1</td>\n",
       "    </tr>\n",
       "  </tbody>\n",
       "</table>\n",
       "</div>"
      ],
      "text/plain": [
       "                                                  URL Label  phishing  \\\n",
       "1   www.dghjdgf.com/paypal.co.uk/cycgi-bin/webscrc...   bad         1   \n",
       "3   mail.printakid.com/www.online.americanexpress....   bad         1   \n",
       "9   horizonsgallery.com/js/bin/ssl1/_id/www.paypal...   bad         1   \n",
       "12  www.coincoele.com.br/Scripts/smiles/?pt-br/Pag...   bad         1   \n",
       "13  www.henkdeinumboomkwekerij.nl/language/pdf_fon...   bad         1   \n",
       "\n",
       "    url_length                                     text_tokenized  \\\n",
       "1           81  [www, dghjdgf, com, paypal, co, uk, cycgi, bin...   \n",
       "3           60  [mail, printakid, com, www, online, americanex...   \n",
       "9          193  [horizonsgallery, com, js, bin, ssl, id, www, ...   \n",
       "12          63  [www, coincoele, com, br, Scripts, smiles, pt,...   \n",
       "13          59  [www, henkdeinumboomkwekerij, nl, language, pd...   \n",
       "\n",
       "                                      text_token_conc  num_english_words  \\\n",
       "1   www dghjdgf com paypal co uk cycgi bin webscrc...                  7   \n",
       "3   mail printakid com www online americanexpress ...                  5   \n",
       "9   horizonsgallery com js bin ssl id www paypal c...                 22   \n",
       "12  www coincoele com br Scripts smiles pt br Pagi...                  5   \n",
       "13  www henkdeinumboomkwekerij nl language pdf fon...                  2   \n",
       "\n",
       "    punct_count  case_change_count  contains_www  count  above_median  \n",
       "1            15                  2             1     77             1  \n",
       "3             8                  0             1     37             1  \n",
       "9            26                 38             1    153             1  \n",
       "12           11                  4             1     59             1  \n",
       "13            7                  0             1     55             1  "
      ]
     },
     "execution_count": 13,
     "metadata": {},
     "output_type": "execute_result"
    }
   ],
   "source": [
    "contains_www_filtered.head()"
   ]
  },
  {
   "cell_type": "code",
   "execution_count": 14,
   "id": "77c98b88",
   "metadata": {},
   "outputs": [],
   "source": [
    "df['chars_past_www'] = contains_www_filtered['count']\n",
    "df['chars_past_www_above_median'] = contains_www_filtered['above_median']"
   ]
  },
  {
   "cell_type": "code",
   "execution_count": 15,
   "id": "255965f4",
   "metadata": {},
   "outputs": [
    {
     "data": {
      "text/html": [
       "<div>\n",
       "<style scoped>\n",
       "    .dataframe tbody tr th:only-of-type {\n",
       "        vertical-align: middle;\n",
       "    }\n",
       "\n",
       "    .dataframe tbody tr th {\n",
       "        vertical-align: top;\n",
       "    }\n",
       "\n",
       "    .dataframe thead th {\n",
       "        text-align: right;\n",
       "    }\n",
       "</style>\n",
       "<table border=\"1\" class=\"dataframe\">\n",
       "  <thead>\n",
       "    <tr style=\"text-align: right;\">\n",
       "      <th></th>\n",
       "      <th>URL</th>\n",
       "      <th>Label</th>\n",
       "      <th>phishing</th>\n",
       "      <th>url_length</th>\n",
       "      <th>text_tokenized</th>\n",
       "      <th>text_token_conc</th>\n",
       "      <th>num_english_words</th>\n",
       "      <th>punct_count</th>\n",
       "      <th>case_change_count</th>\n",
       "      <th>mult_www</th>\n",
       "    </tr>\n",
       "  </thead>\n",
       "  <tbody>\n",
       "    <tr>\n",
       "      <th>0</th>\n",
       "      <td>nobell.it/70ffb52d079109dca5664cce6f317373782/...</td>\n",
       "      <td>bad</td>\n",
       "      <td>1</td>\n",
       "      <td>225</td>\n",
       "      <td>[nobell, it, ffb, d, dca, cce, f, login, SkyPe...</td>\n",
       "      <td>nobell it ffb d dca cce f login SkyPe com en c...</td>\n",
       "      <td>16</td>\n",
       "      <td>32</td>\n",
       "      <td>31</td>\n",
       "      <td>0</td>\n",
       "    </tr>\n",
       "    <tr>\n",
       "      <th>1</th>\n",
       "      <td>www.dghjdgf.com/paypal.co.uk/cycgi-bin/webscrc...</td>\n",
       "      <td>bad</td>\n",
       "      <td>1</td>\n",
       "      <td>81</td>\n",
       "      <td>[www, dghjdgf, com, paypal, co, uk, cycgi, bin...</td>\n",
       "      <td>www dghjdgf com paypal co uk cycgi bin webscrc...</td>\n",
       "      <td>7</td>\n",
       "      <td>15</td>\n",
       "      <td>2</td>\n",
       "      <td>0</td>\n",
       "    </tr>\n",
       "    <tr>\n",
       "      <th>2</th>\n",
       "      <td>serviciosbys.com/paypal.cgi.bin.get-into.herf....</td>\n",
       "      <td>bad</td>\n",
       "      <td>1</td>\n",
       "      <td>177</td>\n",
       "      <td>[serviciosbys, com, paypal, cgi, bin, get, int...</td>\n",
       "      <td>serviciosbys com paypal cgi bin get into herf ...</td>\n",
       "      <td>15</td>\n",
       "      <td>19</td>\n",
       "      <td>25</td>\n",
       "      <td>0</td>\n",
       "    </tr>\n",
       "    <tr>\n",
       "      <th>3</th>\n",
       "      <td>mail.printakid.com/www.online.americanexpress....</td>\n",
       "      <td>bad</td>\n",
       "      <td>1</td>\n",
       "      <td>60</td>\n",
       "      <td>[mail, printakid, com, www, online, americanex...</td>\n",
       "      <td>mail printakid com www online americanexpress ...</td>\n",
       "      <td>5</td>\n",
       "      <td>8</td>\n",
       "      <td>0</td>\n",
       "      <td>0</td>\n",
       "    </tr>\n",
       "    <tr>\n",
       "      <th>4</th>\n",
       "      <td>thewhiskeydregs.com/wp-content/themes/widescre...</td>\n",
       "      <td>bad</td>\n",
       "      <td>1</td>\n",
       "      <td>116</td>\n",
       "      <td>[thewhiskeydregs, com, wp, content, themes, wi...</td>\n",
       "      <td>thewhiskeydregs com wp content themes widescre...</td>\n",
       "      <td>2</td>\n",
       "      <td>13</td>\n",
       "      <td>3</td>\n",
       "      <td>0</td>\n",
       "    </tr>\n",
       "  </tbody>\n",
       "</table>\n",
       "</div>"
      ],
      "text/plain": [
       "                                                 URL Label  phishing  \\\n",
       "0  nobell.it/70ffb52d079109dca5664cce6f317373782/...   bad         1   \n",
       "1  www.dghjdgf.com/paypal.co.uk/cycgi-bin/webscrc...   bad         1   \n",
       "2  serviciosbys.com/paypal.cgi.bin.get-into.herf....   bad         1   \n",
       "3  mail.printakid.com/www.online.americanexpress....   bad         1   \n",
       "4  thewhiskeydregs.com/wp-content/themes/widescre...   bad         1   \n",
       "\n",
       "   url_length                                     text_tokenized  \\\n",
       "0         225  [nobell, it, ffb, d, dca, cce, f, login, SkyPe...   \n",
       "1          81  [www, dghjdgf, com, paypal, co, uk, cycgi, bin...   \n",
       "2         177  [serviciosbys, com, paypal, cgi, bin, get, int...   \n",
       "3          60  [mail, printakid, com, www, online, americanex...   \n",
       "4         116  [thewhiskeydregs, com, wp, content, themes, wi...   \n",
       "\n",
       "                                     text_token_conc  num_english_words  \\\n",
       "0  nobell it ffb d dca cce f login SkyPe com en c...                 16   \n",
       "1  www dghjdgf com paypal co uk cycgi bin webscrc...                  7   \n",
       "2  serviciosbys com paypal cgi bin get into herf ...                 15   \n",
       "3  mail printakid com www online americanexpress ...                  5   \n",
       "4  thewhiskeydregs com wp content themes widescre...                  2   \n",
       "\n",
       "   punct_count  case_change_count  mult_www  \n",
       "0           32                 31         0  \n",
       "1           15                  2         0  \n",
       "2           19                 25         0  \n",
       "3            8                  0         0  \n",
       "4           13                  3         0  "
      ]
     },
     "execution_count": 15,
     "metadata": {},
     "output_type": "execute_result"
    }
   ],
   "source": [
    "multiple_www.head()"
   ]
  },
  {
   "cell_type": "code",
   "execution_count": 16,
   "id": "2a9c8643",
   "metadata": {},
   "outputs": [],
   "source": [
    "df['multi_www'] = multiple_www['mult_www']"
   ]
  },
  {
   "cell_type": "code",
   "execution_count": 17,
   "id": "136aea4b",
   "metadata": {},
   "outputs": [
    {
     "data": {
      "text/html": [
       "<div>\n",
       "<style scoped>\n",
       "    .dataframe tbody tr th:only-of-type {\n",
       "        vertical-align: middle;\n",
       "    }\n",
       "\n",
       "    .dataframe tbody tr th {\n",
       "        vertical-align: top;\n",
       "    }\n",
       "\n",
       "    .dataframe thead th {\n",
       "        text-align: right;\n",
       "    }\n",
       "</style>\n",
       "<table border=\"1\" class=\"dataframe\">\n",
       "  <thead>\n",
       "    <tr style=\"text-align: right;\">\n",
       "      <th></th>\n",
       "      <th>URL</th>\n",
       "      <th>Label</th>\n",
       "      <th>phishing</th>\n",
       "      <th>url_length</th>\n",
       "      <th>text_tokenized</th>\n",
       "      <th>text_token_conc</th>\n",
       "      <th>num_english_words</th>\n",
       "      <th>punct_count</th>\n",
       "      <th>case_change_count</th>\n",
       "      <th>contains_www</th>\n",
       "      <th>startswith_www</th>\n",
       "      <th>chars_past_www</th>\n",
       "      <th>chars_past_www_above_median</th>\n",
       "      <th>multi_www</th>\n",
       "    </tr>\n",
       "  </thead>\n",
       "  <tbody>\n",
       "    <tr>\n",
       "      <th>0</th>\n",
       "      <td>nobell.it/70ffb52d079109dca5664cce6f317373782/...</td>\n",
       "      <td>bad</td>\n",
       "      <td>1</td>\n",
       "      <td>225</td>\n",
       "      <td>[nobell, it, ffb, d, dca, cce, f, login, SkyPe...</td>\n",
       "      <td>nobell it ffb d dca cce f login SkyPe com en c...</td>\n",
       "      <td>16</td>\n",
       "      <td>32</td>\n",
       "      <td>31</td>\n",
       "      <td>0</td>\n",
       "      <td>0</td>\n",
       "      <td>NaN</td>\n",
       "      <td>NaN</td>\n",
       "      <td>0</td>\n",
       "    </tr>\n",
       "    <tr>\n",
       "      <th>1</th>\n",
       "      <td>www.dghjdgf.com/paypal.co.uk/cycgi-bin/webscrc...</td>\n",
       "      <td>bad</td>\n",
       "      <td>1</td>\n",
       "      <td>81</td>\n",
       "      <td>[www, dghjdgf, com, paypal, co, uk, cycgi, bin...</td>\n",
       "      <td>www dghjdgf com paypal co uk cycgi bin webscrc...</td>\n",
       "      <td>7</td>\n",
       "      <td>15</td>\n",
       "      <td>2</td>\n",
       "      <td>1</td>\n",
       "      <td>1</td>\n",
       "      <td>77.0</td>\n",
       "      <td>1.0</td>\n",
       "      <td>0</td>\n",
       "    </tr>\n",
       "    <tr>\n",
       "      <th>2</th>\n",
       "      <td>serviciosbys.com/paypal.cgi.bin.get-into.herf....</td>\n",
       "      <td>bad</td>\n",
       "      <td>1</td>\n",
       "      <td>177</td>\n",
       "      <td>[serviciosbys, com, paypal, cgi, bin, get, int...</td>\n",
       "      <td>serviciosbys com paypal cgi bin get into herf ...</td>\n",
       "      <td>15</td>\n",
       "      <td>19</td>\n",
       "      <td>25</td>\n",
       "      <td>0</td>\n",
       "      <td>0</td>\n",
       "      <td>NaN</td>\n",
       "      <td>NaN</td>\n",
       "      <td>0</td>\n",
       "    </tr>\n",
       "    <tr>\n",
       "      <th>3</th>\n",
       "      <td>mail.printakid.com/www.online.americanexpress....</td>\n",
       "      <td>bad</td>\n",
       "      <td>1</td>\n",
       "      <td>60</td>\n",
       "      <td>[mail, printakid, com, www, online, americanex...</td>\n",
       "      <td>mail printakid com www online americanexpress ...</td>\n",
       "      <td>5</td>\n",
       "      <td>8</td>\n",
       "      <td>0</td>\n",
       "      <td>1</td>\n",
       "      <td>0</td>\n",
       "      <td>37.0</td>\n",
       "      <td>1.0</td>\n",
       "      <td>0</td>\n",
       "    </tr>\n",
       "    <tr>\n",
       "      <th>4</th>\n",
       "      <td>thewhiskeydregs.com/wp-content/themes/widescre...</td>\n",
       "      <td>bad</td>\n",
       "      <td>1</td>\n",
       "      <td>116</td>\n",
       "      <td>[thewhiskeydregs, com, wp, content, themes, wi...</td>\n",
       "      <td>thewhiskeydregs com wp content themes widescre...</td>\n",
       "      <td>2</td>\n",
       "      <td>13</td>\n",
       "      <td>3</td>\n",
       "      <td>0</td>\n",
       "      <td>0</td>\n",
       "      <td>NaN</td>\n",
       "      <td>NaN</td>\n",
       "      <td>0</td>\n",
       "    </tr>\n",
       "  </tbody>\n",
       "</table>\n",
       "</div>"
      ],
      "text/plain": [
       "                                                 URL Label  phishing  \\\n",
       "0  nobell.it/70ffb52d079109dca5664cce6f317373782/...   bad         1   \n",
       "1  www.dghjdgf.com/paypal.co.uk/cycgi-bin/webscrc...   bad         1   \n",
       "2  serviciosbys.com/paypal.cgi.bin.get-into.herf....   bad         1   \n",
       "3  mail.printakid.com/www.online.americanexpress....   bad         1   \n",
       "4  thewhiskeydregs.com/wp-content/themes/widescre...   bad         1   \n",
       "\n",
       "   url_length                                     text_tokenized  \\\n",
       "0         225  [nobell, it, ffb, d, dca, cce, f, login, SkyPe...   \n",
       "1          81  [www, dghjdgf, com, paypal, co, uk, cycgi, bin...   \n",
       "2         177  [serviciosbys, com, paypal, cgi, bin, get, int...   \n",
       "3          60  [mail, printakid, com, www, online, americanex...   \n",
       "4         116  [thewhiskeydregs, com, wp, content, themes, wi...   \n",
       "\n",
       "                                     text_token_conc  num_english_words  \\\n",
       "0  nobell it ffb d dca cce f login SkyPe com en c...                 16   \n",
       "1  www dghjdgf com paypal co uk cycgi bin webscrc...                  7   \n",
       "2  serviciosbys com paypal cgi bin get into herf ...                 15   \n",
       "3  mail printakid com www online americanexpress ...                  5   \n",
       "4  thewhiskeydregs com wp content themes widescre...                  2   \n",
       "\n",
       "   punct_count  case_change_count  contains_www  startswith_www  \\\n",
       "0           32                 31             0               0   \n",
       "1           15                  2             1               1   \n",
       "2           19                 25             0               0   \n",
       "3            8                  0             1               0   \n",
       "4           13                  3             0               0   \n",
       "\n",
       "   chars_past_www  chars_past_www_above_median  multi_www  \n",
       "0             NaN                          NaN          0  \n",
       "1            77.0                          1.0          0  \n",
       "2             NaN                          NaN          0  \n",
       "3            37.0                          1.0          0  \n",
       "4             NaN                          NaN          0  "
      ]
     },
     "execution_count": 17,
     "metadata": {},
     "output_type": "execute_result"
    }
   ],
   "source": [
    "df.head()"
   ]
  },
  {
   "cell_type": "code",
   "execution_count": 18,
   "id": "633ade72",
   "metadata": {},
   "outputs": [],
   "source": [
    "df.fillna(0, inplace=True)\n",
    "df['chars_past_www'] = df['chars_past_www'].astype(int)\n",
    "df['chars_past_www_above_median'] = df['chars_past_www_above_median'].astype(int)"
   ]
  },
  {
   "cell_type": "code",
   "execution_count": 19,
   "id": "28c77c3b",
   "metadata": {},
   "outputs": [
    {
     "data": {
      "text/html": [
       "<div>\n",
       "<style scoped>\n",
       "    .dataframe tbody tr th:only-of-type {\n",
       "        vertical-align: middle;\n",
       "    }\n",
       "\n",
       "    .dataframe tbody tr th {\n",
       "        vertical-align: top;\n",
       "    }\n",
       "\n",
       "    .dataframe thead th {\n",
       "        text-align: right;\n",
       "    }\n",
       "</style>\n",
       "<table border=\"1\" class=\"dataframe\">\n",
       "  <thead>\n",
       "    <tr style=\"text-align: right;\">\n",
       "      <th></th>\n",
       "      <th>URL</th>\n",
       "      <th>Label</th>\n",
       "      <th>phishing</th>\n",
       "      <th>url_length</th>\n",
       "      <th>text_tokenized</th>\n",
       "      <th>text_token_conc</th>\n",
       "      <th>num_english_words</th>\n",
       "      <th>punct_count</th>\n",
       "      <th>case_change_count</th>\n",
       "      <th>contains_www</th>\n",
       "      <th>startswith_www</th>\n",
       "      <th>chars_past_www</th>\n",
       "      <th>chars_past_www_above_median</th>\n",
       "      <th>multi_www</th>\n",
       "    </tr>\n",
       "  </thead>\n",
       "  <tbody>\n",
       "    <tr>\n",
       "      <th>0</th>\n",
       "      <td>nobell.it/70ffb52d079109dca5664cce6f317373782/...</td>\n",
       "      <td>bad</td>\n",
       "      <td>1</td>\n",
       "      <td>225</td>\n",
       "      <td>[nobell, it, ffb, d, dca, cce, f, login, SkyPe...</td>\n",
       "      <td>nobell it ffb d dca cce f login SkyPe com en c...</td>\n",
       "      <td>16</td>\n",
       "      <td>32</td>\n",
       "      <td>31</td>\n",
       "      <td>0</td>\n",
       "      <td>0</td>\n",
       "      <td>0</td>\n",
       "      <td>0</td>\n",
       "      <td>0</td>\n",
       "    </tr>\n",
       "    <tr>\n",
       "      <th>1</th>\n",
       "      <td>www.dghjdgf.com/paypal.co.uk/cycgi-bin/webscrc...</td>\n",
       "      <td>bad</td>\n",
       "      <td>1</td>\n",
       "      <td>81</td>\n",
       "      <td>[www, dghjdgf, com, paypal, co, uk, cycgi, bin...</td>\n",
       "      <td>www dghjdgf com paypal co uk cycgi bin webscrc...</td>\n",
       "      <td>7</td>\n",
       "      <td>15</td>\n",
       "      <td>2</td>\n",
       "      <td>1</td>\n",
       "      <td>1</td>\n",
       "      <td>77</td>\n",
       "      <td>1</td>\n",
       "      <td>0</td>\n",
       "    </tr>\n",
       "    <tr>\n",
       "      <th>2</th>\n",
       "      <td>serviciosbys.com/paypal.cgi.bin.get-into.herf....</td>\n",
       "      <td>bad</td>\n",
       "      <td>1</td>\n",
       "      <td>177</td>\n",
       "      <td>[serviciosbys, com, paypal, cgi, bin, get, int...</td>\n",
       "      <td>serviciosbys com paypal cgi bin get into herf ...</td>\n",
       "      <td>15</td>\n",
       "      <td>19</td>\n",
       "      <td>25</td>\n",
       "      <td>0</td>\n",
       "      <td>0</td>\n",
       "      <td>0</td>\n",
       "      <td>0</td>\n",
       "      <td>0</td>\n",
       "    </tr>\n",
       "    <tr>\n",
       "      <th>3</th>\n",
       "      <td>mail.printakid.com/www.online.americanexpress....</td>\n",
       "      <td>bad</td>\n",
       "      <td>1</td>\n",
       "      <td>60</td>\n",
       "      <td>[mail, printakid, com, www, online, americanex...</td>\n",
       "      <td>mail printakid com www online americanexpress ...</td>\n",
       "      <td>5</td>\n",
       "      <td>8</td>\n",
       "      <td>0</td>\n",
       "      <td>1</td>\n",
       "      <td>0</td>\n",
       "      <td>37</td>\n",
       "      <td>1</td>\n",
       "      <td>0</td>\n",
       "    </tr>\n",
       "    <tr>\n",
       "      <th>4</th>\n",
       "      <td>thewhiskeydregs.com/wp-content/themes/widescre...</td>\n",
       "      <td>bad</td>\n",
       "      <td>1</td>\n",
       "      <td>116</td>\n",
       "      <td>[thewhiskeydregs, com, wp, content, themes, wi...</td>\n",
       "      <td>thewhiskeydregs com wp content themes widescre...</td>\n",
       "      <td>2</td>\n",
       "      <td>13</td>\n",
       "      <td>3</td>\n",
       "      <td>0</td>\n",
       "      <td>0</td>\n",
       "      <td>0</td>\n",
       "      <td>0</td>\n",
       "      <td>0</td>\n",
       "    </tr>\n",
       "  </tbody>\n",
       "</table>\n",
       "</div>"
      ],
      "text/plain": [
       "                                                 URL Label  phishing  \\\n",
       "0  nobell.it/70ffb52d079109dca5664cce6f317373782/...   bad         1   \n",
       "1  www.dghjdgf.com/paypal.co.uk/cycgi-bin/webscrc...   bad         1   \n",
       "2  serviciosbys.com/paypal.cgi.bin.get-into.herf....   bad         1   \n",
       "3  mail.printakid.com/www.online.americanexpress....   bad         1   \n",
       "4  thewhiskeydregs.com/wp-content/themes/widescre...   bad         1   \n",
       "\n",
       "   url_length                                     text_tokenized  \\\n",
       "0         225  [nobell, it, ffb, d, dca, cce, f, login, SkyPe...   \n",
       "1          81  [www, dghjdgf, com, paypal, co, uk, cycgi, bin...   \n",
       "2         177  [serviciosbys, com, paypal, cgi, bin, get, int...   \n",
       "3          60  [mail, printakid, com, www, online, americanex...   \n",
       "4         116  [thewhiskeydregs, com, wp, content, themes, wi...   \n",
       "\n",
       "                                     text_token_conc  num_english_words  \\\n",
       "0  nobell it ffb d dca cce f login SkyPe com en c...                 16   \n",
       "1  www dghjdgf com paypal co uk cycgi bin webscrc...                  7   \n",
       "2  serviciosbys com paypal cgi bin get into herf ...                 15   \n",
       "3  mail printakid com www online americanexpress ...                  5   \n",
       "4  thewhiskeydregs com wp content themes widescre...                  2   \n",
       "\n",
       "   punct_count  case_change_count  contains_www  startswith_www  \\\n",
       "0           32                 31             0               0   \n",
       "1           15                  2             1               1   \n",
       "2           19                 25             0               0   \n",
       "3            8                  0             1               0   \n",
       "4           13                  3             0               0   \n",
       "\n",
       "   chars_past_www  chars_past_www_above_median  multi_www  \n",
       "0               0                            0          0  \n",
       "1              77                            1          0  \n",
       "2               0                            0          0  \n",
       "3              37                            1          0  \n",
       "4               0                            0          0  "
      ]
     },
     "execution_count": 19,
     "metadata": {},
     "output_type": "execute_result"
    }
   ],
   "source": [
    "df.head()"
   ]
  },
  {
   "cell_type": "code",
   "execution_count": 21,
   "id": "3128d1ba",
   "metadata": {},
   "outputs": [],
   "source": [
    "df = df[['phishing', 'url_length', 'num_english_words','punct_count', 'case_change_count','contains_www', 'startswith_www', 'chars_past_www', 'chars_past_www_above_median', 'multi_www', 'URL', 'text_tokenized', 'text_token_conc', 'Label']]"
   ]
  },
  {
   "cell_type": "code",
   "execution_count": 22,
   "id": "7b076cb1",
   "metadata": {},
   "outputs": [
    {
     "data": {
      "text/html": [
       "<div>\n",
       "<style scoped>\n",
       "    .dataframe tbody tr th:only-of-type {\n",
       "        vertical-align: middle;\n",
       "    }\n",
       "\n",
       "    .dataframe tbody tr th {\n",
       "        vertical-align: top;\n",
       "    }\n",
       "\n",
       "    .dataframe thead th {\n",
       "        text-align: right;\n",
       "    }\n",
       "</style>\n",
       "<table border=\"1\" class=\"dataframe\">\n",
       "  <thead>\n",
       "    <tr style=\"text-align: right;\">\n",
       "      <th></th>\n",
       "      <th>phishing</th>\n",
       "      <th>url_length</th>\n",
       "      <th>num_english_words</th>\n",
       "      <th>punct_count</th>\n",
       "      <th>case_change_count</th>\n",
       "      <th>contains_www</th>\n",
       "      <th>startswith_www</th>\n",
       "      <th>chars_past_www</th>\n",
       "      <th>chars_past_www_above_median</th>\n",
       "      <th>multi_www</th>\n",
       "      <th>URL</th>\n",
       "      <th>text_tokenized</th>\n",
       "      <th>text_token_conc</th>\n",
       "      <th>Label</th>\n",
       "    </tr>\n",
       "  </thead>\n",
       "  <tbody>\n",
       "    <tr>\n",
       "      <th>0</th>\n",
       "      <td>1</td>\n",
       "      <td>225</td>\n",
       "      <td>16</td>\n",
       "      <td>32</td>\n",
       "      <td>31</td>\n",
       "      <td>0</td>\n",
       "      <td>0</td>\n",
       "      <td>0</td>\n",
       "      <td>0</td>\n",
       "      <td>0</td>\n",
       "      <td>nobell.it/70ffb52d079109dca5664cce6f317373782/...</td>\n",
       "      <td>[nobell, it, ffb, d, dca, cce, f, login, SkyPe...</td>\n",
       "      <td>nobell it ffb d dca cce f login SkyPe com en c...</td>\n",
       "      <td>bad</td>\n",
       "    </tr>\n",
       "    <tr>\n",
       "      <th>1</th>\n",
       "      <td>1</td>\n",
       "      <td>81</td>\n",
       "      <td>7</td>\n",
       "      <td>15</td>\n",
       "      <td>2</td>\n",
       "      <td>1</td>\n",
       "      <td>1</td>\n",
       "      <td>77</td>\n",
       "      <td>1</td>\n",
       "      <td>0</td>\n",
       "      <td>www.dghjdgf.com/paypal.co.uk/cycgi-bin/webscrc...</td>\n",
       "      <td>[www, dghjdgf, com, paypal, co, uk, cycgi, bin...</td>\n",
       "      <td>www dghjdgf com paypal co uk cycgi bin webscrc...</td>\n",
       "      <td>bad</td>\n",
       "    </tr>\n",
       "    <tr>\n",
       "      <th>2</th>\n",
       "      <td>1</td>\n",
       "      <td>177</td>\n",
       "      <td>15</td>\n",
       "      <td>19</td>\n",
       "      <td>25</td>\n",
       "      <td>0</td>\n",
       "      <td>0</td>\n",
       "      <td>0</td>\n",
       "      <td>0</td>\n",
       "      <td>0</td>\n",
       "      <td>serviciosbys.com/paypal.cgi.bin.get-into.herf....</td>\n",
       "      <td>[serviciosbys, com, paypal, cgi, bin, get, int...</td>\n",
       "      <td>serviciosbys com paypal cgi bin get into herf ...</td>\n",
       "      <td>bad</td>\n",
       "    </tr>\n",
       "    <tr>\n",
       "      <th>3</th>\n",
       "      <td>1</td>\n",
       "      <td>60</td>\n",
       "      <td>5</td>\n",
       "      <td>8</td>\n",
       "      <td>0</td>\n",
       "      <td>1</td>\n",
       "      <td>0</td>\n",
       "      <td>37</td>\n",
       "      <td>1</td>\n",
       "      <td>0</td>\n",
       "      <td>mail.printakid.com/www.online.americanexpress....</td>\n",
       "      <td>[mail, printakid, com, www, online, americanex...</td>\n",
       "      <td>mail printakid com www online americanexpress ...</td>\n",
       "      <td>bad</td>\n",
       "    </tr>\n",
       "    <tr>\n",
       "      <th>4</th>\n",
       "      <td>1</td>\n",
       "      <td>116</td>\n",
       "      <td>2</td>\n",
       "      <td>13</td>\n",
       "      <td>3</td>\n",
       "      <td>0</td>\n",
       "      <td>0</td>\n",
       "      <td>0</td>\n",
       "      <td>0</td>\n",
       "      <td>0</td>\n",
       "      <td>thewhiskeydregs.com/wp-content/themes/widescre...</td>\n",
       "      <td>[thewhiskeydregs, com, wp, content, themes, wi...</td>\n",
       "      <td>thewhiskeydregs com wp content themes widescre...</td>\n",
       "      <td>bad</td>\n",
       "    </tr>\n",
       "  </tbody>\n",
       "</table>\n",
       "</div>"
      ],
      "text/plain": [
       "   phishing  url_length  num_english_words  punct_count  case_change_count  \\\n",
       "0         1         225                 16           32                 31   \n",
       "1         1          81                  7           15                  2   \n",
       "2         1         177                 15           19                 25   \n",
       "3         1          60                  5            8                  0   \n",
       "4         1         116                  2           13                  3   \n",
       "\n",
       "   contains_www  startswith_www  chars_past_www  chars_past_www_above_median  \\\n",
       "0             0               0               0                            0   \n",
       "1             1               1              77                            1   \n",
       "2             0               0               0                            0   \n",
       "3             1               0              37                            1   \n",
       "4             0               0               0                            0   \n",
       "\n",
       "   multi_www                                                URL  \\\n",
       "0          0  nobell.it/70ffb52d079109dca5664cce6f317373782/...   \n",
       "1          0  www.dghjdgf.com/paypal.co.uk/cycgi-bin/webscrc...   \n",
       "2          0  serviciosbys.com/paypal.cgi.bin.get-into.herf....   \n",
       "3          0  mail.printakid.com/www.online.americanexpress....   \n",
       "4          0  thewhiskeydregs.com/wp-content/themes/widescre...   \n",
       "\n",
       "                                      text_tokenized  \\\n",
       "0  [nobell, it, ffb, d, dca, cce, f, login, SkyPe...   \n",
       "1  [www, dghjdgf, com, paypal, co, uk, cycgi, bin...   \n",
       "2  [serviciosbys, com, paypal, cgi, bin, get, int...   \n",
       "3  [mail, printakid, com, www, online, americanex...   \n",
       "4  [thewhiskeydregs, com, wp, content, themes, wi...   \n",
       "\n",
       "                                     text_token_conc Label  \n",
       "0  nobell it ffb d dca cce f login SkyPe com en c...   bad  \n",
       "1  www dghjdgf com paypal co uk cycgi bin webscrc...   bad  \n",
       "2  serviciosbys com paypal cgi bin get into herf ...   bad  \n",
       "3  mail printakid com www online americanexpress ...   bad  \n",
       "4  thewhiskeydregs com wp content themes widescre...   bad  "
      ]
     },
     "execution_count": 22,
     "metadata": {},
     "output_type": "execute_result"
    }
   ],
   "source": [
    "df.head()"
   ]
  },
  {
   "cell_type": "code",
   "execution_count": 23,
   "id": "430bf1af",
   "metadata": {},
   "outputs": [],
   "source": [
    "df.to_pickle('phishing_df.pkl')"
   ]
  },
  {
   "cell_type": "markdown",
   "id": "d2e0ccda",
   "metadata": {},
   "source": [
    "## Modeling\n",
    "### Loading the pickle file."
   ]
  },
  {
   "cell_type": "code",
   "execution_count": 6,
   "id": "2c91f348",
   "metadata": {},
   "outputs": [],
   "source": [
    "from sklearn.model_selection import train_test_split"
   ]
  },
  {
   "cell_type": "code",
   "execution_count": 7,
   "id": "400bc88d",
   "metadata": {},
   "outputs": [
    {
     "data": {
      "text/html": [
       "<div>\n",
       "<style scoped>\n",
       "    .dataframe tbody tr th:only-of-type {\n",
       "        vertical-align: middle;\n",
       "    }\n",
       "\n",
       "    .dataframe tbody tr th {\n",
       "        vertical-align: top;\n",
       "    }\n",
       "\n",
       "    .dataframe thead th {\n",
       "        text-align: right;\n",
       "    }\n",
       "</style>\n",
       "<table border=\"1\" class=\"dataframe\">\n",
       "  <thead>\n",
       "    <tr style=\"text-align: right;\">\n",
       "      <th></th>\n",
       "      <th>phishing</th>\n",
       "      <th>url_length</th>\n",
       "      <th>num_english_words</th>\n",
       "      <th>punct_count</th>\n",
       "      <th>case_change_count</th>\n",
       "      <th>contains_www</th>\n",
       "      <th>startswith_www</th>\n",
       "      <th>chars_past_www</th>\n",
       "      <th>chars_past_www_above_median</th>\n",
       "      <th>multi_www</th>\n",
       "      <th>URL</th>\n",
       "      <th>text_tokenized</th>\n",
       "      <th>text_token_conc</th>\n",
       "      <th>Label</th>\n",
       "    </tr>\n",
       "  </thead>\n",
       "  <tbody>\n",
       "    <tr>\n",
       "      <th>0</th>\n",
       "      <td>1</td>\n",
       "      <td>225</td>\n",
       "      <td>16</td>\n",
       "      <td>32</td>\n",
       "      <td>31</td>\n",
       "      <td>0</td>\n",
       "      <td>0</td>\n",
       "      <td>0</td>\n",
       "      <td>0</td>\n",
       "      <td>0</td>\n",
       "      <td>nobell.it/70ffb52d079109dca5664cce6f317373782/...</td>\n",
       "      <td>[nobell, it, ffb, d, dca, cce, f, login, SkyPe...</td>\n",
       "      <td>nobell it ffb d dca cce f login SkyPe com en c...</td>\n",
       "      <td>bad</td>\n",
       "    </tr>\n",
       "    <tr>\n",
       "      <th>1</th>\n",
       "      <td>1</td>\n",
       "      <td>81</td>\n",
       "      <td>7</td>\n",
       "      <td>15</td>\n",
       "      <td>2</td>\n",
       "      <td>1</td>\n",
       "      <td>1</td>\n",
       "      <td>77</td>\n",
       "      <td>1</td>\n",
       "      <td>0</td>\n",
       "      <td>www.dghjdgf.com/paypal.co.uk/cycgi-bin/webscrc...</td>\n",
       "      <td>[www, dghjdgf, com, paypal, co, uk, cycgi, bin...</td>\n",
       "      <td>www dghjdgf com paypal co uk cycgi bin webscrc...</td>\n",
       "      <td>bad</td>\n",
       "    </tr>\n",
       "    <tr>\n",
       "      <th>2</th>\n",
       "      <td>1</td>\n",
       "      <td>177</td>\n",
       "      <td>15</td>\n",
       "      <td>19</td>\n",
       "      <td>25</td>\n",
       "      <td>0</td>\n",
       "      <td>0</td>\n",
       "      <td>0</td>\n",
       "      <td>0</td>\n",
       "      <td>0</td>\n",
       "      <td>serviciosbys.com/paypal.cgi.bin.get-into.herf....</td>\n",
       "      <td>[serviciosbys, com, paypal, cgi, bin, get, int...</td>\n",
       "      <td>serviciosbys com paypal cgi bin get into herf ...</td>\n",
       "      <td>bad</td>\n",
       "    </tr>\n",
       "    <tr>\n",
       "      <th>3</th>\n",
       "      <td>1</td>\n",
       "      <td>60</td>\n",
       "      <td>5</td>\n",
       "      <td>8</td>\n",
       "      <td>0</td>\n",
       "      <td>1</td>\n",
       "      <td>0</td>\n",
       "      <td>37</td>\n",
       "      <td>1</td>\n",
       "      <td>0</td>\n",
       "      <td>mail.printakid.com/www.online.americanexpress....</td>\n",
       "      <td>[mail, printakid, com, www, online, americanex...</td>\n",
       "      <td>mail printakid com www online americanexpress ...</td>\n",
       "      <td>bad</td>\n",
       "    </tr>\n",
       "    <tr>\n",
       "      <th>4</th>\n",
       "      <td>1</td>\n",
       "      <td>116</td>\n",
       "      <td>2</td>\n",
       "      <td>13</td>\n",
       "      <td>3</td>\n",
       "      <td>0</td>\n",
       "      <td>0</td>\n",
       "      <td>0</td>\n",
       "      <td>0</td>\n",
       "      <td>0</td>\n",
       "      <td>thewhiskeydregs.com/wp-content/themes/widescre...</td>\n",
       "      <td>[thewhiskeydregs, com, wp, content, themes, wi...</td>\n",
       "      <td>thewhiskeydregs com wp content themes widescre...</td>\n",
       "      <td>bad</td>\n",
       "    </tr>\n",
       "  </tbody>\n",
       "</table>\n",
       "</div>"
      ],
      "text/plain": [
       "   phishing  url_length  num_english_words  punct_count  case_change_count  \\\n",
       "0         1         225                 16           32                 31   \n",
       "1         1          81                  7           15                  2   \n",
       "2         1         177                 15           19                 25   \n",
       "3         1          60                  5            8                  0   \n",
       "4         1         116                  2           13                  3   \n",
       "\n",
       "   contains_www  startswith_www  chars_past_www  chars_past_www_above_median  \\\n",
       "0             0               0               0                            0   \n",
       "1             1               1              77                            1   \n",
       "2             0               0               0                            0   \n",
       "3             1               0              37                            1   \n",
       "4             0               0               0                            0   \n",
       "\n",
       "   multi_www                                                URL  \\\n",
       "0          0  nobell.it/70ffb52d079109dca5664cce6f317373782/...   \n",
       "1          0  www.dghjdgf.com/paypal.co.uk/cycgi-bin/webscrc...   \n",
       "2          0  serviciosbys.com/paypal.cgi.bin.get-into.herf....   \n",
       "3          0  mail.printakid.com/www.online.americanexpress....   \n",
       "4          0  thewhiskeydregs.com/wp-content/themes/widescre...   \n",
       "\n",
       "                                      text_tokenized  \\\n",
       "0  [nobell, it, ffb, d, dca, cce, f, login, SkyPe...   \n",
       "1  [www, dghjdgf, com, paypal, co, uk, cycgi, bin...   \n",
       "2  [serviciosbys, com, paypal, cgi, bin, get, int...   \n",
       "3  [mail, printakid, com, www, online, americanex...   \n",
       "4  [thewhiskeydregs, com, wp, content, themes, wi...   \n",
       "\n",
       "                                     text_token_conc Label  \n",
       "0  nobell it ffb d dca cce f login SkyPe com en c...   bad  \n",
       "1  www dghjdgf com paypal co uk cycgi bin webscrc...   bad  \n",
       "2  serviciosbys com paypal cgi bin get into herf ...   bad  \n",
       "3  mail printakid com www online americanexpress ...   bad  \n",
       "4  thewhiskeydregs com wp content themes widescre...   bad  "
      ]
     },
     "execution_count": 7,
     "metadata": {},
     "output_type": "execute_result"
    }
   ],
   "source": [
    "df = pd.read_pickle('phishing_df.pkl')\n",
    "\n",
    "df.head()"
   ]
  },
  {
   "cell_type": "markdown",
   "id": "6fc9b0ed",
   "metadata": {},
   "source": [
    " - (below) one last check for missing or NA values."
   ]
  },
  {
   "cell_type": "code",
   "execution_count": 8,
   "id": "cff7f6f7",
   "metadata": {},
   "outputs": [
    {
     "data": {
      "text/plain": [
       "phishing                       0\n",
       "url_length                     0\n",
       "num_english_words              0\n",
       "punct_count                    0\n",
       "case_change_count              0\n",
       "contains_www                   0\n",
       "startswith_www                 0\n",
       "chars_past_www                 0\n",
       "chars_past_www_above_median    0\n",
       "multi_www                      0\n",
       "URL                            0\n",
       "text_tokenized                 0\n",
       "text_token_conc                0\n",
       "Label                          0\n",
       "dtype: int64"
      ]
     },
     "execution_count": 8,
     "metadata": {},
     "output_type": "execute_result"
    }
   ],
   "source": [
    "null_counts = df.isnull().sum()\n",
    "\n",
    "null_counts"
   ]
  },
  {
   "cell_type": "code",
   "execution_count": 9,
   "id": "ae54f418",
   "metadata": {},
   "outputs": [
    {
     "data": {
      "text/plain": [
       "phishing                       0\n",
       "url_length                     0\n",
       "num_english_words              0\n",
       "punct_count                    0\n",
       "case_change_count              0\n",
       "contains_www                   0\n",
       "startswith_www                 0\n",
       "chars_past_www                 0\n",
       "chars_past_www_above_median    0\n",
       "multi_www                      0\n",
       "URL                            0\n",
       "text_tokenized                 0\n",
       "text_token_conc                0\n",
       "Label                          0\n",
       "dtype: int64"
      ]
     },
     "execution_count": 9,
     "metadata": {},
     "output_type": "execute_result"
    }
   ],
   "source": [
    "na_counts = df.isna().sum()\n",
    "\n",
    "na_counts"
   ]
  },
  {
   "cell_type": "markdown",
   "id": "0c6c2040",
   "metadata": {},
   "source": [
    "- (below) let's remove the text/tokenized columns to prepare for modeling."
   ]
  },
  {
   "cell_type": "code",
   "execution_count": 10,
   "id": "f2f2329e",
   "metadata": {},
   "outputs": [
    {
     "data": {
      "text/plain": [
       "Index(['phishing', 'url_length', 'num_english_words', 'punct_count',\n",
       "       'case_change_count', 'contains_www', 'startswith_www', 'chars_past_www',\n",
       "       'chars_past_www_above_median', 'multi_www', 'URL', 'text_tokenized',\n",
       "       'text_token_conc', 'Label'],\n",
       "      dtype='object')"
      ]
     },
     "execution_count": 10,
     "metadata": {},
     "output_type": "execute_result"
    }
   ],
   "source": [
    "df.columns"
   ]
  },
  {
   "cell_type": "code",
   "execution_count": 11,
   "id": "be01482a",
   "metadata": {
    "scrolled": true
   },
   "outputs": [
    {
     "data": {
      "text/html": [
       "<div>\n",
       "<style scoped>\n",
       "    .dataframe tbody tr th:only-of-type {\n",
       "        vertical-align: middle;\n",
       "    }\n",
       "\n",
       "    .dataframe tbody tr th {\n",
       "        vertical-align: top;\n",
       "    }\n",
       "\n",
       "    .dataframe thead th {\n",
       "        text-align: right;\n",
       "    }\n",
       "</style>\n",
       "<table border=\"1\" class=\"dataframe\">\n",
       "  <thead>\n",
       "    <tr style=\"text-align: right;\">\n",
       "      <th></th>\n",
       "      <th>phishing</th>\n",
       "      <th>url_length</th>\n",
       "      <th>num_english_words</th>\n",
       "      <th>punct_count</th>\n",
       "      <th>case_change_count</th>\n",
       "      <th>contains_www</th>\n",
       "      <th>startswith_www</th>\n",
       "      <th>chars_past_www</th>\n",
       "      <th>chars_past_www_above_median</th>\n",
       "      <th>multi_www</th>\n",
       "    </tr>\n",
       "  </thead>\n",
       "  <tbody>\n",
       "    <tr>\n",
       "      <th>0</th>\n",
       "      <td>1</td>\n",
       "      <td>225</td>\n",
       "      <td>16</td>\n",
       "      <td>32</td>\n",
       "      <td>31</td>\n",
       "      <td>0</td>\n",
       "      <td>0</td>\n",
       "      <td>0</td>\n",
       "      <td>0</td>\n",
       "      <td>0</td>\n",
       "    </tr>\n",
       "    <tr>\n",
       "      <th>1</th>\n",
       "      <td>1</td>\n",
       "      <td>81</td>\n",
       "      <td>7</td>\n",
       "      <td>15</td>\n",
       "      <td>2</td>\n",
       "      <td>1</td>\n",
       "      <td>1</td>\n",
       "      <td>77</td>\n",
       "      <td>1</td>\n",
       "      <td>0</td>\n",
       "    </tr>\n",
       "    <tr>\n",
       "      <th>2</th>\n",
       "      <td>1</td>\n",
       "      <td>177</td>\n",
       "      <td>15</td>\n",
       "      <td>19</td>\n",
       "      <td>25</td>\n",
       "      <td>0</td>\n",
       "      <td>0</td>\n",
       "      <td>0</td>\n",
       "      <td>0</td>\n",
       "      <td>0</td>\n",
       "    </tr>\n",
       "    <tr>\n",
       "      <th>3</th>\n",
       "      <td>1</td>\n",
       "      <td>60</td>\n",
       "      <td>5</td>\n",
       "      <td>8</td>\n",
       "      <td>0</td>\n",
       "      <td>1</td>\n",
       "      <td>0</td>\n",
       "      <td>37</td>\n",
       "      <td>1</td>\n",
       "      <td>0</td>\n",
       "    </tr>\n",
       "    <tr>\n",
       "      <th>4</th>\n",
       "      <td>1</td>\n",
       "      <td>116</td>\n",
       "      <td>2</td>\n",
       "      <td>13</td>\n",
       "      <td>3</td>\n",
       "      <td>0</td>\n",
       "      <td>0</td>\n",
       "      <td>0</td>\n",
       "      <td>0</td>\n",
       "      <td>0</td>\n",
       "    </tr>\n",
       "  </tbody>\n",
       "</table>\n",
       "</div>"
      ],
      "text/plain": [
       "   phishing  url_length  num_english_words  punct_count  case_change_count  \\\n",
       "0         1         225                 16           32                 31   \n",
       "1         1          81                  7           15                  2   \n",
       "2         1         177                 15           19                 25   \n",
       "3         1          60                  5            8                  0   \n",
       "4         1         116                  2           13                  3   \n",
       "\n",
       "   contains_www  startswith_www  chars_past_www  chars_past_www_above_median  \\\n",
       "0             0               0               0                            0   \n",
       "1             1               1              77                            1   \n",
       "2             0               0               0                            0   \n",
       "3             1               0              37                            1   \n",
       "4             0               0               0                            0   \n",
       "\n",
       "   multi_www  \n",
       "0          0  \n",
       "1          0  \n",
       "2          0  \n",
       "3          0  \n",
       "4          0  "
      ]
     },
     "execution_count": 11,
     "metadata": {},
     "output_type": "execute_result"
    }
   ],
   "source": [
    "df_clean = df[['phishing', 'url_length', 'num_english_words','punct_count', 'case_change_count','contains_www', 'startswith_www', 'chars_past_www', 'chars_past_www_above_median', 'multi_www']]\n",
    "df_clean.head()"
   ]
  },
  {
   "cell_type": "code",
   "execution_count": 12,
   "id": "1cefbd59",
   "metadata": {
    "scrolled": true
   },
   "outputs": [
    {
     "data": {
      "text/plain": [
       "phishing                       int32\n",
       "url_length                     int64\n",
       "num_english_words              int64\n",
       "punct_count                    int64\n",
       "case_change_count              int64\n",
       "contains_www                   int64\n",
       "startswith_www                 int64\n",
       "chars_past_www                 int32\n",
       "chars_past_www_above_median    int32\n",
       "multi_www                      int32\n",
       "dtype: object"
      ]
     },
     "execution_count": 12,
     "metadata": {},
     "output_type": "execute_result"
    }
   ],
   "source": [
    "df_clean.dtypes"
   ]
  },
  {
   "cell_type": "markdown",
   "id": "59e5cd98",
   "metadata": {},
   "source": [
    "### Train \\ Val \\ Test Split\n",
    "- (below) train \\ val \\ test split.\n",
    "- (below) remember, don't look at test until the very end!"
   ]
  },
  {
   "cell_type": "code",
   "execution_count": 13,
   "id": "094a2b21",
   "metadata": {},
   "outputs": [],
   "source": [
    "df_full_train, df_test = train_test_split(df_clean, test_size=0.20, random_state=2023)\n",
    "\n",
    "df_train, df_val = train_test_split(df_full_train, test_size=0.25, random_state=2023)"
   ]
  },
  {
   "cell_type": "code",
   "execution_count": 42,
   "id": "177101e3",
   "metadata": {},
   "outputs": [
    {
     "data": {
      "text/plain": [
       "(329356, 109786, 109786)"
      ]
     },
     "execution_count": 42,
     "metadata": {},
     "output_type": "execute_result"
    }
   ],
   "source": [
    "len(df_train), len(df_val), len(df_test)"
   ]
  },
  {
   "cell_type": "code",
   "execution_count": 14,
   "id": "c365a8b7",
   "metadata": {},
   "outputs": [
    {
     "data": {
      "text/plain": [
       "(0.5999985426139676, 0.20000072869301622, 0.20000072869301622)"
      ]
     },
     "execution_count": 14,
     "metadata": {},
     "output_type": "execute_result"
    }
   ],
   "source": [
    "len(df_train)/len(df), len(df_val)/len(df), len(df_test)/len(df)"
   ]
  },
  {
   "cell_type": "markdown",
   "id": "4f12a5e1",
   "metadata": {},
   "source": [
    "- (below) optional, but reset the indices."
   ]
  },
  {
   "cell_type": "code",
   "execution_count": 15,
   "id": "04586529",
   "metadata": {},
   "outputs": [],
   "source": [
    "df_train = df_train.reset_index(drop=True)\n",
    "df_val = df_val.reset_index(drop=True)\n",
    "df_test = df_test.reset_index(drop=True)"
   ]
  },
  {
   "cell_type": "markdown",
   "id": "4a591b0d",
   "metadata": {},
   "source": [
    "- (below) create response vectors. We use the .values method to get a numpy array which most modeling functions require."
   ]
  },
  {
   "cell_type": "code",
   "execution_count": 16,
   "id": "a22853c3",
   "metadata": {},
   "outputs": [
    {
     "data": {
      "text/plain": [
       "(pandas.core.series.Series, numpy.ndarray)"
      ]
     },
     "execution_count": 16,
     "metadata": {},
     "output_type": "execute_result"
    }
   ],
   "source": [
    "type(df_train.phishing), type(df_train.phishing.values)"
   ]
  },
  {
   "cell_type": "code",
   "execution_count": 17,
   "id": "ac6ed573",
   "metadata": {},
   "outputs": [],
   "source": [
    "y_train = df_train.phishing.values\n",
    "y_val = df_val.phishing.values\n",
    "y_test = df_test.phishing.values"
   ]
  },
  {
   "cell_type": "markdown",
   "id": "0b909e7c",
   "metadata": {},
   "source": [
    "- (below) let's delete the response vector from these datasets so we don't accidently feed it into a model\n",
    "- (below) we'll leave the phising variable in df_full_train in case we do some EDA."
   ]
  },
  {
   "cell_type": "code",
   "execution_count": 18,
   "id": "88ddedad",
   "metadata": {},
   "outputs": [],
   "source": [
    "del df_train['phishing']\n",
    "del df_val['phishing']\n",
    "del df_test['phishing']"
   ]
  },
  {
   "cell_type": "markdown",
   "id": "f56e75bf",
   "metadata": {},
   "source": [
    "### Logistic Regression"
   ]
  },
  {
   "cell_type": "code",
   "execution_count": 19,
   "id": "c8dea303",
   "metadata": {},
   "outputs": [],
   "source": [
    "from sklearn.linear_model import LogisticRegression"
   ]
  },
  {
   "cell_type": "markdown",
   "id": "80aa689f",
   "metadata": {},
   "source": [
    "- (below) initial training of logistic regression model"
   ]
  },
  {
   "cell_type": "code",
   "execution_count": 20,
   "id": "c52379ab",
   "metadata": {},
   "outputs": [
    {
     "data": {
      "text/html": [
       "<div>\n",
       "<style scoped>\n",
       "    .dataframe tbody tr th:only-of-type {\n",
       "        vertical-align: middle;\n",
       "    }\n",
       "\n",
       "    .dataframe tbody tr th {\n",
       "        vertical-align: top;\n",
       "    }\n",
       "\n",
       "    .dataframe thead th {\n",
       "        text-align: right;\n",
       "    }\n",
       "</style>\n",
       "<table border=\"1\" class=\"dataframe\">\n",
       "  <thead>\n",
       "    <tr style=\"text-align: right;\">\n",
       "      <th></th>\n",
       "      <th>url_length</th>\n",
       "      <th>num_english_words</th>\n",
       "      <th>punct_count</th>\n",
       "      <th>case_change_count</th>\n",
       "      <th>contains_www</th>\n",
       "      <th>startswith_www</th>\n",
       "      <th>chars_past_www</th>\n",
       "      <th>chars_past_www_above_median</th>\n",
       "      <th>multi_www</th>\n",
       "    </tr>\n",
       "  </thead>\n",
       "  <tbody>\n",
       "    <tr>\n",
       "      <th>0</th>\n",
       "      <td>49</td>\n",
       "      <td>5</td>\n",
       "      <td>10</td>\n",
       "      <td>2</td>\n",
       "      <td>0</td>\n",
       "      <td>0</td>\n",
       "      <td>0</td>\n",
       "      <td>0</td>\n",
       "      <td>0</td>\n",
       "    </tr>\n",
       "    <tr>\n",
       "      <th>1</th>\n",
       "      <td>46</td>\n",
       "      <td>7</td>\n",
       "      <td>9</td>\n",
       "      <td>8</td>\n",
       "      <td>0</td>\n",
       "      <td>0</td>\n",
       "      <td>0</td>\n",
       "      <td>0</td>\n",
       "      <td>0</td>\n",
       "    </tr>\n",
       "    <tr>\n",
       "      <th>2</th>\n",
       "      <td>63</td>\n",
       "      <td>6</td>\n",
       "      <td>11</td>\n",
       "      <td>0</td>\n",
       "      <td>1</td>\n",
       "      <td>1</td>\n",
       "      <td>59</td>\n",
       "      <td>1</td>\n",
       "      <td>0</td>\n",
       "    </tr>\n",
       "    <tr>\n",
       "      <th>3</th>\n",
       "      <td>37</td>\n",
       "      <td>6</td>\n",
       "      <td>1</td>\n",
       "      <td>16</td>\n",
       "      <td>0</td>\n",
       "      <td>0</td>\n",
       "      <td>0</td>\n",
       "      <td>0</td>\n",
       "      <td>0</td>\n",
       "    </tr>\n",
       "    <tr>\n",
       "      <th>4</th>\n",
       "      <td>97</td>\n",
       "      <td>6</td>\n",
       "      <td>16</td>\n",
       "      <td>6</td>\n",
       "      <td>0</td>\n",
       "      <td>0</td>\n",
       "      <td>0</td>\n",
       "      <td>0</td>\n",
       "      <td>0</td>\n",
       "    </tr>\n",
       "  </tbody>\n",
       "</table>\n",
       "</div>"
      ],
      "text/plain": [
       "   url_length  num_english_words  punct_count  case_change_count  \\\n",
       "0          49                  5           10                  2   \n",
       "1          46                  7            9                  8   \n",
       "2          63                  6           11                  0   \n",
       "3          37                  6            1                 16   \n",
       "4          97                  6           16                  6   \n",
       "\n",
       "   contains_www  startswith_www  chars_past_www  chars_past_www_above_median  \\\n",
       "0             0               0               0                            0   \n",
       "1             0               0               0                            0   \n",
       "2             1               1              59                            1   \n",
       "3             0               0               0                            0   \n",
       "4             0               0               0                            0   \n",
       "\n",
       "   multi_www  \n",
       "0          0  \n",
       "1          0  \n",
       "2          0  \n",
       "3          0  \n",
       "4          0  "
      ]
     },
     "execution_count": 20,
     "metadata": {},
     "output_type": "execute_result"
    }
   ],
   "source": [
    "df_train.head()"
   ]
  },
  {
   "cell_type": "code",
   "execution_count": 22,
   "id": "d3bf7949",
   "metadata": {},
   "outputs": [
    {
     "data": {
      "text/html": [
       "<style>#sk-container-id-2 {color: black;background-color: white;}#sk-container-id-2 pre{padding: 0;}#sk-container-id-2 div.sk-toggleable {background-color: white;}#sk-container-id-2 label.sk-toggleable__label {cursor: pointer;display: block;width: 100%;margin-bottom: 0;padding: 0.3em;box-sizing: border-box;text-align: center;}#sk-container-id-2 label.sk-toggleable__label-arrow:before {content: \"▸\";float: left;margin-right: 0.25em;color: #696969;}#sk-container-id-2 label.sk-toggleable__label-arrow:hover:before {color: black;}#sk-container-id-2 div.sk-estimator:hover label.sk-toggleable__label-arrow:before {color: black;}#sk-container-id-2 div.sk-toggleable__content {max-height: 0;max-width: 0;overflow: hidden;text-align: left;background-color: #f0f8ff;}#sk-container-id-2 div.sk-toggleable__content pre {margin: 0.2em;color: black;border-radius: 0.25em;background-color: #f0f8ff;}#sk-container-id-2 input.sk-toggleable__control:checked~div.sk-toggleable__content {max-height: 200px;max-width: 100%;overflow: auto;}#sk-container-id-2 input.sk-toggleable__control:checked~label.sk-toggleable__label-arrow:before {content: \"▾\";}#sk-container-id-2 div.sk-estimator input.sk-toggleable__control:checked~label.sk-toggleable__label {background-color: #d4ebff;}#sk-container-id-2 div.sk-label input.sk-toggleable__control:checked~label.sk-toggleable__label {background-color: #d4ebff;}#sk-container-id-2 input.sk-hidden--visually {border: 0;clip: rect(1px 1px 1px 1px);clip: rect(1px, 1px, 1px, 1px);height: 1px;margin: -1px;overflow: hidden;padding: 0;position: absolute;width: 1px;}#sk-container-id-2 div.sk-estimator {font-family: monospace;background-color: #f0f8ff;border: 1px dotted black;border-radius: 0.25em;box-sizing: border-box;margin-bottom: 0.5em;}#sk-container-id-2 div.sk-estimator:hover {background-color: #d4ebff;}#sk-container-id-2 div.sk-parallel-item::after {content: \"\";width: 100%;border-bottom: 1px solid gray;flex-grow: 1;}#sk-container-id-2 div.sk-label:hover label.sk-toggleable__label {background-color: #d4ebff;}#sk-container-id-2 div.sk-serial::before {content: \"\";position: absolute;border-left: 1px solid gray;box-sizing: border-box;top: 0;bottom: 0;left: 50%;z-index: 0;}#sk-container-id-2 div.sk-serial {display: flex;flex-direction: column;align-items: center;background-color: white;padding-right: 0.2em;padding-left: 0.2em;position: relative;}#sk-container-id-2 div.sk-item {position: relative;z-index: 1;}#sk-container-id-2 div.sk-parallel {display: flex;align-items: stretch;justify-content: center;background-color: white;position: relative;}#sk-container-id-2 div.sk-item::before, #sk-container-id-2 div.sk-parallel-item::before {content: \"\";position: absolute;border-left: 1px solid gray;box-sizing: border-box;top: 0;bottom: 0;left: 50%;z-index: -1;}#sk-container-id-2 div.sk-parallel-item {display: flex;flex-direction: column;z-index: 1;position: relative;background-color: white;}#sk-container-id-2 div.sk-parallel-item:first-child::after {align-self: flex-end;width: 50%;}#sk-container-id-2 div.sk-parallel-item:last-child::after {align-self: flex-start;width: 50%;}#sk-container-id-2 div.sk-parallel-item:only-child::after {width: 0;}#sk-container-id-2 div.sk-dashed-wrapped {border: 1px dashed gray;margin: 0 0.4em 0.5em 0.4em;box-sizing: border-box;padding-bottom: 0.4em;background-color: white;}#sk-container-id-2 div.sk-label label {font-family: monospace;font-weight: bold;display: inline-block;line-height: 1.2em;}#sk-container-id-2 div.sk-label-container {text-align: center;}#sk-container-id-2 div.sk-container {/* jupyter's `normalize.less` sets `[hidden] { display: none; }` but bootstrap.min.css set `[hidden] { display: none !important; }` so we also need the `!important` here to be able to override the default hidden behavior on the sphinx rendered scikit-learn.org. See: https://github.com/scikit-learn/scikit-learn/issues/21755 */display: inline-block !important;position: relative;}#sk-container-id-2 div.sk-text-repr-fallback {display: none;}</style><div id=\"sk-container-id-2\" class=\"sk-top-container\"><div class=\"sk-text-repr-fallback\"><pre>LogisticRegression(max_iter=1000)</pre><b>In a Jupyter environment, please rerun this cell to show the HTML representation or trust the notebook. <br />On GitHub, the HTML representation is unable to render, please try loading this page with nbviewer.org.</b></div><div class=\"sk-container\" hidden><div class=\"sk-item\"><div class=\"sk-estimator sk-toggleable\"><input class=\"sk-toggleable__control sk-hidden--visually\" id=\"sk-estimator-id-2\" type=\"checkbox\" checked><label for=\"sk-estimator-id-2\" class=\"sk-toggleable__label sk-toggleable__label-arrow\">LogisticRegression</label><div class=\"sk-toggleable__content\"><pre>LogisticRegression(max_iter=1000)</pre></div></div></div></div></div>"
      ],
      "text/plain": [
       "LogisticRegression(max_iter=1000)"
      ]
     },
     "execution_count": 22,
     "metadata": {},
     "output_type": "execute_result"
    }
   ],
   "source": [
    "X_train = df_train.values\n",
    "\n",
    "model = LogisticRegression(max_iter = 1000)\n",
    "model.fit(X_train, y_train)"
   ]
  },
  {
   "cell_type": "markdown",
   "id": "9e56b263",
   "metadata": {},
   "source": [
    "- (below) bias term."
   ]
  },
  {
   "cell_type": "code",
   "execution_count": 23,
   "id": "9ea2885a",
   "metadata": {},
   "outputs": [
    {
     "data": {
      "text/plain": [
       "-0.9288565111474612"
      ]
     },
     "execution_count": 23,
     "metadata": {},
     "output_type": "execute_result"
    }
   ],
   "source": [
    "w0 = model.intercept_[0] # its a 2d array, we only need 1 row tho.\n",
    "w0"
   ]
  },
  {
   "cell_type": "code",
   "execution_count": 24,
   "id": "f73a25bb",
   "metadata": {},
   "outputs": [
    {
     "name": "stdout",
     "output_type": "stream",
     "text": [
      "bias: 0.2831567611789344\n"
     ]
    }
   ],
   "source": [
    "def sigmoid(z):\n",
    "    return 1 / (1 + np.exp(-z))\n",
    "\n",
    "bias = sigmoid(w0)\n",
    "\n",
    "print(\"bias: {}\" .format(bias))"
   ]
  },
  {
   "cell_type": "markdown",
   "id": "889bed84",
   "metadata": {},
   "source": [
    "- (above) without knowing anything about a URL, the probability it is a phishing site is thought to be 28.3%."
   ]
  },
  {
   "cell_type": "markdown",
   "id": "68cd2058",
   "metadata": {},
   "source": [
    "- (below) coefficients."
   ]
  },
  {
   "cell_type": "code",
   "execution_count": 25,
   "id": "3b2ebb37",
   "metadata": {},
   "outputs": [
    {
     "data": {
      "text/plain": [
       "array([-0.009,  0.147, -0.058,  0.072,  1.362, -2.705,  0.046, -0.275,\n",
       "        3.482])"
      ]
     },
     "execution_count": 25,
     "metadata": {},
     "output_type": "execute_result"
    }
   ],
   "source": [
    "model.coef_[0].round(3) # same"
   ]
  },
  {
   "cell_type": "code",
   "execution_count": 26,
   "id": "9a809d19",
   "metadata": {},
   "outputs": [
    {
     "data": {
      "text/plain": [
       "{'url_length': -0.009,\n",
       " 'num_english_words': 0.147,\n",
       " 'punct_count': -0.058,\n",
       " 'case_change_count': 0.072,\n",
       " 'contains_www': 1.362,\n",
       " 'startswith_www': -2.705,\n",
       " 'chars_past_www': 0.046,\n",
       " 'chars_past_www_above_median': -0.275,\n",
       " 'multi_www': 3.482}"
      ]
     },
     "execution_count": 26,
     "metadata": {},
     "output_type": "execute_result"
    }
   ],
   "source": [
    "coefs = dict(zip(df_train.columns, model.coef_[0].round(3)))\n",
    "coefs"
   ]
  },
  {
   "cell_type": "markdown",
   "id": "cf9c83a7",
   "metadata": {},
   "source": [
    "#### Predicting the validation set."
   ]
  },
  {
   "cell_type": "code",
   "execution_count": 67,
   "id": "84057143",
   "metadata": {},
   "outputs": [],
   "source": [
    "from collections import Counter\n",
    "from sklearn.metrics import accuracy_score\n",
    "from sklearn.metrics import roc_curve\n",
    "from sklearn.metrics import auc\n",
    "from sklearn.metrics import roc_auc_score\n",
    "from sklearn.model_selection import KFold\n",
    "from tqdm.auto import tqdm"
   ]
  },
  {
   "cell_type": "markdown",
   "id": "3ab0d208",
   "metadata": {},
   "source": [
    "- (below) hard predictions (0, 1)"
   ]
  },
  {
   "cell_type": "code",
   "execution_count": 30,
   "id": "6b7b89e6",
   "metadata": {},
   "outputs": [
    {
     "data": {
      "text/plain": [
       "array([0, 0, 0, ..., 0, 0, 0])"
      ]
     },
     "execution_count": 30,
     "metadata": {},
     "output_type": "execute_result"
    }
   ],
   "source": [
    "X_val = df_val.values\n",
    "model.predict(X_val)"
   ]
  },
  {
   "cell_type": "markdown",
   "id": "0f21a0ea",
   "metadata": {},
   "source": [
    "- (below) soft predictions (probabilities)\n",
    "- (below) column 1 is the probability of no phishing, column 2 is the probability of phishing."
   ]
  },
  {
   "cell_type": "code",
   "execution_count": 31,
   "id": "fad91ae2",
   "metadata": {},
   "outputs": [
    {
     "data": {
      "text/plain": [
       "array([[0.82433995, 0.17566005],\n",
       "       [0.76437738, 0.23562262],\n",
       "       [0.73484322, 0.26515678],\n",
       "       ...,\n",
       "       [0.75495842, 0.24504158],\n",
       "       [0.76507225, 0.23492775],\n",
       "       [0.79798972, 0.20201028]])"
      ]
     },
     "execution_count": 31,
     "metadata": {},
     "output_type": "execute_result"
    }
   ],
   "source": [
    "model.predict_proba(X_val)"
   ]
  },
  {
   "cell_type": "code",
   "execution_count": 32,
   "id": "2ca316b7",
   "metadata": {},
   "outputs": [
    {
     "data": {
      "text/plain": [
       "array([0.17566005, 0.23562262, 0.26515678, ..., 0.24504158, 0.23492775,\n",
       "       0.20201028])"
      ]
     },
     "execution_count": 32,
     "metadata": {},
     "output_type": "execute_result"
    }
   ],
   "source": [
    "y_val_pred = model.predict_proba(X_val)[:, 1]\n",
    "y_val_pred"
   ]
  },
  {
   "cell_type": "markdown",
   "id": "7742f524",
   "metadata": {},
   "source": [
    "- (below) our first decision rule will be a probability of 0.5"
   ]
  },
  {
   "cell_type": "code",
   "execution_count": 35,
   "id": "fb5213a4",
   "metadata": {},
   "outputs": [
    {
     "data": {
      "text/plain": [
       "array([False, False, False, ..., False, False, False])"
      ]
     },
     "execution_count": 35,
     "metadata": {},
     "output_type": "execute_result"
    }
   ],
   "source": [
    "phishing_decision = (y_val_pred >= 0.5)\n",
    "phishing_decision"
   ]
  },
  {
   "cell_type": "markdown",
   "id": "de20e234",
   "metadata": {},
   "source": [
    "- (below) our first accuracy measure"
   ]
  },
  {
   "cell_type": "code",
   "execution_count": 36,
   "id": "64b2377d",
   "metadata": {},
   "outputs": [
    {
     "data": {
      "text/plain": [
       "0.7615634051700582"
      ]
     },
     "execution_count": 36,
     "metadata": {},
     "output_type": "execute_result"
    }
   ],
   "source": [
    "(y_val == phishing_decision).mean()"
   ]
  },
  {
   "cell_type": "markdown",
   "id": "86ae3088",
   "metadata": {},
   "source": [
    "#### tune the decision threshold"
   ]
  },
  {
   "cell_type": "code",
   "execution_count": 37,
   "id": "1fc44a0b",
   "metadata": {
    "scrolled": true
   },
   "outputs": [
    {
     "name": "stdout",
     "output_type": "stream",
     "text": [
      "0.00 0.285\n",
      "0.05 0.285\n",
      "0.10 0.285\n",
      "0.15 0.287\n",
      "0.20 0.334\n",
      "0.25 0.576\n",
      "0.30 0.719\n",
      "0.35 0.752\n",
      "0.40 0.762\n",
      "0.45 0.763\n",
      "0.50 0.762\n",
      "0.55 0.759\n",
      "0.60 0.756\n",
      "0.65 0.753\n",
      "0.70 0.750\n",
      "0.75 0.747\n",
      "0.80 0.745\n",
      "0.85 0.742\n",
      "0.90 0.738\n",
      "0.95 0.734\n",
      "1.00 0.715\n"
     ]
    }
   ],
   "source": [
    "thresholds = np.linspace(0, 1, 21)\n",
    "\n",
    "scores = []\n",
    "\n",
    "for t in thresholds:\n",
    "    score = accuracy_score(y_val, y_val_pred >= t)\n",
    "    print('%.2f %.3f' % (t, score))\n",
    "    scores.append(score)"
   ]
  },
  {
   "cell_type": "code",
   "execution_count": 39,
   "id": "5ae9935b",
   "metadata": {
    "scrolled": true
   },
   "outputs": [
    {
     "data": {
      "text/plain": [
       "Text(0, 0.5, 'percent accuracy')"
      ]
     },
     "execution_count": 39,
     "metadata": {},
     "output_type": "execute_result"
    },
    {
     "data": {
      "image/png": "[encoded data removed]",
      "text/plain": [
       "<Figure size 640x480 with 1 Axes>"
      ]
     },
     "metadata": {},
     "output_type": "display_data"
    }
   ],
   "source": [
    "plt.plot(thresholds, scores)\n",
    "\n",
    "plt.xlabel(\"probability threshold for decision\")\n",
    "\n",
    "plt.ylabel(\"percent accuracy\")"
   ]
  },
  {
   "cell_type": "markdown",
   "id": "95fd9917",
   "metadata": {},
   "source": [
    "- (above) looks like 0.45 is a better decision rule."
   ]
  },
  {
   "cell_type": "code",
   "execution_count": 40,
   "id": "88f77aa9",
   "metadata": {},
   "outputs": [
    {
     "data": {
      "text/plain": [
       "array([False, False, False, ..., False, False, False])"
      ]
     },
     "execution_count": 40,
     "metadata": {},
     "output_type": "execute_result"
    }
   ],
   "source": [
    "phishing_decision = (y_val_pred >= 0.45)\n",
    "phishing_decision"
   ]
  },
  {
   "cell_type": "markdown",
   "id": "ff4946c3",
   "metadata": {},
   "source": [
    "- (below) let's make a prediction table"
   ]
  },
  {
   "cell_type": "code",
   "execution_count": 41,
   "id": "51b6cb48",
   "metadata": {},
   "outputs": [
    {
     "data": {
      "text/html": [
       "<div>\n",
       "<style scoped>\n",
       "    .dataframe tbody tr th:only-of-type {\n",
       "        vertical-align: middle;\n",
       "    }\n",
       "\n",
       "    .dataframe tbody tr th {\n",
       "        vertical-align: top;\n",
       "    }\n",
       "\n",
       "    .dataframe thead th {\n",
       "        text-align: right;\n",
       "    }\n",
       "</style>\n",
       "<table border=\"1\" class=\"dataframe\">\n",
       "  <thead>\n",
       "    <tr style=\"text-align: right;\">\n",
       "      <th></th>\n",
       "      <th>probability</th>\n",
       "      <th>prediction</th>\n",
       "      <th>actual</th>\n",
       "      <th>correct</th>\n",
       "    </tr>\n",
       "  </thead>\n",
       "  <tbody>\n",
       "    <tr>\n",
       "      <th>0</th>\n",
       "      <td>0.175660</td>\n",
       "      <td>0</td>\n",
       "      <td>1</td>\n",
       "      <td>False</td>\n",
       "    </tr>\n",
       "    <tr>\n",
       "      <th>1</th>\n",
       "      <td>0.235623</td>\n",
       "      <td>0</td>\n",
       "      <td>0</td>\n",
       "      <td>True</td>\n",
       "    </tr>\n",
       "    <tr>\n",
       "      <th>2</th>\n",
       "      <td>0.265157</td>\n",
       "      <td>0</td>\n",
       "      <td>1</td>\n",
       "      <td>False</td>\n",
       "    </tr>\n",
       "    <tr>\n",
       "      <th>3</th>\n",
       "      <td>0.250126</td>\n",
       "      <td>0</td>\n",
       "      <td>0</td>\n",
       "      <td>True</td>\n",
       "    </tr>\n",
       "    <tr>\n",
       "      <th>4</th>\n",
       "      <td>0.254289</td>\n",
       "      <td>0</td>\n",
       "      <td>1</td>\n",
       "      <td>False</td>\n",
       "    </tr>\n",
       "    <tr>\n",
       "      <th>...</th>\n",
       "      <td>...</td>\n",
       "      <td>...</td>\n",
       "      <td>...</td>\n",
       "      <td>...</td>\n",
       "    </tr>\n",
       "    <tr>\n",
       "      <th>109781</th>\n",
       "      <td>0.212894</td>\n",
       "      <td>0</td>\n",
       "      <td>1</td>\n",
       "      <td>False</td>\n",
       "    </tr>\n",
       "    <tr>\n",
       "      <th>109782</th>\n",
       "      <td>0.335452</td>\n",
       "      <td>0</td>\n",
       "      <td>0</td>\n",
       "      <td>True</td>\n",
       "    </tr>\n",
       "    <tr>\n",
       "      <th>109783</th>\n",
       "      <td>0.245042</td>\n",
       "      <td>0</td>\n",
       "      <td>0</td>\n",
       "      <td>True</td>\n",
       "    </tr>\n",
       "    <tr>\n",
       "      <th>109784</th>\n",
       "      <td>0.234928</td>\n",
       "      <td>0</td>\n",
       "      <td>0</td>\n",
       "      <td>True</td>\n",
       "    </tr>\n",
       "    <tr>\n",
       "      <th>109785</th>\n",
       "      <td>0.202010</td>\n",
       "      <td>0</td>\n",
       "      <td>0</td>\n",
       "      <td>True</td>\n",
       "    </tr>\n",
       "  </tbody>\n",
       "</table>\n",
       "<p>109786 rows × 4 columns</p>\n",
       "</div>"
      ],
      "text/plain": [
       "        probability  prediction  actual  correct\n",
       "0          0.175660           0       1    False\n",
       "1          0.235623           0       0     True\n",
       "2          0.265157           0       1    False\n",
       "3          0.250126           0       0     True\n",
       "4          0.254289           0       1    False\n",
       "...             ...         ...     ...      ...\n",
       "109781     0.212894           0       1    False\n",
       "109782     0.335452           0       0     True\n",
       "109783     0.245042           0       0     True\n",
       "109784     0.234928           0       0     True\n",
       "109785     0.202010           0       0     True\n",
       "\n",
       "[109786 rows x 4 columns]"
      ]
     },
     "execution_count": 41,
     "metadata": {},
     "output_type": "execute_result"
    }
   ],
   "source": [
    "df_pred = pd.DataFrame()\n",
    "df_pred['probability'] = y_val_pred\n",
    "df_pred['prediction'] = phishing_decision.astype(int)\n",
    "df_pred['actual'] = y_val\n",
    "df_pred['correct'] = df_pred.prediction == df_pred.actual\n",
    "df_pred"
   ]
  },
  {
   "cell_type": "code",
   "execution_count": 58,
   "id": "226804c2",
   "metadata": {},
   "outputs": [
    {
     "data": {
      "text/plain": [
       "0.7630207858925546"
      ]
     },
     "execution_count": 58,
     "metadata": {},
     "output_type": "execute_result"
    }
   ],
   "source": [
    "df_pred.correct.mean()"
   ]
  },
  {
   "cell_type": "code",
   "execution_count": 59,
   "id": "24b1fa45",
   "metadata": {},
   "outputs": [
    {
     "data": {
      "text/plain": [
       "0.7630207858925546"
      ]
     },
     "execution_count": 59,
     "metadata": {},
     "output_type": "execute_result"
    }
   ],
   "source": [
    "accuracy_score(y_val, y_val_pred >= 0.45)"
   ]
  },
  {
   "cell_type": "markdown",
   "id": "56cc84cb",
   "metadata": {},
   "source": [
    "- (below) just double-checking that the model was able to predict some phishing sites..."
   ]
  },
  {
   "cell_type": "code",
   "execution_count": 60,
   "id": "371ea105",
   "metadata": {},
   "outputs": [
    {
     "data": {
      "text/html": [
       "<div>\n",
       "<style scoped>\n",
       "    .dataframe tbody tr th:only-of-type {\n",
       "        vertical-align: middle;\n",
       "    }\n",
       "\n",
       "    .dataframe tbody tr th {\n",
       "        vertical-align: top;\n",
       "    }\n",
       "\n",
       "    .dataframe thead th {\n",
       "        text-align: right;\n",
       "    }\n",
       "</style>\n",
       "<table border=\"1\" class=\"dataframe\">\n",
       "  <thead>\n",
       "    <tr style=\"text-align: right;\">\n",
       "      <th></th>\n",
       "      <th>probability</th>\n",
       "      <th>prediction</th>\n",
       "      <th>actual</th>\n",
       "      <th>correct</th>\n",
       "    </tr>\n",
       "  </thead>\n",
       "  <tbody>\n",
       "    <tr>\n",
       "      <th>12</th>\n",
       "      <td>0.999997</td>\n",
       "      <td>1</td>\n",
       "      <td>1</td>\n",
       "      <td>True</td>\n",
       "    </tr>\n",
       "    <tr>\n",
       "      <th>27</th>\n",
       "      <td>0.897044</td>\n",
       "      <td>1</td>\n",
       "      <td>1</td>\n",
       "      <td>True</td>\n",
       "    </tr>\n",
       "    <tr>\n",
       "      <th>29</th>\n",
       "      <td>0.793168</td>\n",
       "      <td>1</td>\n",
       "      <td>1</td>\n",
       "      <td>True</td>\n",
       "    </tr>\n",
       "    <tr>\n",
       "      <th>30</th>\n",
       "      <td>0.966198</td>\n",
       "      <td>1</td>\n",
       "      <td>1</td>\n",
       "      <td>True</td>\n",
       "    </tr>\n",
       "    <tr>\n",
       "      <th>53</th>\n",
       "      <td>0.578677</td>\n",
       "      <td>1</td>\n",
       "      <td>1</td>\n",
       "      <td>True</td>\n",
       "    </tr>\n",
       "    <tr>\n",
       "      <th>...</th>\n",
       "      <td>...</td>\n",
       "      <td>...</td>\n",
       "      <td>...</td>\n",
       "      <td>...</td>\n",
       "    </tr>\n",
       "    <tr>\n",
       "      <th>109692</th>\n",
       "      <td>0.923469</td>\n",
       "      <td>1</td>\n",
       "      <td>1</td>\n",
       "      <td>True</td>\n",
       "    </tr>\n",
       "    <tr>\n",
       "      <th>109695</th>\n",
       "      <td>0.636414</td>\n",
       "      <td>1</td>\n",
       "      <td>1</td>\n",
       "      <td>True</td>\n",
       "    </tr>\n",
       "    <tr>\n",
       "      <th>109709</th>\n",
       "      <td>0.866669</td>\n",
       "      <td>1</td>\n",
       "      <td>1</td>\n",
       "      <td>True</td>\n",
       "    </tr>\n",
       "    <tr>\n",
       "      <th>109762</th>\n",
       "      <td>0.986793</td>\n",
       "      <td>1</td>\n",
       "      <td>1</td>\n",
       "      <td>True</td>\n",
       "    </tr>\n",
       "    <tr>\n",
       "      <th>109773</th>\n",
       "      <td>0.595959</td>\n",
       "      <td>1</td>\n",
       "      <td>1</td>\n",
       "      <td>True</td>\n",
       "    </tr>\n",
       "  </tbody>\n",
       "</table>\n",
       "<p>6312 rows × 4 columns</p>\n",
       "</div>"
      ],
      "text/plain": [
       "        probability  prediction  actual  correct\n",
       "12         0.999997           1       1     True\n",
       "27         0.897044           1       1     True\n",
       "29         0.793168           1       1     True\n",
       "30         0.966198           1       1     True\n",
       "53         0.578677           1       1     True\n",
       "...             ...         ...     ...      ...\n",
       "109692     0.923469           1       1     True\n",
       "109695     0.636414           1       1     True\n",
       "109709     0.866669           1       1     True\n",
       "109762     0.986793           1       1     True\n",
       "109773     0.595959           1       1     True\n",
       "\n",
       "[6312 rows x 4 columns]"
      ]
     },
     "execution_count": 60,
     "metadata": {},
     "output_type": "execute_result"
    }
   ],
   "source": [
    "df_pred[(df_pred['correct'] == True) & (df_pred['prediction'] == 1)]"
   ]
  },
  {
   "cell_type": "markdown",
   "id": "f6a84acf",
   "metadata": {},
   "source": [
    "- (below) there shouldn't be in any predictions with a 1.0 probability."
   ]
  },
  {
   "cell_type": "code",
   "execution_count": 61,
   "id": "04c47356",
   "metadata": {},
   "outputs": [
    {
     "data": {
      "text/plain": [
       "109786"
      ]
     },
     "execution_count": 61,
     "metadata": {},
     "output_type": "execute_result"
    }
   ],
   "source": [
    "len(y_val_pred)"
   ]
  },
  {
   "cell_type": "code",
   "execution_count": 52,
   "id": "f712e857",
   "metadata": {},
   "outputs": [
    {
     "data": {
      "text/plain": [
       "tuple"
      ]
     },
     "execution_count": 52,
     "metadata": {},
     "output_type": "execute_result"
    }
   ],
   "source": [
    "indices = np.where(y_val_pred >= 1.0)\n",
    "type(indices)"
   ]
  },
  {
   "cell_type": "code",
   "execution_count": 54,
   "id": "67aa54fb",
   "metadata": {},
   "outputs": [
    {
     "data": {
      "text/html": [
       "<div>\n",
       "<style scoped>\n",
       "    .dataframe tbody tr th:only-of-type {\n",
       "        vertical-align: middle;\n",
       "    }\n",
       "\n",
       "    .dataframe tbody tr th {\n",
       "        vertical-align: top;\n",
       "    }\n",
       "\n",
       "    .dataframe thead th {\n",
       "        text-align: right;\n",
       "    }\n",
       "</style>\n",
       "<table border=\"1\" class=\"dataframe\">\n",
       "  <thead>\n",
       "    <tr style=\"text-align: right;\">\n",
       "      <th></th>\n",
       "      <th>url_length</th>\n",
       "      <th>num_english_words</th>\n",
       "      <th>punct_count</th>\n",
       "      <th>case_change_count</th>\n",
       "      <th>contains_www</th>\n",
       "      <th>startswith_www</th>\n",
       "      <th>chars_past_www</th>\n",
       "      <th>chars_past_www_above_median</th>\n",
       "      <th>multi_www</th>\n",
       "    </tr>\n",
       "  </thead>\n",
       "  <tbody>\n",
       "    <tr>\n",
       "      <th>1777</th>\n",
       "      <td>1135</td>\n",
       "      <td>4</td>\n",
       "      <td>11</td>\n",
       "      <td>699</td>\n",
       "      <td>0</td>\n",
       "      <td>0</td>\n",
       "      <td>0</td>\n",
       "      <td>0</td>\n",
       "      <td>0</td>\n",
       "    </tr>\n",
       "    <tr>\n",
       "      <th>80975</th>\n",
       "      <td>1060</td>\n",
       "      <td>17</td>\n",
       "      <td>120</td>\n",
       "      <td>453</td>\n",
       "      <td>1</td>\n",
       "      <td>0</td>\n",
       "      <td>473</td>\n",
       "      <td>1</td>\n",
       "      <td>0</td>\n",
       "    </tr>\n",
       "    <tr>\n",
       "      <th>94322</th>\n",
       "      <td>1078</td>\n",
       "      <td>15</td>\n",
       "      <td>132</td>\n",
       "      <td>473</td>\n",
       "      <td>1</td>\n",
       "      <td>0</td>\n",
       "      <td>473</td>\n",
       "      <td>1</td>\n",
       "      <td>0</td>\n",
       "    </tr>\n",
       "    <tr>\n",
       "      <th>106812</th>\n",
       "      <td>1244</td>\n",
       "      <td>34</td>\n",
       "      <td>159</td>\n",
       "      <td>414</td>\n",
       "      <td>1</td>\n",
       "      <td>0</td>\n",
       "      <td>471</td>\n",
       "      <td>1</td>\n",
       "      <td>1</td>\n",
       "    </tr>\n",
       "  </tbody>\n",
       "</table>\n",
       "</div>"
      ],
      "text/plain": [
       "        url_length  num_english_words  punct_count  case_change_count  \\\n",
       "1777          1135                  4           11                699   \n",
       "80975         1060                 17          120                453   \n",
       "94322         1078                 15          132                473   \n",
       "106812        1244                 34          159                414   \n",
       "\n",
       "        contains_www  startswith_www  chars_past_www  \\\n",
       "1777               0               0               0   \n",
       "80975              1               0             473   \n",
       "94322              1               0             473   \n",
       "106812             1               0             471   \n",
       "\n",
       "        chars_past_www_above_median  multi_www  \n",
       "1777                              0          0  \n",
       "80975                             1          0  \n",
       "94322                             1          0  \n",
       "106812                            1          1  "
      ]
     },
     "execution_count": 54,
     "metadata": {},
     "output_type": "execute_result"
    }
   ],
   "source": [
    "df_val.loc[indices]"
   ]
  },
  {
   "cell_type": "code",
   "execution_count": 55,
   "id": "756c6974",
   "metadata": {},
   "outputs": [
    {
     "data": {
      "text/plain": [
       "Counter({False: 109782, True: 4})"
      ]
     },
     "execution_count": 55,
     "metadata": {},
     "output_type": "execute_result"
    }
   ],
   "source": [
    "Counter(y_val_pred >= 1.0)"
   ]
  },
  {
   "cell_type": "markdown",
   "id": "9530eb84",
   "metadata": {},
   "source": [
    "- (below) we need to be aware of class balance."
   ]
  },
  {
   "cell_type": "code",
   "execution_count": 56,
   "id": "33c3fe24",
   "metadata": {},
   "outputs": [
    {
     "name": "stdout",
     "output_type": "stream",
     "text": [
      "non-phishing sites: 78457\n",
      "phishing sites: 31329\n",
      "there are 2.50 times as many non-phishing sites as phishing sites\n"
     ]
    }
   ],
   "source": [
    "print('non-phishing sites: {}' .format(np.bincount(y_val)[0]))\n",
    "print('phishing sites: {}' .format(np.bincount(y_val)[1]))\n",
    "print('there are {:.2f} times as many non-phishing sites as phishing sites'.format(np.bincount(y_val)[0] / np.bincount(y_val)[1]))"
   ]
  },
  {
   "cell_type": "markdown",
   "id": "c8d99385",
   "metadata": {},
   "source": [
    "- (below) accuracy predicting phishing sites..."
   ]
  },
  {
   "cell_type": "code",
   "execution_count": 64,
   "id": "25f938a5",
   "metadata": {},
   "outputs": [
    {
     "data": {
      "text/plain": [
       "0.2014746720291104"
      ]
     },
     "execution_count": 64,
     "metadata": {},
     "output_type": "execute_result"
    }
   ],
   "source": [
    "df_pred[df_pred['actual'] == 1].correct.mean()"
   ]
  },
  {
   "cell_type": "markdown",
   "id": "71204329",
   "metadata": {},
   "source": [
    "- (below) accuracy predicting good sites..."
   ]
  },
  {
   "cell_type": "code",
   "execution_count": 66,
   "id": "b67bb2d2",
   "metadata": {},
   "outputs": [
    {
     "data": {
      "text/plain": [
       "0.9872541647016837"
      ]
     },
     "execution_count": 66,
     "metadata": {},
     "output_type": "execute_result"
    }
   ],
   "source": [
    "df_pred[df_pred['actual'] == 0].correct.mean()"
   ]
  },
  {
   "cell_type": "code",
   "execution_count": 58,
   "id": "88a8fa36",
   "metadata": {},
   "outputs": [],
   "source": [
    "fpr, tpr, thresholds = roc_curve(y_val, y_val_pred)"
   ]
  },
  {
   "cell_type": "code",
   "execution_count": 59,
   "id": "0721ab70",
   "metadata": {},
   "outputs": [
    {
     "data": {
      "text/plain": [
       "<matplotlib.legend.Legend at 0x1b4c2dca700>"
      ]
     },
     "execution_count": 59,
     "metadata": {},
     "output_type": "execute_result"
    },
    {
     "data": {
      "image/png": "[encoded data removed]",
      "text/plain": [
       "<Figure size 500x500 with 1 Axes>"
      ]
     },
     "metadata": {},
     "output_type": "display_data"
    }
   ],
   "source": [
    "plt.figure(figsize=(5, 5))\n",
    "\n",
    "plt.plot(fpr, tpr, label='Model')\n",
    "plt.plot([0, 1], [0, 1], label='Random', linestyle='--')\n",
    "\n",
    "plt.xlabel('FPR')\n",
    "plt.ylabel('TPR')\n",
    "\n",
    "plt.legend()"
   ]
  },
  {
   "cell_type": "code",
   "execution_count": 62,
   "id": "f00ece75",
   "metadata": {},
   "outputs": [
    {
     "data": {
      "text/plain": [
       "0.6172599591401042"
      ]
     },
     "execution_count": 62,
     "metadata": {},
     "output_type": "execute_result"
    }
   ],
   "source": [
    "auc(fpr, tpr)"
   ]
  },
  {
   "cell_type": "code",
   "execution_count": 65,
   "id": "021658a6",
   "metadata": {},
   "outputs": [
    {
     "data": {
      "text/plain": [
       "0.6172599591401042"
      ]
     },
     "execution_count": 65,
     "metadata": {},
     "output_type": "execute_result"
    }
   ],
   "source": [
    "roc_auc_score(y_val, y_val_pred)"
   ]
  },
  {
   "cell_type": "code",
   "execution_count": 66,
   "id": "aedf349d",
   "metadata": {},
   "outputs": [
    {
     "name": "stdout",
     "output_type": "stream",
     "text": [
      "Help on class LogisticRegression in module sklearn.linear_model._logistic:\n",
      "\n",
      "class LogisticRegression(sklearn.linear_model._base.LinearClassifierMixin, sklearn.linear_model._base.SparseCoefMixin, sklearn.base.BaseEstimator)\n",
      " |  LogisticRegression(penalty='l2', *, dual=False, tol=0.0001, C=1.0, fit_intercept=True, intercept_scaling=1, class_weight=None, random_state=None, solver='lbfgs', max_iter=100, multi_class='auto', verbose=0, warm_start=False, n_jobs=None, l1_ratio=None)\n",
      " |  \n",
      " |  Logistic Regression (aka logit, MaxEnt) classifier.\n",
      " |  \n",
      " |  In the multiclass case, the training algorithm uses the one-vs-rest (OvR)\n",
      " |  scheme if the 'multi_class' option is set to 'ovr', and uses the\n",
      " |  cross-entropy loss if the 'multi_class' option is set to 'multinomial'.\n",
      " |  (Currently the 'multinomial' option is supported only by the 'lbfgs',\n",
      " |  'sag', 'saga' and 'newton-cg' solvers.)\n",
      " |  \n",
      " |  This class implements regularized logistic regression using the\n",
      " |  'liblinear' library, 'newton-cg', 'sag', 'saga' and 'lbfgs' solvers. **Note\n",
      " |  that regularization is applied by default**. It can handle both dense\n",
      " |  and sparse input. Use C-ordered arrays or CSR matrices containing 64-bit\n",
      " |  floats for optimal performance; any other input format will be converted\n",
      " |  (and copied).\n",
      " |  \n",
      " |  The 'newton-cg', 'sag', and 'lbfgs' solvers support only L2 regularization\n",
      " |  with primal formulation, or no regularization. The 'liblinear' solver\n",
      " |  supports both L1 and L2 regularization, with a dual formulation only for\n",
      " |  the L2 penalty. The Elastic-Net regularization is only supported by the\n",
      " |  'saga' solver.\n",
      " |  \n",
      " |  Read more in the :ref:`User Guide <logistic_regression>`.\n",
      " |  \n",
      " |  Parameters\n",
      " |  ----------\n",
      " |  penalty : {'l1', 'l2', 'elasticnet', 'none'}, default='l2'\n",
      " |      Specify the norm of the penalty:\n",
      " |  \n",
      " |      - `'none'`: no penalty is added;\n",
      " |      - `'l2'`: add a L2 penalty term and it is the default choice;\n",
      " |      - `'l1'`: add a L1 penalty term;\n",
      " |      - `'elasticnet'`: both L1 and L2 penalty terms are added.\n",
      " |  \n",
      " |      .. warning::\n",
      " |         Some penalties may not work with some solvers. See the parameter\n",
      " |         `solver` below, to know the compatibility between the penalty and\n",
      " |         solver.\n",
      " |  \n",
      " |      .. versionadded:: 0.19\n",
      " |         l1 penalty with SAGA solver (allowing 'multinomial' + L1)\n",
      " |  \n",
      " |  dual : bool, default=False\n",
      " |      Dual or primal formulation. Dual formulation is only implemented for\n",
      " |      l2 penalty with liblinear solver. Prefer dual=False when\n",
      " |      n_samples > n_features.\n",
      " |  \n",
      " |  tol : float, default=1e-4\n",
      " |      Tolerance for stopping criteria.\n",
      " |  \n",
      " |  C : float, default=1.0\n",
      " |      Inverse of regularization strength; must be a positive float.\n",
      " |      Like in support vector machines, smaller values specify stronger\n",
      " |      regularization.\n",
      " |  \n",
      " |  fit_intercept : bool, default=True\n",
      " |      Specifies if a constant (a.k.a. bias or intercept) should be\n",
      " |      added to the decision function.\n",
      " |  \n",
      " |  intercept_scaling : float, default=1\n",
      " |      Useful only when the solver 'liblinear' is used\n",
      " |      and self.fit_intercept is set to True. In this case, x becomes\n",
      " |      [x, self.intercept_scaling],\n",
      " |      i.e. a \"synthetic\" feature with constant value equal to\n",
      " |      intercept_scaling is appended to the instance vector.\n",
      " |      The intercept becomes ``intercept_scaling * synthetic_feature_weight``.\n",
      " |  \n",
      " |      Note! the synthetic feature weight is subject to l1/l2 regularization\n",
      " |      as all other features.\n",
      " |      To lessen the effect of regularization on synthetic feature weight\n",
      " |      (and therefore on the intercept) intercept_scaling has to be increased.\n",
      " |  \n",
      " |  class_weight : dict or 'balanced', default=None\n",
      " |      Weights associated with classes in the form ``{class_label: weight}``.\n",
      " |      If not given, all classes are supposed to have weight one.\n",
      " |  \n",
      " |      The \"balanced\" mode uses the values of y to automatically adjust\n",
      " |      weights inversely proportional to class frequencies in the input data\n",
      " |      as ``n_samples / (n_classes * np.bincount(y))``.\n",
      " |  \n",
      " |      Note that these weights will be multiplied with sample_weight (passed\n",
      " |      through the fit method) if sample_weight is specified.\n",
      " |  \n",
      " |      .. versionadded:: 0.17\n",
      " |         *class_weight='balanced'*\n",
      " |  \n",
      " |  random_state : int, RandomState instance, default=None\n",
      " |      Used when ``solver`` == 'sag', 'saga' or 'liblinear' to shuffle the\n",
      " |      data. See :term:`Glossary <random_state>` for details.\n",
      " |  \n",
      " |  solver : {'newton-cg', 'lbfgs', 'liblinear', 'sag', 'saga'},             default='lbfgs'\n",
      " |  \n",
      " |      Algorithm to use in the optimization problem. Default is 'lbfgs'.\n",
      " |      To choose a solver, you might want to consider the following aspects:\n",
      " |  \n",
      " |          - For small datasets, 'liblinear' is a good choice, whereas 'sag'\n",
      " |            and 'saga' are faster for large ones;\n",
      " |          - For multiclass problems, only 'newton-cg', 'sag', 'saga' and\n",
      " |            'lbfgs' handle multinomial loss;\n",
      " |          - 'liblinear' is limited to one-versus-rest schemes.\n",
      " |  \n",
      " |      .. warning::\n",
      " |         The choice of the algorithm depends on the penalty chosen:\n",
      " |         Supported penalties by solver:\n",
      " |  \n",
      " |         - 'newton-cg'   -   ['l2', 'none']\n",
      " |         - 'lbfgs'       -   ['l2', 'none']\n",
      " |         - 'liblinear'   -   ['l1', 'l2']\n",
      " |         - 'sag'         -   ['l2', 'none']\n",
      " |         - 'saga'        -   ['elasticnet', 'l1', 'l2', 'none']\n",
      " |  \n",
      " |      .. note::\n",
      " |         'sag' and 'saga' fast convergence is only guaranteed on\n",
      " |         features with approximately the same scale. You can\n",
      " |         preprocess the data with a scaler from :mod:`sklearn.preprocessing`.\n",
      " |  \n",
      " |      .. seealso::\n",
      " |         Refer to the User Guide for more information regarding\n",
      " |         :class:`LogisticRegression` and more specifically the\n",
      " |         :ref:`Table <Logistic_regression>`\n",
      " |         summarizing solver/penalty supports.\n",
      " |  \n",
      " |      .. versionadded:: 0.17\n",
      " |         Stochastic Average Gradient descent solver.\n",
      " |      .. versionadded:: 0.19\n",
      " |         SAGA solver.\n",
      " |      .. versionchanged:: 0.22\n",
      " |          The default solver changed from 'liblinear' to 'lbfgs' in 0.22.\n",
      " |  \n",
      " |  max_iter : int, default=100\n",
      " |      Maximum number of iterations taken for the solvers to converge.\n",
      " |  \n",
      " |  multi_class : {'auto', 'ovr', 'multinomial'}, default='auto'\n",
      " |      If the option chosen is 'ovr', then a binary problem is fit for each\n",
      " |      label. For 'multinomial' the loss minimised is the multinomial loss fit\n",
      " |      across the entire probability distribution, *even when the data is\n",
      " |      binary*. 'multinomial' is unavailable when solver='liblinear'.\n",
      " |      'auto' selects 'ovr' if the data is binary, or if solver='liblinear',\n",
      " |      and otherwise selects 'multinomial'.\n",
      " |  \n",
      " |      .. versionadded:: 0.18\n",
      " |         Stochastic Average Gradient descent solver for 'multinomial' case.\n",
      " |      .. versionchanged:: 0.22\n",
      " |          Default changed from 'ovr' to 'auto' in 0.22.\n",
      " |  \n",
      " |  verbose : int, default=0\n",
      " |      For the liblinear and lbfgs solvers set verbose to any positive\n",
      " |      number for verbosity.\n",
      " |  \n",
      " |  warm_start : bool, default=False\n",
      " |      When set to True, reuse the solution of the previous call to fit as\n",
      " |      initialization, otherwise, just erase the previous solution.\n",
      " |      Useless for liblinear solver. See :term:`the Glossary <warm_start>`.\n",
      " |  \n",
      " |      .. versionadded:: 0.17\n",
      " |         *warm_start* to support *lbfgs*, *newton-cg*, *sag*, *saga* solvers.\n",
      " |  \n",
      " |  n_jobs : int, default=None\n",
      " |      Number of CPU cores used when parallelizing over classes if\n",
      " |      multi_class='ovr'\". This parameter is ignored when the ``solver`` is\n",
      " |      set to 'liblinear' regardless of whether 'multi_class' is specified or\n",
      " |      not. ``None`` means 1 unless in a :obj:`joblib.parallel_backend`\n",
      " |      context. ``-1`` means using all processors.\n",
      " |      See :term:`Glossary <n_jobs>` for more details.\n",
      " |  \n",
      " |  l1_ratio : float, default=None\n",
      " |      The Elastic-Net mixing parameter, with ``0 <= l1_ratio <= 1``. Only\n",
      " |      used if ``penalty='elasticnet'``. Setting ``l1_ratio=0`` is equivalent\n",
      " |      to using ``penalty='l2'``, while setting ``l1_ratio=1`` is equivalent\n",
      " |      to using ``penalty='l1'``. For ``0 < l1_ratio <1``, the penalty is a\n",
      " |      combination of L1 and L2.\n",
      " |  \n",
      " |  Attributes\n",
      " |  ----------\n",
      " |  \n",
      " |  classes_ : ndarray of shape (n_classes, )\n",
      " |      A list of class labels known to the classifier.\n",
      " |  \n",
      " |  coef_ : ndarray of shape (1, n_features) or (n_classes, n_features)\n",
      " |      Coefficient of the features in the decision function.\n",
      " |  \n",
      " |      `coef_` is of shape (1, n_features) when the given problem is binary.\n",
      " |      In particular, when `multi_class='multinomial'`, `coef_` corresponds\n",
      " |      to outcome 1 (True) and `-coef_` corresponds to outcome 0 (False).\n",
      " |  \n",
      " |  intercept_ : ndarray of shape (1,) or (n_classes,)\n",
      " |      Intercept (a.k.a. bias) added to the decision function.\n",
      " |  \n",
      " |      If `fit_intercept` is set to False, the intercept is set to zero.\n",
      " |      `intercept_` is of shape (1,) when the given problem is binary.\n",
      " |      In particular, when `multi_class='multinomial'`, `intercept_`\n",
      " |      corresponds to outcome 1 (True) and `-intercept_` corresponds to\n",
      " |      outcome 0 (False).\n",
      " |  \n",
      " |  n_features_in_ : int\n",
      " |      Number of features seen during :term:`fit`.\n",
      " |  \n",
      " |      .. versionadded:: 0.24\n",
      " |  \n",
      " |  feature_names_in_ : ndarray of shape (`n_features_in_`,)\n",
      " |      Names of features seen during :term:`fit`. Defined only when `X`\n",
      " |      has feature names that are all strings.\n",
      " |  \n",
      " |      .. versionadded:: 1.0\n",
      " |  \n",
      " |  n_iter_ : ndarray of shape (n_classes,) or (1, )\n",
      " |      Actual number of iterations for all classes. If binary or multinomial,\n",
      " |      it returns only 1 element. For liblinear solver, only the maximum\n",
      " |      number of iteration across all classes is given.\n",
      " |  \n",
      " |      .. versionchanged:: 0.20\n",
      " |  \n",
      " |          In SciPy <= 1.0.0 the number of lbfgs iterations may exceed\n",
      " |          ``max_iter``. ``n_iter_`` will now report at most ``max_iter``.\n",
      " |  \n",
      " |  See Also\n",
      " |  --------\n",
      " |  SGDClassifier : Incrementally trained logistic regression (when given\n",
      " |      the parameter ``loss=\"log\"``).\n",
      " |  LogisticRegressionCV : Logistic regression with built-in cross validation.\n",
      " |  \n",
      " |  Notes\n",
      " |  -----\n",
      " |  The underlying C implementation uses a random number generator to\n",
      " |  select features when fitting the model. It is thus not uncommon,\n",
      " |  to have slightly different results for the same input data. If\n",
      " |  that happens, try with a smaller tol parameter.\n",
      " |  \n",
      " |  Predict output may not match that of standalone liblinear in certain\n",
      " |  cases. See :ref:`differences from liblinear <liblinear_differences>`\n",
      " |  in the narrative documentation.\n",
      " |  \n",
      " |  References\n",
      " |  ----------\n",
      " |  \n",
      " |  L-BFGS-B -- Software for Large-scale Bound-constrained Optimization\n",
      " |      Ciyou Zhu, Richard Byrd, Jorge Nocedal and Jose Luis Morales.\n",
      " |      http://users.iems.northwestern.edu/~nocedal/lbfgsb.html\n",
      " |  \n",
      " |  LIBLINEAR -- A Library for Large Linear Classification\n",
      " |      https://www.csie.ntu.edu.tw/~cjlin/liblinear/\n",
      " |  \n",
      " |  SAG -- Mark Schmidt, Nicolas Le Roux, and Francis Bach\n",
      " |      Minimizing Finite Sums with the Stochastic Average Gradient\n",
      " |      https://hal.inria.fr/hal-00860051/document\n",
      " |  \n",
      " |  SAGA -- Defazio, A., Bach F. & Lacoste-Julien S. (2014).\n",
      " |          :arxiv:`\"SAGA: A Fast Incremental Gradient Method With Support\n",
      " |          for Non-Strongly Convex Composite Objectives\" <1407.0202>`\n",
      " |  \n",
      " |  Hsiang-Fu Yu, Fang-Lan Huang, Chih-Jen Lin (2011). Dual coordinate descent\n",
      " |      methods for logistic regression and maximum entropy models.\n",
      " |      Machine Learning 85(1-2):41-75.\n",
      " |      https://www.csie.ntu.edu.tw/~cjlin/papers/maxent_dual.pdf\n",
      " |  \n",
      " |  Examples\n",
      " |  --------\n",
      " |  >>> from sklearn.datasets import load_iris\n",
      " |  >>> from sklearn.linear_model import LogisticRegression\n",
      " |  >>> X, y = load_iris(return_X_y=True)\n",
      " |  >>> clf = LogisticRegression(random_state=0).fit(X, y)\n",
      " |  >>> clf.predict(X[:2, :])\n",
      " |  array([0, 0])\n",
      " |  >>> clf.predict_proba(X[:2, :])\n",
      " |  array([[9.8...e-01, 1.8...e-02, 1.4...e-08],\n",
      " |         [9.7...e-01, 2.8...e-02, ...e-08]])\n",
      " |  >>> clf.score(X, y)\n",
      " |  0.97...\n",
      " |  \n",
      " |  Method resolution order:\n",
      " |      LogisticRegression\n",
      " |      sklearn.linear_model._base.LinearClassifierMixin\n",
      " |      sklearn.base.ClassifierMixin\n",
      " |      sklearn.linear_model._base.SparseCoefMixin\n",
      " |      sklearn.base.BaseEstimator\n",
      " |      builtins.object\n",
      " |  \n",
      " |  Methods defined here:\n",
      " |  \n",
      " |  __init__(self, penalty='l2', *, dual=False, tol=0.0001, C=1.0, fit_intercept=True, intercept_scaling=1, class_weight=None, random_state=None, solver='lbfgs', max_iter=100, multi_class='auto', verbose=0, warm_start=False, n_jobs=None, l1_ratio=None)\n",
      " |      Initialize self.  See help(type(self)) for accurate signature.\n",
      " |  \n",
      " |  fit(self, X, y, sample_weight=None)\n",
      " |      Fit the model according to the given training data.\n",
      " |      \n",
      " |      Parameters\n",
      " |      ----------\n",
      " |      X : {array-like, sparse matrix} of shape (n_samples, n_features)\n",
      " |          Training vector, where `n_samples` is the number of samples and\n",
      " |          `n_features` is the number of features.\n",
      " |      \n",
      " |      y : array-like of shape (n_samples,)\n",
      " |          Target vector relative to X.\n",
      " |      \n",
      " |      sample_weight : array-like of shape (n_samples,) default=None\n",
      " |          Array of weights that are assigned to individual samples.\n",
      " |          If not provided, then each sample is given unit weight.\n",
      " |      \n",
      " |          .. versionadded:: 0.17\n",
      " |             *sample_weight* support to LogisticRegression.\n",
      " |      \n",
      " |      Returns\n",
      " |      -------\n",
      " |      self\n",
      " |          Fitted estimator.\n",
      " |      \n",
      " |      Notes\n",
      " |      -----\n",
      " |      The SAGA solver supports both float64 and float32 bit arrays.\n",
      " |  \n",
      " |  predict_log_proba(self, X)\n",
      " |      Predict logarithm of probability estimates.\n",
      " |      \n",
      " |      The returned estimates for all classes are ordered by the\n",
      " |      label of classes.\n",
      " |      \n",
      " |      Parameters\n",
      " |      ----------\n",
      " |      X : array-like of shape (n_samples, n_features)\n",
      " |          Vector to be scored, where `n_samples` is the number of samples and\n",
      " |          `n_features` is the number of features.\n",
      " |      \n",
      " |      Returns\n",
      " |      -------\n",
      " |      T : array-like of shape (n_samples, n_classes)\n",
      " |          Returns the log-probability of the sample for each class in the\n",
      " |          model, where classes are ordered as they are in ``self.classes_``.\n",
      " |  \n",
      " |  predict_proba(self, X)\n",
      " |      Probability estimates.\n",
      " |      \n",
      " |      The returned estimates for all classes are ordered by the\n",
      " |      label of classes.\n",
      " |      \n",
      " |      For a multi_class problem, if multi_class is set to be \"multinomial\"\n",
      " |      the softmax function is used to find the predicted probability of\n",
      " |      each class.\n",
      " |      Else use a one-vs-rest approach, i.e calculate the probability\n",
      " |      of each class assuming it to be positive using the logistic function.\n",
      " |      and normalize these values across all the classes.\n",
      " |      \n",
      " |      Parameters\n",
      " |      ----------\n",
      " |      X : array-like of shape (n_samples, n_features)\n",
      " |          Vector to be scored, where `n_samples` is the number of samples and\n",
      " |          `n_features` is the number of features.\n",
      " |      \n",
      " |      Returns\n",
      " |      -------\n",
      " |      T : array-like of shape (n_samples, n_classes)\n",
      " |          Returns the probability of the sample for each class in the model,\n",
      " |          where classes are ordered as they are in ``self.classes_``.\n",
      " |  \n",
      " |  ----------------------------------------------------------------------\n",
      " |  Methods inherited from sklearn.linear_model._base.LinearClassifierMixin:\n",
      " |  \n",
      " |  decision_function(self, X)\n",
      " |      Predict confidence scores for samples.\n",
      " |      \n",
      " |      The confidence score for a sample is proportional to the signed\n",
      " |      distance of that sample to the hyperplane.\n",
      " |      \n",
      " |      Parameters\n",
      " |      ----------\n",
      " |      X : {array-like, sparse matrix} of shape (n_samples, n_features)\n",
      " |          The data matrix for which we want to get the confidence scores.\n",
      " |      \n",
      " |      Returns\n",
      " |      -------\n",
      " |      scores : ndarray of shape (n_samples,) or (n_samples, n_classes)\n",
      " |          Confidence scores per `(n_samples, n_classes)` combination. In the\n",
      " |          binary case, confidence score for `self.classes_[1]` where >0 means\n",
      " |          this class would be predicted.\n",
      " |  \n",
      " |  predict(self, X)\n",
      " |      Predict class labels for samples in X.\n",
      " |      \n",
      " |      Parameters\n",
      " |      ----------\n",
      " |      X : {array-like, sparse matrix} of shape (n_samples, n_features)\n",
      " |          The data matrix for which we want to get the predictions.\n",
      " |      \n",
      " |      Returns\n",
      " |      -------\n",
      " |      y_pred : ndarray of shape (n_samples,)\n",
      " |          Vector containing the class labels for each sample.\n",
      " |  \n",
      " |  ----------------------------------------------------------------------\n",
      " |  Methods inherited from sklearn.base.ClassifierMixin:\n",
      " |  \n",
      " |  score(self, X, y, sample_weight=None)\n",
      " |      Return the mean accuracy on the given test data and labels.\n",
      " |      \n",
      " |      In multi-label classification, this is the subset accuracy\n",
      " |      which is a harsh metric since you require for each sample that\n",
      " |      each label set be correctly predicted.\n",
      " |      \n",
      " |      Parameters\n",
      " |      ----------\n",
      " |      X : array-like of shape (n_samples, n_features)\n",
      " |          Test samples.\n",
      " |      \n",
      " |      y : array-like of shape (n_samples,) or (n_samples, n_outputs)\n",
      " |          True labels for `X`.\n",
      " |      \n",
      " |      sample_weight : array-like of shape (n_samples,), default=None\n",
      " |          Sample weights.\n",
      " |      \n",
      " |      Returns\n",
      " |      -------\n",
      " |      score : float\n",
      " |          Mean accuracy of ``self.predict(X)`` wrt. `y`.\n",
      " |  \n",
      " |  ----------------------------------------------------------------------\n",
      " |  Data descriptors inherited from sklearn.base.ClassifierMixin:\n",
      " |  \n",
      " |  __dict__\n",
      " |      dictionary for instance variables (if defined)\n",
      " |  \n",
      " |  __weakref__\n",
      " |      list of weak references to the object (if defined)\n",
      " |  \n",
      " |  ----------------------------------------------------------------------\n",
      " |  Methods inherited from sklearn.linear_model._base.SparseCoefMixin:\n",
      " |  \n",
      " |  densify(self)\n",
      " |      Convert coefficient matrix to dense array format.\n",
      " |      \n",
      " |      Converts the ``coef_`` member (back) to a numpy.ndarray. This is the\n",
      " |      default format of ``coef_`` and is required for fitting, so calling\n",
      " |      this method is only required on models that have previously been\n",
      " |      sparsified; otherwise, it is a no-op.\n",
      " |      \n",
      " |      Returns\n",
      " |      -------\n",
      " |      self\n",
      " |          Fitted estimator.\n",
      " |  \n",
      " |  sparsify(self)\n",
      " |      Convert coefficient matrix to sparse format.\n",
      " |      \n",
      " |      Converts the ``coef_`` member to a scipy.sparse matrix, which for\n",
      " |      L1-regularized models can be much more memory- and storage-efficient\n",
      " |      than the usual numpy.ndarray representation.\n",
      " |      \n",
      " |      The ``intercept_`` member is not converted.\n",
      " |      \n",
      " |      Returns\n",
      " |      -------\n",
      " |      self\n",
      " |          Fitted estimator.\n",
      " |      \n",
      " |      Notes\n",
      " |      -----\n",
      " |      For non-sparse models, i.e. when there are not many zeros in ``coef_``,\n",
      " |      this may actually *increase* memory usage, so use this method with\n",
      " |      care. A rule of thumb is that the number of zero elements, which can\n",
      " |      be computed with ``(coef_ == 0).sum()``, must be more than 50% for this\n",
      " |      to provide significant benefits.\n",
      " |      \n",
      " |      After calling this method, further fitting with the partial_fit\n",
      " |      method (if any) will not work until you call densify.\n",
      " |  \n",
      " |  ----------------------------------------------------------------------\n",
      " |  Methods inherited from sklearn.base.BaseEstimator:\n",
      " |  \n",
      " |  __getstate__(self)\n",
      " |  \n",
      " |  __repr__(self, N_CHAR_MAX=700)\n",
      " |      Return repr(self).\n",
      " |  \n",
      " |  __setstate__(self, state)\n",
      " |  \n",
      " |  get_params(self, deep=True)\n",
      " |      Get parameters for this estimator.\n",
      " |      \n",
      " |      Parameters\n",
      " |      ----------\n",
      " |      deep : bool, default=True\n",
      " |          If True, will return the parameters for this estimator and\n",
      " |          contained subobjects that are estimators.\n",
      " |      \n",
      " |      Returns\n",
      " |      -------\n",
      " |      params : dict\n",
      " |          Parameter names mapped to their values.\n",
      " |  \n",
      " |  set_params(self, **params)\n",
      " |      Set the parameters of this estimator.\n",
      " |      \n",
      " |      The method works on simple estimators as well as on nested objects\n",
      " |      (such as :class:`~sklearn.pipeline.Pipeline`). The latter have\n",
      " |      parameters of the form ``<component>__<parameter>`` so that it's\n",
      " |      possible to update each component of a nested object.\n",
      " |      \n",
      " |      Parameters\n",
      " |      ----------\n",
      " |      **params : dict\n",
      " |          Estimator parameters.\n",
      " |      \n",
      " |      Returns\n",
      " |      -------\n",
      " |      self : estimator instance\n",
      " |          Estimator instance.\n",
      "\n"
     ]
    }
   ],
   "source": [
    "help(LogisticRegression)"
   ]
  },
  {
   "cell_type": "code",
   "execution_count": 76,
   "id": "2cfd1f8a",
   "metadata": {},
   "outputs": [],
   "source": [
    "def train(df_train, y_train, C=1.0):\n",
    "\n",
    "    X_train = df_train.values\n",
    "\n",
    "    model = LogisticRegression(C=C, max_iter=1000)\n",
    "    model.fit(X_train, y_train)\n",
    "    \n",
    "    return model"
   ]
  },
  {
   "cell_type": "code",
   "execution_count": 77,
   "id": "bbc95ce0",
   "metadata": {},
   "outputs": [],
   "source": [
    "model = train(df_train, y_train, C=0.001)"
   ]
  },
  {
   "cell_type": "code",
   "execution_count": 78,
   "id": "c6553102",
   "metadata": {},
   "outputs": [],
   "source": [
    "def predict(df, model):\n",
    "\n",
    "    X = df.values\n",
    "    y_pred = model.predict_proba(X)[:, 1]\n",
    "\n",
    "    return y_pred"
   ]
  },
  {
   "cell_type": "code",
   "execution_count": 80,
   "id": "95cf7ddf",
   "metadata": {},
   "outputs": [
    {
     "data": {
      "application/vnd.jupyter.widget-view+json": {
       "model_id": "d2354dea562d4f538b8e3fbe8c92b689",
       "version_major": 2,
       "version_minor": 0
      },
      "text/plain": [
       "  0%|          | 0/7 [00:00<?, ?it/s]"
      ]
     },
     "metadata": {},
     "output_type": "display_data"
    },
    {
     "name": "stdout",
     "output_type": "stream",
     "text": [
      "C=0.001 1.000 +- 0.000\n",
      "C=0.01 1.000 +- 0.000\n",
      "C=0.1 1.000 +- 0.000\n",
      "C=0.5 1.000 +- 0.000\n",
      "C=1 1.000 +- 0.000\n",
      "C=5 1.000 +- 0.000\n",
      "C=10 1.000 +- 0.000\n"
     ]
    }
   ],
   "source": [
    "n_splits = 5\n",
    "# Here we're using K fold to tune the C parameter.\n",
    "# lower values of C are STRONGER regularization\n",
    "\n",
    "for C in tqdm([0.001, 0.01, 0.1, 0.5, 1, 5, 10]):\n",
    "    kfold = KFold(n_splits=n_splits, shuffle=True, random_state=1)\n",
    "\n",
    "    scores = []\n",
    "\n",
    "    for train_idx, val_idx in kfold.split(df_full_train):\n",
    "        df_train = df_full_train.iloc[train_idx]\n",
    "        df_val = df_full_train.iloc[val_idx]\n",
    "\n",
    "        y_train = df_train.phishing.values\n",
    "        y_val = df_val.phishing.values\n",
    "\n",
    "        model = train(df_train, y_train, C=C)\n",
    "        y_pred = predict(df_val, model)\n",
    "\n",
    "        auc = roc_auc_score(y_val, y_pred)\n",
    "        scores.append(auc)\n",
    "\n",
    "    print('C=%s %.3f +- %.3f' % (C, np.mean(scores), np.std(scores)))"
   ]
  },
  {
   "cell_type": "code",
   "execution_count": null,
   "id": "a96a8f52",
   "metadata": {},
   "outputs": [],
   "source": []
  }
 ],
 "metadata": {
  "kernelspec": {
   "display_name": "Python 3 (ipykernel)",
   "language": "python",
   "name": "python3"
  },
  "language_info": {
   "codemirror_mode": {
    "name": "ipython",
    "version": 3
   },
   "file_extension": ".py",
   "mimetype": "text/x-python",
   "name": "python",
   "nbconvert_exporter": "python",
   "pygments_lexer": "ipython3",
   "version": "3.8.13"
  },
  "vscode": {
   "interpreter": {
    "hash": "bc2249dff466c48f59b9dc33c496cb319cb74371033d7aa292654498ab50b6de"
   }
  }
 },
 "nbformat": 4,
 "nbformat_minor": 5
}
